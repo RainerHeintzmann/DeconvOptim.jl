{
 "cells": [
  {
   "cell_type": "code",
   "execution_count": 2,
   "metadata": {},
   "outputs": [
    {
     "name": "stderr",
     "output_type": "stream",
     "text": [
      "┌ Info: Precompiling DeconvOptim [03e7cd2f-1a03-4ea9-b59b-760a446df67f]\n",
      "└ @ Base loading.jl:1278\n",
      "WARNING: both Plots and DeconvOptim export \"GR\"; uses of it in module Main must be qualified\n"
     ]
    }
   ],
   "source": [
    "using Revise\n",
    "using FFTW, Optim, Images, ImageView, TestImages\n",
    "using Noise\n",
    "using DeconvOptim\n",
    "using Statistics\n",
    "using BenchmarkTools\n",
    "using Deconvolution\n",
    "using Zygote\n",
    "using Tullio\n",
    "using Plots\n",
    "#BenchmarkTools.DEFAULT_PARAMETERS.samples = 10\n",
    "#BenchmarkTools.DEFAULT_PARAMETERS.seconds = 100"
   ]
  },
  {
   "cell_type": "markdown",
   "metadata": {},
   "source": [
    "## Load the donut data and estimate PSF for it"
   ]
  },
  {
   "cell_type": "code",
   "execution_count": 2,
   "metadata": {},
   "outputs": [
    {
     "name": "stderr",
     "output_type": "stream",
     "text": [
      "┌ Info: Precompiling ImageMagick [6218d12a-5da1-5696-b52f-db25d2ecc6d1]\n",
      "└ @ Base loading.jl:1278\n",
      "┌ Warning: some versions of ImageMagick give spurious low-order bits for 32-bit TIFFs\n",
      "└ @ ImageMagick /home/fxw/.julia/packages/ImageMagick/0LwpT/src/ImageMagick.jl:100\n"
     ]
    },
    {
     "data": {
      "text/plain": [
       "600×600×5 Array{Float32,3}:\n",
       "[:, :, 1] =\n",
       " 0.00181582   0.0012665    …  1.5259f-5  0.000366217  0.0012665\n",
       " 0.0012665    0.000854505     0.0        0.000213626  0.000854505\n",
       " 0.000350958  0.000213626     1.5259f-5  3.0518f-5    0.000213626\n",
       " 0.0          0.0             3.0518f-5  1.5259f-5    0.0\n",
       " 3.0518f-5    3.0518f-5       1.5259f-5  3.0518f-5    3.0518f-5\n",
       " 1.5259f-5    1.5259f-5    …  0.0        0.0          1.5259f-5\n",
       " 0.0          0.0             0.0        0.0          0.0\n",
       " 0.0          0.0             0.0        0.0          0.0\n",
       " 0.0          0.0             0.0        0.0          0.0\n",
       " 0.0          0.0             0.0        0.0          0.0\n",
       " 0.0          0.0          …  0.0        0.0          0.0\n",
       " 0.0          0.0             0.0        0.0          0.0\n",
       " 0.0          0.0             0.0        0.0          0.0\n",
       " ⋮                         ⋱                          \n",
       " 0.0          0.0             0.0        0.0          0.0\n",
       " 0.0          0.0             0.0        0.0          0.0\n",
       " 0.0          0.0          …  0.0        0.0          0.0\n",
       " 0.0          0.0             0.0        0.0          0.0\n",
       " 0.0          0.0             0.0        0.0          0.0\n",
       " 0.0          0.0             0.0        0.0          0.0\n",
       " 0.0          0.0             0.0        0.0          0.0\n",
       " 1.5259f-5    1.5259f-5    …  0.0        0.0          1.5259f-5\n",
       " 3.0518f-5    3.0518f-5       1.5259f-5  3.0518f-5    3.0518f-5\n",
       " 1.5259f-5    0.0             3.0518f-5  1.5259f-5    0.0\n",
       " 0.000366217  0.000228885     1.5259f-5  3.0518f-5    0.000213626\n",
       " 0.0012665    0.000869764     0.0        0.000213626  0.000854505\n",
       "\n",
       "[:, :, 2] =\n",
       " 0.00164797   0.00117494   0.000350958  …  0.000320439  0.00112917\n",
       " 0.00115969   0.000808728  0.000228885     0.000213626  0.00077821\n",
       " 0.000350958  0.000213626  4.57771f-5      4.57771f-5   0.000213626\n",
       " 3.0518f-5    3.0518f-5    3.0518f-5       3.0518f-5    3.0518f-5\n",
       " 4.57771f-5   4.57771f-5   4.57771f-5      4.57771f-5   4.57771f-5\n",
       " 1.5259f-5    1.5259f-5    1.5259f-5    …  1.5259f-5    1.5259f-5\n",
       " 0.0          0.0          0.0             0.0          0.0\n",
       " 1.5259f-5    1.5259f-5    1.5259f-5       0.0          1.5259f-5\n",
       " 0.0          0.0          0.0             0.0          0.0\n",
       " 0.0          0.0          0.0             0.0          0.0\n",
       " 0.0          0.0          0.0          …  0.0          0.0\n",
       " 0.0          0.0          0.0             0.0          0.0\n",
       " 0.0          0.0          0.0             0.0          0.0\n",
       " ⋮                                      ⋱               \n",
       " 0.0          0.0          0.0             0.0          0.0\n",
       " 0.0          0.0          0.0             0.0          0.0\n",
       " 0.0          0.0          0.0          …  0.0          0.0\n",
       " 0.0          0.0          0.0             0.0          0.0\n",
       " 0.0          0.0          0.0             0.0          0.0\n",
       " 1.5259f-5    1.5259f-5    0.0             0.0          1.5259f-5\n",
       " 0.0          0.0          0.0             0.0          0.0\n",
       " 1.5259f-5    1.5259f-5    0.0          …  0.0          1.5259f-5\n",
       " 4.57771f-5   4.57771f-5   3.0518f-5       3.0518f-5    4.57771f-5\n",
       " 3.0518f-5    3.0518f-5    3.0518f-5       3.0518f-5    3.0518f-5\n",
       " 0.000335698  0.000213626  4.57771f-5      4.57771f-5   0.000198367\n",
       " 0.00114443   0.000793469  0.000213626     0.000198367  0.000762951\n",
       "\n",
       "[:, :, 3] =\n",
       " 0.00122072   0.000885023  0.00030518   …  0.000274662  0.000823987\n",
       " 0.000869764  0.00062562   0.000213626     0.000198367  0.000595102\n",
       " 0.00030518   0.000213626  9.15541f-5      9.15541f-5   0.000198367\n",
       " 9.15541f-5   7.62951f-5   7.62951f-5      7.62951f-5   7.62951f-5\n",
       " 7.62951f-5   7.62951f-5   6.10361f-5      6.10361f-5   7.62951f-5\n",
       " 3.0518f-5    3.0518f-5    1.5259f-5    …  1.5259f-5    3.0518f-5\n",
       " 1.5259f-5    1.5259f-5    1.5259f-5       1.5259f-5    1.5259f-5\n",
       " 1.5259f-5    1.5259f-5    1.5259f-5       1.5259f-5    1.5259f-5\n",
       " 0.0          0.0          0.0             0.0          0.0\n",
       " 0.0          0.0          0.0             0.0          0.0\n",
       " 0.0          0.0          0.0          …  0.0          0.0\n",
       " 0.0          0.0          0.0             0.0          0.0\n",
       " 0.0          0.0          0.0             0.0          0.0\n",
       " ⋮                                      ⋱               \n",
       " 0.0          0.0          0.0             0.0          0.0\n",
       " 0.0          0.0          0.0             0.0          0.0\n",
       " 0.0          0.0          0.0          …  0.0          0.0\n",
       " 0.0          0.0          0.0             0.0          0.0\n",
       " 0.0          0.0          0.0             0.0          0.0\n",
       " 1.5259f-5    1.5259f-5    1.5259f-5       1.5259f-5    1.5259f-5\n",
       " 0.0          1.5259f-5    1.5259f-5       1.5259f-5    1.5259f-5\n",
       " 3.0518f-5    1.5259f-5    1.5259f-5    …  1.5259f-5    1.5259f-5\n",
       " 7.62951f-5   7.62951f-5   6.10361f-5      4.57771f-5   6.10361f-5\n",
       " 9.15541f-5   7.62951f-5   7.62951f-5      7.62951f-5   7.62951f-5\n",
       " 0.000274662  0.000198367  9.15541f-5      9.15541f-5   0.000198367\n",
       " 0.000839246  0.000595102  0.000198367     0.000183108  0.000564584\n",
       "\n",
       "[:, :, 4] =\n",
       " 0.00117494   0.000823987  0.000289921  …  0.00030518   0.000854505\n",
       " 0.000808728  0.000564584  0.000198367     0.000213626  0.000595102\n",
       " 0.000274662  0.000198367  9.15541f-5      9.15541f-5   0.000198367\n",
       " 7.62951f-5   7.62951f-5   7.62951f-5      6.10361f-5   7.62951f-5\n",
       " 6.10361f-5   6.10361f-5   4.57771f-5      4.57771f-5   6.10361f-5\n",
       " 3.0518f-5    1.5259f-5    1.5259f-5    …  1.5259f-5    1.5259f-5\n",
       " 1.5259f-5    1.5259f-5    1.5259f-5       1.5259f-5    1.5259f-5\n",
       " 1.5259f-5    1.5259f-5    1.5259f-5       1.5259f-5    1.5259f-5\n",
       " 0.0          0.0          0.0             0.0          0.0\n",
       " 0.0          0.0          0.0             0.0          0.0\n",
       " 0.0          0.0          0.0          …  0.0          0.0\n",
       " 0.0          0.0          0.0             0.0          0.0\n",
       " 0.0          0.0          0.0             0.0          0.0\n",
       " ⋮                                      ⋱               \n",
       " 0.0          0.0          0.0             0.0          0.0\n",
       " 0.0          0.0          0.0             0.0          0.0\n",
       " 0.0          0.0          0.0          …  0.0          0.0\n",
       " 0.0          0.0          0.0             0.0          0.0\n",
       " 0.0          0.0          0.0             0.0          0.0\n",
       " 1.5259f-5    1.5259f-5    1.5259f-5       1.5259f-5    1.5259f-5\n",
       " 1.5259f-5    1.5259f-5    1.5259f-5       1.5259f-5    1.5259f-5\n",
       " 3.0518f-5    1.5259f-5    1.5259f-5    …  1.5259f-5    1.5259f-5\n",
       " 6.10361f-5   6.10361f-5   4.57771f-5      4.57771f-5   6.10361f-5\n",
       " 9.15541f-5   7.62951f-5   6.10361f-5      7.62951f-5   7.62951f-5\n",
       " 0.00030518   0.000213626  9.15541f-5      0.000106813  0.000228885\n",
       " 0.000854505  0.000595102  0.000213626     0.000228885  0.00062562\n",
       "\n",
       "[:, :, 5] =\n",
       " 0.00163272   0.00112917   …  3.0518f-5  0.000350958  0.00115969\n",
       " 0.00111391   0.000762951     3.0518f-5  0.000228885  0.00077821\n",
       " 0.000320439  0.000198367     3.0518f-5  4.57771f-5   0.000213626\n",
       " 3.0518f-5    3.0518f-5       3.0518f-5  3.0518f-5    1.5259f-5\n",
       " 3.0518f-5    3.0518f-5       1.5259f-5  3.0518f-5    3.0518f-5\n",
       " 1.5259f-5    1.5259f-5    …  0.0        1.5259f-5    1.5259f-5\n",
       " 0.0          0.0             1.5259f-5  0.0          0.0\n",
       " 1.5259f-5    1.5259f-5       0.0        1.5259f-5    1.5259f-5\n",
       " 0.0          0.0             0.0        0.0          0.0\n",
       " 0.0          0.0             0.0        0.0          0.0\n",
       " 0.0          0.0          …  0.0        0.0          0.0\n",
       " 0.0          0.0             0.0        0.0          0.0\n",
       " 0.0          0.0             0.0        0.0          0.0\n",
       " ⋮                         ⋱                          \n",
       " 0.0          0.0             0.0        0.0          0.0\n",
       " 0.0          0.0             0.0        0.0          0.0\n",
       " 0.0          0.0          …  0.0        0.0          0.0\n",
       " 0.0          0.0             0.0        0.0          0.0\n",
       " 0.0          0.0             0.0        0.0          0.0\n",
       " 1.5259f-5    1.5259f-5       0.0        1.5259f-5    1.5259f-5\n",
       " 0.0          0.0             1.5259f-5  0.0          0.0\n",
       " 1.5259f-5    1.5259f-5    …  0.0        1.5259f-5    1.5259f-5\n",
       " 3.0518f-5    3.0518f-5       1.5259f-5  3.0518f-5    3.0518f-5\n",
       " 3.0518f-5    3.0518f-5       3.0518f-5  3.0518f-5    3.0518f-5\n",
       " 0.000350958  0.000228885     3.0518f-5  4.57771f-5   0.000228885\n",
       " 0.00115969   0.000793469     3.0518f-5  0.000228885  0.000808728"
      ]
     },
     "execution_count": 2,
     "metadata": {},
     "output_type": "execute_result"
    }
   ],
   "source": [
    "img = convert(Array{Float32}, load(\"../dataset/real-donut/data.tif\"));\n",
    "\n",
    "psf = convert(Array{Float32}, load(\"../dataset/real-donut/estimated-psf.tif\"));\n",
    "psf_n = center_extract(psf, size(img)[1:2]);\n",
    "img_n = view(img, :, :, 31:80);\n",
    "size(psf_n) == size(img_n)\n",
    "\n",
    "img_n2 = view(img_n, :, :, 1:5)\n",
    "i1, i2 = get_indices_around_center(50, 5)\n",
    "psf_n2 = ifftshift(psf_n[:, :, i1:i2]) "
   ]
  },
  {
   "cell_type": "code",
   "execution_count": 33,
   "metadata": {},
   "outputs": [
    {
     "data": {
      "text/plain": [
       "Dict{String,Any} with 4 entries:\n",
       "  \"gui\"         => Dict{String,Any}(\"window\"=>GtkWindowLeaf(name=\"\", parent, wi…\n",
       "  \"roi\"         => Dict{String,Any}(\"redraw\"=>465: \"map(clim-mapped image, inpu…\n",
       "  \"annotations\" => 414: \"input-194\" = Dict{UInt64,Any}() Dict{UInt64,Any} \n",
       "  \"clim\"        => 413: \"CLim\" = CLim{Float32}(0.0001087, 0.00033859) CLim{Floa…"
      ]
     },
     "execution_count": 33,
     "metadata": {},
     "output_type": "execute_result"
    }
   ],
   "source": [
    "img = convert(Array{Float32}, load(\"../dataset/obj.tif\"));\n",
    "\n",
    "r = 30\n",
    "psf = convert(Array{Float32}, DeconvOptim.generate_psf(img, r))\n",
    "\n",
    "#psf = ifftshift(convert(Array{Float32}, load(\"../dataset/psf.tif\")));\n",
    "psf = psf ./ sum(psf)\n",
    "otf = fft(psf)\n",
    "img_b = max.(0, DeconvOptim.conv_otf(img, otf))\n",
    "img_noisy = poisson(img_b, 100)\n",
    "img_noisy ./= maximum(img_noisy)\n",
    "\n",
    "imshow(abs.(img_b))"
   ]
  },
  {
   "cell_type": "code",
   "execution_count": 67,
   "metadata": {},
   "outputs": [
    {
     "name": "stdout",
     "output_type": "stream",
     "text": [
      "lollol  0.935219 seconds (2.20 M allocations: 103.604 MiB, 2.74% gc time)\n"
     ]
    },
    {
     "data": {
      "text/plain": [
       "(Float32[NaN NaN … NaN NaN; NaN NaN … NaN NaN; … ; NaN NaN … NaN NaN; NaN NaN … NaN NaN],  * Status: failure (line search failed)\n",
       "\n",
       " * Candidate solution\n",
       "    Final objective value:     2.215986e-03\n",
       "\n",
       " * Found with\n",
       "    Algorithm:     L-BFGS\n",
       "\n",
       " * Convergence measures\n",
       "    |x - x'|               = 0.00e+00 ≤ 0.0e+00\n",
       "    |x - x'|/|x'|          = NaN ≰ 0.0e+00\n",
       "    |f(x) - f(x')|         = 0.00e+00 ≤ 0.0e+00\n",
       "    |f(x) - f(x')|/|f(x')| = 0.00e+00 ≤ 0.0e+00\n",
       "    |g(x)|                 = NaN ≰ 1.0e-08\n",
       "\n",
       " * Work counters\n",
       "    Seconds run:   0  (vs limit Inf)\n",
       "    Iterations:    1\n",
       "    f(x) calls:    1\n",
       "    ∇f(x) calls:   1\n",
       ")"
      ]
     },
     "execution_count": 67,
     "metadata": {},
     "output_type": "execute_result"
    }
   ],
   "source": [
    "reg = DeconvOptim.TV(sum_dims=[1, 2], weights=[1, 1], λ=0.01, mode=\"central\", step=1)\n",
    "@time res, o = deconvolution(img_noisy[:,:,1], psf[:,:,1], \n",
    "        lossf=Poisson(), mappingf=Non_negative(), regularizerf=reg,\n",
    "        options=Optim.Options(iterations=10), plan_fft=true, padding=true)"
   ]
  },
  {
   "cell_type": "code",
   "execution_count": 35,
   "metadata": {},
   "outputs": [
    {
     "data": {
      "text/plain": [
       "Dict{String,Any} with 4 entries:\n",
       "  \"gui\"         => Dict{String,Any}(\"window\"=>GtkWindowLeaf(name=\"\", parent, wi…\n",
       "  \"roi\"         => Dict{String,Any}(\"redraw\"=>410: \"map(clim-mapped image, inpu…\n",
       "  \"annotations\" => 359: \"input-232\" = Dict{UInt64,Any}() Dict{UInt64,Any} \n",
       "  \"clim\"        => 358: \"CLim\" = CLim{Float32}(2.88292f-14, 0.0103583) CLim{Flo…"
      ]
     },
     "execution_count": 35,
     "metadata": {},
     "output_type": "execute_result"
    }
   ],
   "source": [
    "imshow(res_nopad[:, :, :, 1, 1])\n",
    "imshow(res[:, :, :, 1, 1])\n",
    "#imshow(img_noisy)"
   ]
  },
  {
   "cell_type": "code",
   "execution_count": 52,
   "metadata": {},
   "outputs": [
    {
     "data": {
      "text/plain": [
       "Dict{String,Any} with 4 entries:\n",
       "  \"gui\"         => Dict{String,Any}(\"window\"=>GtkWindowLeaf(name=\"\", parent, wi…\n",
       "  \"roi\"         => Dict{String,Any}(\"redraw\"=>55: \"map(clim-mapped image, input…\n",
       "  \"annotations\" => 4: \"input-3\" = Dict{UInt64,Any}() Dict{UInt64,Any} \n",
       "  \"clim\"        => 3: \"CLim\" = CLim{Float32}(0.0, 0.00348909) CLim{Float32} "
      ]
     },
     "execution_count": 52,
     "metadata": {},
     "output_type": "execute_result"
    }
   ],
   "source": [
    "imshow(psf)"
   ]
  },
  {
   "cell_type": "code",
   "execution_count": 18,
   "metadata": {},
   "outputs": [
    {
     "data": {
      "text/plain": [
       "true"
      ]
     },
     "execution_count": 18,
     "metadata": {},
     "output_type": "execute_result"
    }
   ],
   "source": [
    "x = randn((12,14223, 1, 1));\n",
    "x == center_extract(x, size(x))"
   ]
  },
  {
   "cell_type": "code",
   "execution_count": null,
   "metadata": {},
   "outputs": [],
   "source": []
  }
 ],
 "metadata": {
  "kernelspec": {
   "display_name": "Julia 1.4.1",
   "language": "julia",
   "name": "julia-1.4"
  },
  "language_info": {
   "file_extension": ".jl",
   "mimetype": "application/julia",
   "name": "julia",
   "version": "1.5.2"
  }
 },
 "nbformat": 4,
 "nbformat_minor": 2
}
