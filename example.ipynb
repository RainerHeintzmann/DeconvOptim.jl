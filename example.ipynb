{
 "cells": [
  {
   "cell_type": "code",
   "execution_count": 1,
   "metadata": {},
   "outputs": [
    {
     "name": "stderr",
     "output_type": "stream",
     "text": [
      "┌ Info: Precompiling Optim [429524aa-4258-5aef-a3af-852621145aeb]\n",
      "└ @ Base loading.jl:1260\n",
      "┌ Info: Precompiling Images [916415d5-f1e6-5110-898d-aaa5f9f070e0]\n",
      "└ @ Base loading.jl:1260\n",
      "┌ Info: Precompiling ImageView [86fae568-95e7-573e-a6b2-d8a6b900c9ef]\n",
      "└ @ Base loading.jl:1260\n",
      "┌ Info: Precompiling Noise [81d43f40-5267-43b7-ae1c-8b967f377efa]\n",
      "└ @ Base loading.jl:1260\n",
      "┌ Info: Precompiling DeconvOptim [03e7cd2f-1a03-4ea9-b59b-760a446df67f]\n",
      "└ @ Base loading.jl:1260\n",
      "┌ Info: Precompiling Deconvolution [41ba435c-a500-5816-a783-a9707c6f5f3a]\n",
      "└ @ Base loading.jl:1260\n",
      "┌ Info: Precompiling Plots [91a5bcdd-55d7-5caf-9e0b-520d859cae80]\n",
      "└ @ Base loading.jl:1260\n",
      "WARNING: both Plots and DeconvOptim export \"GR\"; uses of it in module Main must be qualified\n"
     ]
    }
   ],
   "source": [
    "using Revise\n",
    "using FFTW, Optim, Images, ImageView, TestImages\n",
    "using Noise\n",
    "using DeconvOptim\n",
    "using Statistics\n",
    "using BenchmarkTools\n",
    "using Deconvolution\n",
    "using Zygote\n",
    "using Tullio\n",
    "using Plots\n",
    "#BenchmarkTools.DEFAULT_PARAMETERS.samples = 10\n",
    "#BenchmarkTools.DEFAULT_PARAMETERS.seconds = 100"
   ]
  },
  {
   "cell_type": "code",
   "execution_count": 2,
   "metadata": {},
   "outputs": [
    {
     "data": {
      "text/plain": [
       "lucy2 (generic function with 1 method)"
      ]
     },
     "execution_count": 2,
     "metadata": {},
     "output_type": "execute_result"
    }
   ],
   "source": [
    "function imshowv(args...)\n",
    "    imshow(cat(args..., dims=3))\n",
    "end\n",
    "\n",
    "\n",
    "function lucy2(observed::AbstractArray, psf::AbstractArray; iterations::Integer = 1)\n",
    "    @assert size(observed) == size(psf)\n",
    "    @assert iterations >= 0\n",
    "\n",
    "    psf_ft = fft(psf)\n",
    "    psf_ft_conj = conj.(psf_ft)\n",
    "\n",
    "    function lucystep(e)\n",
    "        return e .* real(ifft(fft(observed ./ ifft(fft(e) .* psf_ft)) .* psf_ft_conj)) \n",
    "    end\n",
    "\n",
    "    estimated = real(ifft(fft(observed) .* psf_ft))\n",
    "    for i in 1:iterations\n",
    "        estimated = lucystep(estimated)\n",
    "    end\n",
    "\n",
    "    return estimated\n",
    "end"
   ]
  },
  {
   "cell_type": "code",
   "execution_count": 3,
   "metadata": {},
   "outputs": [
    {
     "name": "stderr",
     "output_type": "stream",
     "text": [
      "┌ Info: Precompiling ImageMagick [6218d12a-5da1-5696-b52f-db25d2ecc6d1]\n",
      "└ @ Base loading.jl:1260\n"
     ]
    }
   ],
   "source": [
    "img2 = channelview(load(\"../DeconvOptim/resolution_512.tif\"))\n",
    "img = convert(Array{Float32}, channelview(load(\"../DeconvOptim/resolution_512.tif\")))\n",
    "#img = convert(Array{Float32}, testimage(\"fabio_gray_512\"))\n",
    "#img = convert(Array{Float32}, channelview(testimage(\"peppers_gray\"))[1, :, :])\n",
    "r = 30\n",
    "psf = convert(Array{Float32}, DeconvOptim.generate_psf(img, r))\n",
    "otf = rfft(psf)\n",
    "\n",
    "img_b = max.(0, DeconvOptim.conv_real_otf(img, otf))\n",
    "img_noisy = poisson(img_b, 100)\n",
    "\n",
    "imshowv(img, img_b, img_noisy);"
   ]
  },
  {
   "cell_type": "code",
   "execution_count": 4,
   "metadata": {},
   "outputs": [
    {
     "name": "stdout",
     "output_type": "stream",
     "text": [
      "  2.103770 seconds (1.72 M allocations: 987.636 MiB, 2.99% gc time)\n",
      "  1.446294 seconds (202.08 k allocations: 923.327 MiB, 1.98% gc time)\n"
     ]
    },
    {
     "data": {
      "text/plain": [
       "Dict{String,Any} with 4 entries:\n",
       "  \"gui\"         => Dict{String,Any}(\"window\"=>GtkWindowLeaf(name=\"\", parent, wi…\n",
       "  \"roi\"         => Dict{String,Any}(\"redraw\"=>110: \"map(clim-mapped image, inpu…\n",
       "  \"annotations\" => 59: \"input-22\" = Dict{UInt64,Any}() Dict{UInt64,Any} \n",
       "  \"clim\"        => 58: \"CLim\" = CLim{Float32}(0.0, 1.72847) CLim{Float32} "
      ]
     },
     "execution_count": 4,
     "metadata": {},
     "output_type": "execute_result"
    }
   ],
   "source": [
    "@time res_lr1 = lucy(img_noisy, psf, iterations=50);\n",
    "@time res_lr2 = lucy2(img_noisy, psf, iterations=50);\n",
    "imshowv(res_lr1, res_lr2)"
   ]
  },
  {
   "cell_type": "code",
   "execution_count": 9,
   "metadata": {},
   "outputs": [
    {
     "name": "stdout",
     "output_type": "stream",
     "text": [
      "  1.559424 seconds (1.14 M allocations: 1.347 GiB, 3.34% gc time)\n",
      " * Status: failure (reached maximum number of iterations)\n",
      "\n",
      " * Candidate solution\n",
      "    Minimizer: [1.14e-03, 7.93e-04, 3.40e-04,  ...]\n",
      "    Minimum:   2.052756e-01\n",
      "\n",
      " * Found with\n",
      "    Algorithm:     L-BFGS\n",
      "    Initial Point: [4.94e-02, 4.99e-02, 5.05e-02,  ...]\n",
      "\n",
      " * Convergence measures\n",
      "    |x - x'|               = 1.54e-02 ≰ 0.0e+00\n",
      "    |x - x'|/|x'|          = 1.37e-02 ≰ 0.0e+00\n",
      "    |f(x) - f(x')|         = 1.85e-06 ≰ 0.0e+00\n",
      "    |f(x) - f(x')|/|f(x')| = 9.00e-06 ≰ 0.0e+00\n",
      "    |g(x)|                 = 1.03e-06 ≰ 1.0e-08\n",
      "\n",
      " * Work counters\n",
      "    Seconds run:   1  (vs limit Inf)\n",
      "    Iterations:    20\n",
      "    f(x) calls:    64\n",
      "    ∇f(x) calls:   64\n",
      "  1.645343 seconds (1.47 M allocations: 1.303 GiB, 2.79% gc time)\n",
      " * Status: success\n",
      "\n",
      " * Candidate solution\n",
      "    Minimizer: [-7.53e-05, -2.54e-05, 4.22e-05,  ...]\n",
      "    Minimum:   2.055421e-01\n",
      "\n",
      " * Found with\n",
      "    Algorithm:     L-BFGS\n",
      "    Initial Point: [4.94e-02, 4.99e-02, 5.05e-02,  ...]\n",
      "\n",
      " * Convergence measures\n",
      "    |x - x'|               = 4.29e-03 ≰ 0.0e+00\n",
      "    |x - x'|/|x'|          = 3.77e-03 ≰ 0.0e+00\n",
      "    |f(x) - f(x')|         = 4.47e-08 ≰ 0.0e+00\n",
      "    |f(x) - f(x')|/|f(x')| = 2.17e-07 ≰ 0.0e+00\n",
      "    |g(x)|                 = 9.16e-09 ≤ 1.0e-08\n",
      "\n",
      " * Work counters\n",
      "    Seconds run:   1  (vs limit Inf)\n",
      "    Iterations:    16\n",
      "    f(x) calls:    58\n",
      "    ∇f(x) calls:   58\n",
      "  1.569108 seconds (1.05 M allocations: 1.402 GiB, 2.95% gc time)\n",
      " * Status: failure (reached maximum number of iterations)\n",
      "\n",
      " * Candidate solution\n",
      "    Minimizer: [1.06e-03, 9.24e-04, 5.90e-04,  ...]\n",
      "    Minimum:   2.055022e-01\n",
      "\n",
      " * Found with\n",
      "    Algorithm:     L-BFGS\n",
      "    Initial Point: [4.94e-02, 4.99e-02, 5.05e-02,  ...]\n",
      "\n",
      " * Convergence measures\n",
      "    |x - x'|               = 1.31e-02 ≰ 0.0e+00\n",
      "    |x - x'|/|x'|          = 1.28e-02 ≰ 0.0e+00\n",
      "    |f(x) - f(x')|         = 8.79e-07 ≰ 0.0e+00\n",
      "    |f(x) - f(x')|/|f(x')| = 4.28e-06 ≰ 0.0e+00\n",
      "    |g(x)|                 = 3.23e-07 ≰ 1.0e-08\n",
      "\n",
      " * Work counters\n",
      "    Seconds run:   1  (vs limit Inf)\n",
      "    Iterations:    20\n",
      "    f(x) calls:    67\n",
      "    ∇f(x) calls:   67\n",
      "  1.585423 seconds (6.77 k allocations: 1.025 GiB, 33.79% gc time)\n",
      " * Status: failure (reached maximum number of iterations)\n",
      "\n",
      " * Candidate solution\n",
      "    Minimizer: [3.92e-04, -9.77e-05, -7.75e-04,  ...]\n",
      "    Minimum:   2.052022e-01\n",
      "\n",
      " * Found with\n",
      "    Algorithm:     L-BFGS\n",
      "    Initial Point: [4.94e-02, 4.99e-02, 5.05e-02,  ...]\n",
      "\n",
      " * Convergence measures\n",
      "    |x - x'|               = 3.05e-02 ≰ 0.0e+00\n",
      "    |x - x'|/|x'|          = 2.26e-02 ≰ 0.0e+00\n",
      "    |f(x) - f(x')|         = 1.27e-06 ≰ 0.0e+00\n",
      "    |f(x) - f(x')|/|f(x')| = 6.17e-06 ≰ 0.0e+00\n",
      "    |g(x)|                 = 8.59e-08 ≰ 1.0e-08\n",
      "\n",
      " * Work counters\n",
      "    Seconds run:   2  (vs limit Inf)\n",
      "    Iterations:    20\n",
      "    f(x) calls:    67\n",
      "    ∇f(x) calls:   67\n"
     ]
    }
   ],
   "source": [
    "reg = Tikhonov(sum_dims=[1, 2], weights=[1, 1], λ=0.1, mode=\"laplace\")\n",
    "@time resTikho, o, r0 = deconvolution(img_noisy, psf, \n",
    "        lossf=Poisson(), mappingf=Non_negative(), regularizerf=reg,\n",
    "        options=Optim.Options(iterations=20))\n",
    "print(o)\n",
    "\n",
    "\n",
    "reg = DeconvOptim.GR(sum_dims=[1, 2], weights=[1, 1], λ=0.05, mode=\"central\")\n",
    "@time resGR, o, r0 = deconvolution(img_noisy, psf, \n",
    "        lossf=Poisson(), mappingf=Non_negative(), regularizerf=reg,\n",
    "        options=Optim.Options(iterations=20))\n",
    "print(o)\n",
    "\n",
    "\n",
    "reg = DeconvOptim.TV(sum_dims=[1, 2], weights=[1, 1], λ=0.01, step=1, mode=\"central\")\n",
    "@time resTV, o, r0 = deconvolution(img_noisy, psf, \n",
    "        lossf=Poisson(), mappingf=Non_negative(), regularizerf=reg,\n",
    "        options=Optim.Options(iterations=20))\n",
    "print(o)\n",
    "\n",
    "@time res, o, r0 = deconvolution(img_noisy, psf, \n",
    "        lossf=Poisson(), mappingf=Non_negative(), regularizerf=nothing,\n",
    "        options=Optim.Options(iterations=20))\n",
    "print(o)"
   ]
  },
  {
   "cell_type": "code",
   "execution_count": 11,
   "metadata": {
    "scrolled": true
   },
   "outputs": [
    {
     "data": {
      "text/plain": [
       "Dict{String,Any} with 4 entries:\n",
       "  \"gui\"         => Dict{String,Any}(\"window\"=>GtkWindowLeaf(name=\"\", parent, wi…\n",
       "  \"roi\"         => Dict{String,Any}(\"redraw\"=>220: \"map(clim-mapped image, inpu…\n",
       "  \"annotations\" => 169: \"input-79\" = Dict{UInt64,Any}() Dict{UInt64,Any} \n",
       "  \"clim\"        => 168: \"CLim\" = CLim{Float32}(0.0, 1.0) CLim{Float32} "
      ]
     },
     "execution_count": 11,
     "metadata": {},
     "output_type": "execute_result"
    }
   ],
   "source": [
    "imshowv(img, res[:, :], resTikho[:, :], resGR[:, :], resTV[:, :], res_lr2, img_noisy)"
   ]
  },
  {
   "cell_type": "code",
   "execution_count": 151,
   "metadata": {},
   "outputs": [
    {
     "name": "stdout",
     "output_type": "stream",
     "text": [
      "  1.192040 seconds (1.46 M allocations: 892.854 MiB, 4.17% gc time)\n",
      " * Status: failure (reached maximum number of iterations)\n",
      "\n",
      " * Candidate solution\n",
      "    Minimizer: [7.24e-05, 1.55e-04, 2.95e-04,  ...]\n",
      "    Minimum:   2.055268e-01\n",
      "\n",
      " * Found with\n",
      "    Algorithm:     L-BFGS\n",
      "    Initial Point: [4.88e-02, 4.88e-02, 4.87e-02,  ...]\n",
      "\n",
      " * Convergence measures\n",
      "    |x - x'|               = 1.17e-02 ≰ 0.0e+00\n",
      "    |x - x'|/|x'|          = 1.06e-02 ≰ 0.0e+00\n",
      "    |f(x) - f(x')|         = 5.07e-07 ≰ 0.0e+00\n",
      "    |f(x) - f(x')|/|f(x')| = 2.47e-06 ≰ 0.0e+00\n",
      "    |g(x)|                 = 3.00e-08 ≰ 1.0e-08\n",
      "\n",
      " * Work counters\n",
      "    Seconds run:   1  (vs limit Inf)\n",
      "    Iterations:    10\n",
      "    f(x) calls:    37\n",
      "    ∇f(x) calls:   37\n"
     ]
    }
   ],
   "source": [
    "reg = DeconvOptim.GR(sum_dims=[1, 2], weights=[1, 1], λ=0.05, mode=\"central\")\n",
    "\n",
    "@time resGR, o, r0 = deconvolution(img_noisy, psf, \n",
    "        lossf=Poisson(), mappingf=Non_negative(), regularizerf=reg,\n",
    "        options=Optim.Options(iterations=10))\n",
    "print(o)"
   ]
  },
  {
   "cell_type": "code",
   "execution_count": 152,
   "metadata": {},
   "outputs": [
    {
     "data": {
      "text/plain": [
       "Dict{String,Any} with 4 entries:\n",
       "  \"gui\"         => Dict{String,Any}(\"window\"=>GtkWindowLeaf(name=\"\", parent, wi…\n",
       "  \"roi\"         => Dict{String,Any}(\"redraw\"=>865: \"map(clim-mapped image, inpu…\n",
       "  \"annotations\" => 814: \"input-328\" = Dict{UInt64,Any}() Dict{UInt64,Any} \n",
       "  \"clim\"        => 813: \"CLim\" = CLim{Float32}(0.0, 1.0) CLim{Float32} "
      ]
     },
     "execution_count": 152,
     "metadata": {},
     "output_type": "execute_result"
    }
   ],
   "source": [
    "imshowv(img, res[:, :], resTikho_sgs[:, :], resGR[:, :], \n",
    "        res_lr2, img_noisy)"
   ]
  },
  {
   "cell_type": "code",
   "execution_count": 180,
   "metadata": {
    "scrolled": true
   },
   "outputs": [
    {
     "name": "stdout",
     "output_type": "stream",
     "text": [
      "  1.007530 seconds (1.05 M allocations: 835.226 MiB, 2.46% gc time)\n",
      " * Status: failure (reached maximum number of iterations)\n",
      "\n",
      " * Candidate solution\n",
      "    Minimizer: [-4.56e-04, -2.36e-04, 4.94e-05,  ...]\n",
      "    Minimum:   2.057313e-01\n",
      "\n",
      " * Found with\n",
      "    Algorithm:     L-BFGS\n",
      "    Initial Point: [4.88e-02, 4.88e-02, 4.87e-02,  ...]\n",
      "\n",
      " * Convergence measures\n",
      "    |x - x'|               = 4.58e-02 ≰ 0.0e+00\n",
      "    |x - x'|/|x'|          = 4.38e-02 ≰ 0.0e+00\n",
      "    |f(x) - f(x')|         = 4.26e-06 ≰ 0.0e+00\n",
      "    |f(x) - f(x')|/|f(x')| = 2.07e-05 ≰ 0.0e+00\n",
      "    |g(x)|                 = 3.35e-07 ≰ 1.0e-08\n",
      "\n",
      " * Work counters\n",
      "    Seconds run:   1  (vs limit Inf)\n",
      "    Iterations:    10\n",
      "    f(x) calls:    37\n",
      "    ∇f(x) calls:   37\n"
     ]
    }
   ],
   "source": [
    "reg = DeconvOptim.TV(sum_dims=[1, 2], weights=[1, 1], λ=0.01, step=2, mode=\"central\")\n",
    "\n",
    "\n",
    "@time resTV, o, r0 = deconvolution(img_noisy, psf, \n",
    "        lossf=Poisson(), mappingf=Non_negative(), regularizerf=reg,\n",
    "        options=Optim.Options(iterations=10))\n",
    "print(o)\n"
   ]
  },
  {
   "cell_type": "code",
   "execution_count": 181,
   "metadata": {},
   "outputs": [
    {
     "data": {
      "text/plain": [
       "Dict{String,Any} with 4 entries:\n",
       "  \"gui\"         => Dict{String,Any}(\"window\"=>GtkWindowLeaf(name=\"\", parent, wi…\n",
       "  \"roi\"         => Dict{String,Any}(\"redraw\"=>1360: \"map(clim-mapped image, inp…\n",
       "  \"annotations\" => 1309: \"input-499\" = Dict{UInt64,Any}() Dict{UInt64,Any} \n",
       "  \"clim\"        => 1308: \"CLim\" = CLim{Float32}(0.0, 1.0) CLim{Float32} "
      ]
     },
     "execution_count": 181,
     "metadata": {},
     "output_type": "execute_result"
    }
   ],
   "source": [
    "imshowv(img, resTV[:, :], res_lr2,  img_noisy)"
   ]
  },
  {
   "cell_type": "code",
   "execution_count": 174,
   "metadata": {},
   "outputs": [
    {
     "name": "stdout",
     "output_type": "stream",
     "text": [
      "(512, 512, 3, 1)(512, 512, 3, 3, 1)  8.109354 seconds (4.34 M allocations: 8.408 GiB, 5.47% gc time)\n",
      " * Status: failure (reached maximum number of iterations)\n",
      "\n",
      " * Candidate solution\n",
      "    Minimizer: [-2.83e-03, -2.64e-03, -2.26e-03,  ...]\n",
      "    Minimum:   2.111696e-01\n",
      "\n",
      " * Found with\n",
      "    Algorithm:     L-BFGS\n",
      "    Initial Point: [4.88e-02, 4.88e-02, 4.87e-02,  ...]\n",
      "\n",
      " * Convergence measures\n",
      "    |x - x'|               = 6.80e-02 ≰ 0.0e+00\n",
      "    |x - x'|/|x'|          = 4.20e-02 ≰ 0.0e+00\n",
      "    |f(x) - f(x')|         = 4.77e-07 ≰ 0.0e+00\n",
      "    |f(x) - f(x')|/|f(x')| = 2.26e-06 ≰ 0.0e+00\n",
      "    |g(x)|                 = 7.26e-06 ≰ 1.0e-08\n",
      "\n",
      " * Work counters\n",
      "    Seconds run:   6  (vs limit Inf)\n",
      "    Iterations:    10\n",
      "    f(x) calls:    36\n",
      "    ∇f(x) calls:   36\n",
      "  7.280548 seconds (1.45 M allocations: 8.271 GiB, 5.48% gc time)\n",
      " * Status: failure (reached maximum number of iterations)\n",
      "\n",
      " * Candidate solution\n",
      "    Minimizer: [-4.78e-03, -4.59e-03, -4.23e-03,  ...]\n",
      "    Minimum:   2.110692e-01\n",
      "\n",
      " * Found with\n",
      "    Algorithm:     L-BFGS\n",
      "    Initial Point: [4.88e-02, 4.88e-02, 4.87e-02,  ...]\n",
      "\n",
      " * Convergence measures\n",
      "    |x - x'|               = 9.91e-02 ≰ 0.0e+00\n",
      "    |x - x'|/|x'|          = 6.08e-02 ≰ 0.0e+00\n",
      "    |f(x) - f(x')|         = 3.23e-06 ≰ 0.0e+00\n",
      "    |f(x) - f(x')|/|f(x')| = 1.53e-05 ≰ 0.0e+00\n",
      "    |g(x)|                 = 3.72e-05 ≰ 1.0e-08\n",
      "\n",
      " * Work counters\n",
      "    Seconds run:   6  (vs limit Inf)\n",
      "    Iterations:    10\n",
      "    f(x) calls:    36\n",
      "    ∇f(x) calls:   36\n"
     ]
    }
   ],
   "source": [
    "img3d = cat(img_noisy, img_noisy, img_noisy, dims=3);\n",
    "img4d = cat(img3d, img3d ./ 2, img3d .* 2, dims=4);\n",
    "img5d = reshape(img4d, (size(img4d)..., 1))\n",
    "\n",
    "psf3d = cat(psf, zeros(size(img)), zeros(size(img)), dims=3)\n",
    "psf4d = cat(psf, psf, psf, dims=3)\n",
    "psf5d = reshape(psf4d, (size(psf4d)..., 1))\n",
    "#imshow(img3d)\n",
    "print(size(psf5d))\n",
    "print(size(img5d))\n",
    "\n",
    "\n",
    "@time resGR, o, r0 = deconvolution(img5d, psf3d, \n",
    "        lossf=Poisson(), mappingf=Non_negative(), regularizerf=DeconvOptim.GR(λ=0.02, mode=\"central\"),\n",
    "        options=Optim.Options(iterations=10))\n",
    "print(o)\n",
    "\n",
    "@time resGR_old, o, r0 = deconvolution(img5d, psf3d, \n",
    "        lossf=Poisson(), mappingf=Non_negative(), regularizerf=DeconvOptim.GR(λ=0.02, mode=\"forward\"),\n",
    "        options=Optim.Options(iterations=10))\n",
    "print(o)\n"
   ]
  },
  {
   "cell_type": "code",
   "execution_count": 175,
   "metadata": {},
   "outputs": [
    {
     "data": {
      "text/plain": [
       "Dict{String,Any} with 4 entries:\n",
       "  \"gui\"         => Dict{String,Any}(\"window\"=>GtkWindowLeaf(name=\"\", parent, wi…\n",
       "  \"roi\"         => Dict{String,Any}(\"redraw\"=>1195: \"map(clim-mapped image, inp…\n",
       "  \"annotations\" => 1144: \"input-442\" = Dict{UInt64,Any}() Dict{UInt64,Any} \n",
       "  \"clim\"        => 1143: \"CLim\" = CLim{Float32}(0.0, 1.0) CLim{Float32} "
      ]
     },
     "execution_count": 175,
     "metadata": {},
     "output_type": "execute_result"
    }
   ],
   "source": [
    "imshowv(img, resGR_old[:,:,1,1,1], resGR[:,:,2,1,1], res_lr2,  img_noisy)"
   ]
  }
 ],
 "metadata": {
  "kernelspec": {
   "display_name": "Julia 1.4.1",
   "language": "julia",
   "name": "julia-1.4"
  },
  "language_info": {
   "file_extension": ".jl",
   "mimetype": "application/julia",
   "name": "julia",
   "version": "1.4.2"
  }
 },
 "nbformat": 4,
 "nbformat_minor": 2
}
