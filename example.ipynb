{
 "cells": [
  {
   "cell_type": "code",
   "execution_count": 16,
   "metadata": {},
   "outputs": [
    {
     "name": "stderr",
     "output_type": "stream",
     "text": [
      "WARNING: both Plots and DeconvOptim export \"GR\"; uses of it in module Main must be qualified\n"
     ]
    }
   ],
   "source": [
    "using Revise\n",
    "using FFTW, Optim, Images, ImageView, TestImages\n",
    "using Noise\n",
    "using DeconvOptim\n",
    "using Statistics\n",
    "using BenchmarkTools\n",
    "using Deconvolution\n",
    "using Zygote\n",
    "#using ForwardDiff\n",
    "#using ReverseDiff\n",
    "#using DiffRules\n",
    "using Plots\n",
    "#BenchmarkTools.DEFAULT_PARAMETERS.samples = 10\n",
    "#BenchmarkTools.DEFAULT_PARAMETERS.seconds = 100"
   ]
  },
  {
   "cell_type": "code",
   "execution_count": 17,
   "metadata": {},
   "outputs": [
    {
     "data": {
      "text/plain": [
       "lucy2 (generic function with 1 method)"
      ]
     },
     "execution_count": 17,
     "metadata": {},
     "output_type": "execute_result"
    }
   ],
   "source": [
    "function imshowv(args...)\n",
    "    imshow(cat(args..., dims=3))\n",
    "end\n",
    "\n",
    "\n",
    "function lucy2(observed::AbstractArray, psf::AbstractArray; iterations::Integer = 1)\n",
    "    @assert size(observed) == size(psf)\n",
    "    @assert iterations >= 0\n",
    "\n",
    "    psf_ft = fft(psf)\n",
    "    psf_ft_conj = conj.(psf_ft)\n",
    "\n",
    "    function lucystep(e)\n",
    "        return e .* real(ifft(fft(observed ./ ifft(fft(e) .* psf_ft)) .* psf_ft_conj)) \n",
    "    end\n",
    "\n",
    "    estimated = real(ifft(fft(observed) .* psf_ft))\n",
    "    for i in 1:iterations\n",
    "        estimated = lucystep(estimated)\n",
    "    end\n",
    "\n",
    "    return estimated\n",
    "end"
   ]
  },
  {
   "cell_type": "code",
   "execution_count": 18,
   "metadata": {},
   "outputs": [],
   "source": [
    "img = convert(Array{Float32}, channelview(load(\"../DeconvOptim/resolution_512.tif\")))\n",
    "#img = convert(Array{Float32}, testimage(\"fabio_gray_512\"))\n",
    "#img = convert(Array{Float32}, channelview(testimage(\"peppers_gray\"))[1, :, :])\n",
    "r = 30\n",
    "psf = convert(Array{Float32}, DeconvOptim.generate_psf(img, r))\n",
    "otf = rfft(psf)\n",
    "\n",
    "img_b = max.(0, DeconvOptim.conv_real_otf(img, otf))\n",
    "img_noisy = poisson(img_b, 100)\n",
    "\n",
    "imshowv(img, img_b, img_noisy);"
   ]
  },
  {
   "cell_type": "code",
   "execution_count": 19,
   "metadata": {},
   "outputs": [
    {
     "name": "stdout",
     "output_type": "stream",
     "text": [
      "  3.505301 seconds (1.74 M allocations: 1.844 GiB, 2.91% gc time)\n",
      "  2.649418 seconds (215.08 k allocations: 1.781 GiB, 2.65% gc time)\n"
     ]
    }
   ],
   "source": [
    "@time res_lr1 = lucy(img_noisy, psf, iterations=100);\n",
    "@time res_lr2 = lucy2(img_noisy, psf, iterations=100);"
   ]
  },
  {
   "cell_type": "code",
   "execution_count": 120,
   "metadata": {},
   "outputs": [
    {
     "name": "stdout",
     "output_type": "stream",
     "text": [
      "  1.057051 seconds (989.59 k allocations: 831.294 MiB, 5.06% gc time)\n",
      " * Status: failure (reached maximum number of iterations)\n",
      "\n",
      " * Candidate solution\n",
      "    Minimizer: [-3.07e-04, -2.56e-06, 5.54e-04,  ...]\n",
      "    Minimum:   2.054031e-01\n",
      "\n",
      " * Found with\n",
      "    Algorithm:     L-BFGS\n",
      "    Initial Point: [4.68e-02, 4.71e-02, 4.77e-02,  ...]\n",
      "\n",
      " * Convergence measures\n",
      "    |x - x'|               = 3.00e-02 ≰ 0.0e+00\n",
      "    |x - x'|/|x'|          = 2.81e-02 ≰ 0.0e+00\n",
      "    |f(x) - f(x')|         = 3.19e-06 ≰ 0.0e+00\n",
      "    |f(x) - f(x')|/|f(x')| = 1.55e-05 ≰ 0.0e+00\n",
      "    |g(x)|                 = 9.64e-08 ≰ 1.0e-08\n",
      "\n",
      " * Work counters\n",
      "    Seconds run:   1  (vs limit Inf)\n",
      "    Iterations:    10\n",
      "    f(x) calls:    37\n",
      "    ∇f(x) calls:   37\n",
      "  0.612795 seconds (14.01 k allocations: 931.595 MiB, 4.56% gc time)\n",
      " * Status: failure (reached maximum number of iterations)\n",
      "\n",
      " * Candidate solution\n",
      "    Minimizer: [-6.78e-04, -2.72e-04, 5.16e-04,  ...]\n",
      "    Minimum:   2.052740e-01\n",
      "\n",
      " * Found with\n",
      "    Algorithm:     L-BFGS\n",
      "    Initial Point: [4.68e-02, 4.71e-02, 4.77e-02,  ...]\n",
      "\n",
      " * Convergence measures\n",
      "    |x - x'|               = 3.52e-02 ≰ 0.0e+00\n",
      "    |x - x'|/|x'|          = 3.14e-02 ≰ 0.0e+00\n",
      "    |f(x) - f(x')|         = 4.65e-06 ≰ 0.0e+00\n",
      "    |f(x) - f(x')|/|f(x')| = 2.26e-05 ≰ 0.0e+00\n",
      "    |g(x)|                 = 1.17e-07 ≰ 1.0e-08\n",
      "\n",
      " * Work counters\n",
      "    Seconds run:   1  (vs limit Inf)\n",
      "    Iterations:    10\n",
      "    f(x) calls:    37\n",
      "    ∇f(x) calls:   37\n",
      "  0.580460 seconds (9.76 k allocations: 820.389 MiB, 3.34% gc time)\n",
      " * Status: failure (reached maximum number of iterations)\n",
      "\n",
      " * Candidate solution\n",
      "    Minimizer: [-9.17e-04, -4.51e-04, 4.75e-04,  ...]\n",
      "    Minimum:   2.052370e-01\n",
      "\n",
      " * Found with\n",
      "    Algorithm:     L-BFGS\n",
      "    Initial Point: [4.68e-02, 4.71e-02, 4.77e-02,  ...]\n",
      "\n",
      " * Convergence measures\n",
      "    |x - x'|               = 4.02e-02 ≰ 0.0e+00\n",
      "    |x - x'|/|x'|          = 3.40e-02 ≰ 0.0e+00\n",
      "    |f(x) - f(x')|         = 5.95e-06 ≰ 0.0e+00\n",
      "    |f(x) - f(x')|/|f(x')| = 2.90e-05 ≰ 0.0e+00\n",
      "    |g(x)|                 = 1.40e-07 ≰ 1.0e-08\n",
      "\n",
      " * Work counters\n",
      "    Seconds run:   1  (vs limit Inf)\n",
      "    Iterations:    10\n",
      "    f(x) calls:    37\n",
      "    ∇f(x) calls:   37\n"
     ]
    }
   ],
   "source": [
    "@time resTikho_sgs, o, r0 = deconvolution(img_noisy, psf, \n",
    "        lossf=Poisson(), mappingf=Non_negative(), regularizerf=Tikhonov(λ=0.03, mode=\"spatial_grad_square\"),\n",
    "        options=Optim.Options(iterations=10))\n",
    "print(o)\n",
    "\n",
    "\n",
    "@time resTikho_for, o, r0 = deconvolution(img_noisy, psf, \n",
    "        lossf=Poisson(), mappingf=Non_negative(), regularizerf=Tikhonov(λ=0.02, mode=\"forward_grad\"),\n",
    "        options=Optim.Options(iterations=10))\n",
    "print(o)\n",
    "\n",
    "\n",
    "@time resTikho_cen, o, r0 = deconvolution(img_noisy, psf, \n",
    "        lossf=Poisson(), mappingf=Non_negative(), regularizerf=Tikhonov(λ=0.02, mode=\"central_grad\"),\n",
    "        options=Optim.Options(iterations=10))\n",
    "print(o)"
   ]
  },
  {
   "cell_type": "code",
   "execution_count": 121,
   "metadata": {
    "scrolled": true
   },
   "outputs": [
    {
     "data": {
      "text/plain": [
       "Dict{String,Any} with 4 entries:\n",
       "  \"gui\"         => Dict{String,Any}(\"window\"=>GtkWindowLeaf(name=\"\", parent, wi…\n",
       "  \"roi\"         => Dict{String,Any}(\"redraw\"=>330: \"map(clim-mapped image, inpu…\n",
       "  \"annotations\" => 279: \"input-117\" = Dict{UInt64,Any}() Dict{UInt64,Any} \n",
       "  \"clim\"        => 278: \"CLim\" = CLim{Float32}(0.0, 1.0) CLim{Float32} "
      ]
     },
     "execution_count": 121,
     "metadata": {},
     "output_type": "execute_result"
    }
   ],
   "source": [
    "imshowv(img, resTikho_sgs[:, :], resTikho_for[:, :], resTikho_cen[:, :], res_lr2, img_noisy)"
   ]
  },
  {
   "cell_type": "code",
   "execution_count": 93,
   "metadata": {
    "scrolled": true
   },
   "outputs": [
    {
     "name": "stdout",
     "output_type": "stream",
     "text": [
      "  1.236869 seconds (764.22 k allocations: 746.583 MiB, 2.78% gc time)\n",
      " * Status: failure (reached maximum number of iterations)\n",
      "\n",
      " * Candidate solution\n",
      "    Minimizer: [4.70e-03, 6.20e-03, 7.54e-03,  ...]\n",
      "    Minimum:   2.056203e-01\n",
      "\n",
      " * Found with\n",
      "    Algorithm:     L-BFGS\n",
      "    Initial Point: [5.17e-02, 5.20e-02, 5.23e-02,  ...]\n",
      "\n",
      " * Convergence measures\n",
      "    |x - x'|               = 2.34e-02 ≰ 0.0e+00\n",
      "    |x - x'|/|x'|          = 2.23e-02 ≰ 0.0e+00\n",
      "    |f(x) - f(x')|         = 5.14e-06 ≰ 0.0e+00\n",
      "    |f(x) - f(x')|/|f(x')| = 2.50e-05 ≰ 0.0e+00\n",
      "    |g(x)|                 = 3.72e-07 ≰ 1.0e-08\n",
      "\n",
      " * Work counters\n",
      "    Seconds run:   1  (vs limit Inf)\n",
      "    Iterations:    10\n",
      "    f(x) calls:    37\n",
      "    ∇f(x) calls:   37\n"
     ]
    },
    {
     "ename": "InterruptException",
     "evalue": "InterruptException:",
     "output_type": "error",
     "traceback": [
      "InterruptException:",
      "",
      "Stacktrace:",
      " [1] macro expansion at ./task.jl:335 [inlined]",
      " [2] spawnloop(::Ptr{Nothing}, ::Ptr{Nothing}, ::UInt64, ::Int32, ::Ptr{Nothing}) at /home/fxw/.julia/packages/FFTW/5DZuu/src/FFTW.jl:34",
      " [3] unsafe_execute! at /home/fxw/.julia/packages/FFTW/5DZuu/src/fft.jl:422 [inlined]",
      " [4] *(::FFTW.rFFTWPlan{Complex{Float32},1,false,5}, ::Array{Complex{Float32},5}) at /home/fxw/.julia/packages/FFTW/5DZuu/src/fft.jl:742",
      " [5] *(::AbstractFFTs.ScaledPlan{Complex{Float32},FFTW.rFFTWPlan{Complex{Float32},1,false,5},Float32}, ::Array{Complex{Float32},5}) at /home/fxw/.julia/packages/AbstractFFTs/mhQvY/src/definitions.jl:249",
      " [6] conv_real_otf_p(::FFTW.rFFTWPlan{Float32,-1,false,5}, ::AbstractFFTs.ScaledPlan{Complex{Float32},FFTW.rFFTWPlan{Complex{Float32},1,false,5},Float32}, ::Array{Float32,5}, ::Array{Complex{Float32},5}) at /home/fxw/Documents/Uni/FSU/2semester/Internship/DeconvOptim.jl/src/utils.jl:22",
      " [7] conv at /home/fxw/Documents/Uni/FSU/2semester/Internship/DeconvOptim.jl/src/DeconvOptim.jl:59 [inlined]",
      " [8] (::DeconvOptim.var\"#poisson_loss!#391\")(::DeconvOptim.var\"#conv#394\"{FFTW.rFFTWPlan{Float32,-1,false,5},AbstractFFTs.ScaledPlan{Complex{Float32},FFTW.rFFTWPlan{Complex{Float32},1,false,5},Float32}}, ::Float32, ::Array{Float32,5}, ::Array{Float32,5}, ::Array{Complex{Float32},5}, ::Array{Float32,5}) at /home/fxw/Documents/Uni/FSU/2semester/Internship/DeconvOptim.jl/src/lossfunctions.jl:28",
      " [9] (::DeconvOptim.var\"#lossf2#396\"{DeconvOptim.var\"#poisson_loss!#391\",Array{Complex{Float32},5}})(::Float32, ::Array{Float32,5}, ::Array{Float32,5}) at /home/fxw/Documents/Uni/FSU/2semester/Internship/DeconvOptim.jl/src/DeconvOptim.jl:89",
      " [10] (::DeconvOptim.var\"#f!#397\"{DeconvOptim.var\"#lossf2#396\"{DeconvOptim.var\"#poisson_loss!#391\",Array{Complex{Float32},5}}})(::Float32, ::Array{Float32,5}, ::Array{Float32,5}) at /home/fxw/Documents/Uni/FSU/2semester/Internship/DeconvOptim.jl/src/DeconvOptim.jl:108",
      " [11] (::NLSolversBase.var\"#61#62\"{NLSolversBase.InplaceObjective{Nothing,DeconvOptim.var\"#f!#397\"{DeconvOptim.var\"#lossf2#396\"{DeconvOptim.var\"#poisson_loss!#391\",Array{Complex{Float32},5}}},Nothing,Nothing,Nothing},Float32})(::Array{Float32,5}, ::Array{Float32,5}) at /home/fxw/.julia/packages/NLSolversBase/mGaJg/src/objective_types/incomplete.jl:45",
      " [12] value_gradient!!(::OnceDifferentiable{Float32,Array{Float32,5},Array{Float32,5}}, ::Array{Float32,5}) at /home/fxw/.julia/packages/NLSolversBase/mGaJg/src/interface.jl:82",
      " [13] value_gradient!(::OnceDifferentiable{Float32,Array{Float32,5},Array{Float32,5}}, ::Array{Float32,5}) at /home/fxw/.julia/packages/NLSolversBase/mGaJg/src/interface.jl:69",
      " [14] value_gradient!(::Optim.ManifoldObjective{OnceDifferentiable{Float32,Array{Float32,5},Array{Float32,5}}}, ::Array{Float32,5}) at /home/fxw/.julia/packages/Optim/L5T76/src/Manifolds.jl:50",
      " [15] (::LineSearches.var\"#ϕdϕ#6\"{Optim.ManifoldObjective{OnceDifferentiable{Float32,Array{Float32,5},Array{Float32,5}}},Array{Float32,5},Array{Float32,5},Array{Float32,5}})(::Float32) at /home/fxw/.julia/packages/LineSearches/WrsMD/src/LineSearches.jl:84",
      " [16] secant2!(::LineSearches.var\"#ϕdϕ#6\"{Optim.ManifoldObjective{OnceDifferentiable{Float32,Array{Float32,5},Array{Float32,5}}},Array{Float32,5},Array{Float32,5},Array{Float32,5}}, ::Array{Float32,1}, ::Array{Float32,1}, ::Array{Float32,1}, ::Int64, ::Int64, ::Float64, ::Float64, ::Float64, ::Int64) at /home/fxw/.julia/packages/LineSearches/WrsMD/src/hagerzhang.jl:369",
      " [17] (::LineSearches.HagerZhang{Float64,Base.RefValue{Bool}})(::Function, ::LineSearches.var\"#ϕdϕ#6\"{Optim.ManifoldObjective{OnceDifferentiable{Float32,Array{Float32,5},Array{Float32,5}}},Array{Float32,5},Array{Float32,5},Array{Float32,5}}, ::Float32, ::Float32, ::Float32) at /home/fxw/.julia/packages/LineSearches/WrsMD/src/hagerzhang.jl:270",
      " [18] HagerZhang at /home/fxw/.julia/packages/LineSearches/WrsMD/src/hagerzhang.jl:101 [inlined]",
      " [19] perform_linesearch!(::Optim.LBFGSState{Array{Float32,5},Array{Array{Float32,5},1},Array{Array{Float32,5},1},Float32,Array{Float32,5}}, ::LBFGS{Nothing,LineSearches.InitialStatic{Float64},LineSearches.HagerZhang{Float64,Base.RefValue{Bool}},Optim.var\"#19#21\"}, ::Optim.ManifoldObjective{OnceDifferentiable{Float32,Array{Float32,5},Array{Float32,5}}}) at /home/fxw/.julia/packages/Optim/L5T76/src/utilities/perform_linesearch.jl:56",
      " [20] update_state!(::OnceDifferentiable{Float32,Array{Float32,5},Array{Float32,5}}, ::Optim.LBFGSState{Array{Float32,5},Array{Array{Float32,5},1},Array{Array{Float32,5},1},Float32,Array{Float32,5}}, ::LBFGS{Nothing,LineSearches.InitialStatic{Float64},LineSearches.HagerZhang{Float64,Base.RefValue{Bool}},Optim.var\"#19#21\"}) at /home/fxw/.julia/packages/Optim/L5T76/src/multivariate/solvers/first_order/l_bfgs.jl:198",
      " [21] optimize(::OnceDifferentiable{Float32,Array{Float32,5},Array{Float32,5}}, ::Array{Float32,5}, ::LBFGS{Nothing,LineSearches.InitialStatic{Float64},LineSearches.HagerZhang{Float64,Base.RefValue{Bool}},Optim.var\"#19#21\"}, ::Optim.Options{Float64,Nothing}, ::Optim.LBFGSState{Array{Float32,5},Array{Array{Float32,5},1},Array{Array{Float32,5},1},Float32,Array{Float32,5}}) at /home/fxw/.julia/packages/Optim/L5T76/src/multivariate/optimize/optimize.jl:57",
      " [22] optimize(::OnceDifferentiable{Float32,Array{Float32,5},Array{Float32,5}}, ::Array{Float32,5}, ::LBFGS{Nothing,LineSearches.InitialStatic{Float64},LineSearches.HagerZhang{Float64,Base.RefValue{Bool}},Optim.var\"#19#21\"}, ::Optim.Options{Float64,Nothing}) at /home/fxw/.julia/packages/Optim/L5T76/src/multivariate/optimize/optimize.jl:33",
      " [23] #optimize#93 at /home/fxw/.julia/packages/Optim/L5T76/src/multivariate/optimize/interface.jl:116 [inlined]",
      " [24] optimize(::NLSolversBase.InplaceObjective{Nothing,DeconvOptim.var\"#f!#397\"{DeconvOptim.var\"#lossf2#396\"{DeconvOptim.var\"#poisson_loss!#391\",Array{Complex{Float32},5}}},Nothing,Nothing,Nothing}, ::Array{Float32,5}, ::LBFGS{Nothing,LineSearches.InitialStatic{Float64},LineSearches.HagerZhang{Float64,Base.RefValue{Bool}},Optim.var\"#19#21\"}, ::Optim.Options{Float64,Nothing}) at /home/fxw/.julia/packages/Optim/L5T76/src/multivariate/optimize/interface.jl:115",
      " [25] deconvolution(::Array{Float32,2}, ::Array{Float32,2}; lossf::DeconvOptim.var\"#poisson_loss!#391\", regularizerf::DeconvOptim.var\"#f!#779\"{Float64}, mappingf::Tuple{DeconvOptim.var\"#359#362\",DeconvOptim.var\"#360#363\",DeconvOptim.var\"#361#364\"}, iterations::Int64, options::Optim.Options{Float64,Nothing}, plan_fft::Bool) at /home/fxw/Documents/Uni/FSU/2semester/Internship/DeconvOptim.jl/src/DeconvOptim.jl:124",
      " [26] macro expansion at ./util.jl:175 [inlined]",
      " [27] top-level scope at ./In[93]:5"
     ]
    }
   ],
   "source": [
    "@time resTV_old, o, r0 = deconvolution(img_noisy, psf, \n",
    "        lossf=Poisson(), mappingf=Non_negative(), regularizerf=TV_old(λ=0.02),\n",
    "        options=Optim.Options(iterations=10))\n",
    "print(o)\n",
    "\n",
    "\n",
    "@time resTV, o, r0 = deconvolution(img_noisy, psf, \n",
    "        lossf=Poisson(), mappingf=Non_negative(), regularizerf=TV(λ=0.02, mode=\"forward\"),\n",
    "        options=Optim.Options(iterations=10))\n",
    "print(o)\n"
   ]
  },
  {
   "cell_type": "code",
   "execution_count": 94,
   "metadata": {},
   "outputs": [
    {
     "ename": "UndefVarError",
     "evalue": "UndefVarError: resTV not defined",
     "output_type": "error",
     "traceback": [
      "UndefVarError: resTV not defined",
      "",
      "Stacktrace:",
      " [1] top-level scope at In[94]:1"
     ]
    }
   ],
   "source": [
    "imshowv(img, resTV_old[:,:], resTV[:, :], res_lr2,  img_noisy)"
   ]
  },
  {
   "cell_type": "code",
   "execution_count": null,
   "metadata": {},
   "outputs": [
    {
     "name": "stdout",
     "output_type": "stream",
     "text": [
      "(512, 512, 3, 1)(512, 512, 3, 3, 1) 11.880658 seconds (5.05 M allocations: 8.661 GiB, 12.89% gc time)\n",
      " * Status: failure (reached maximum number of iterations)\n",
      "\n",
      " * Candidate solution\n",
      "    Minimizer: [1.29e-03, 2.66e-03, 3.95e-03,  ...]\n",
      "    Minimum:   2.110065e-01\n",
      "\n",
      " * Found with\n",
      "    Algorithm:     L-BFGS\n",
      "    Initial Point: [5.17e-02, 5.20e-02, 5.23e-02,  ...]\n",
      "\n",
      " * Convergence measures\n",
      "    |x - x'|               = 1.50e-01 ≰ 0.0e+00\n",
      "    |x - x'|/|x'|          = 9.21e-02 ≰ 0.0e+00\n",
      "    |f(x) - f(x')|         = 1.64e-06 ≰ 0.0e+00\n",
      "    |f(x) - f(x')|/|f(x')| = 7.77e-06 ≰ 0.0e+00\n",
      "    |g(x)|                 = 2.61e-06 ≰ 1.0e-08\n",
      "\n",
      " * Work counters\n",
      "    Seconds run:   8  (vs limit Inf)\n",
      "    Iterations:    10\n",
      "    f(x) calls:    37\n",
      "    ∇f(x) calls:   37\n"
     ]
    }
   ],
   "source": [
    "img3d = cat(img_noisy, img_noisy, img_noisy, dims=3);\n",
    "img4d = cat(img3d, img3d ./ 2, img3d .* 2, dims=4);\n",
    "img5d = reshape(img4d, (size(img4d)..., 1))\n",
    "\n",
    "psf3d = cat(psf, zeros(size(img)), zeros(size(img)), dims=3)\n",
    "psf4d = cat(psf, psf, psf, dims=3)\n",
    "psf5d = reshape(psf4d, (size(psf4d)..., 1))\n",
    "#imshow(img3d)\n",
    "print(size(psf5d))\n",
    "print(size(img5d))\n",
    "\n",
    "\n",
    "@time resGR, o, r0 = deconvolution(img5d, psf3d, \n",
    "        lossf=Poisson(), mappingf=Non_negative(), regularizerf=DeconvOptim.GR(λ=0.02, mode=\"central\"),\n",
    "        options=Optim.Options(iterations=10))\n",
    "print(o)\n",
    "\n",
    "@time resGR_old, o, r0 = deconvolution(img5d, psf3d, \n",
    "        lossf=Poisson(), mappingf=Non_negative(), regularizerf=DeconvOptim.GR(λ=0.02, mode=\"forward\"),\n",
    "        options=Optim.Options(iterations=10))\n",
    "print(o)\n"
   ]
  },
  {
   "cell_type": "code",
   "execution_count": null,
   "metadata": {},
   "outputs": [],
   "source": [
    "imshowv(img, resGR_old[:,:,1,1,1], resGR[:,:,2,1,1], res_lr2,  img_noisy)"
   ]
  },
  {
   "cell_type": "code",
   "execution_count": null,
   "metadata": {},
   "outputs": [],
   "source": [
    "using TestImages\n",
    "using Tullio\n",
    "img = convert(Array{Float32}, testimage(\"fabio_gray_512\"))\n",
    "x = reshape(img, 512, 512, 1)\n",
    "\n",
    "@tullio res_t = (x[i + 1, j, k] + x[i - 1, j, k+1])^2 \n",
    "print(res_t, \"\\n\")\n",
    "\n",
    "@tullio res_t = (x[i + 1, j, k] + x[i - 1, j, k - 1])^2\n",
    "print(res_t, \"\\n\")\n",
    "\n",
    "res_f = 0\n",
    "for j = 1:size(x)[2]\n",
    "    for i = 2:size(x)[1] - 1\n",
    "        res_f += (x[i+1, j] + x[i - 1, j])^2\n",
    "    end\n",
    "end\n",
    "print(res_f)"
   ]
  },
  {
   "cell_type": "code",
   "execution_count": null,
   "metadata": {},
   "outputs": [],
   "source": [
    "219891.22\n",
    "219891.22\n",
    "219914.31"
   ]
  },
  {
   "cell_type": "code",
   "execution_count": null,
   "metadata": {},
   "outputs": [],
   "source": []
  },
  {
   "cell_type": "code",
   "execution_count": null,
   "metadata": {},
   "outputs": [],
   "source": []
  },
  {
   "cell_type": "code",
   "execution_count": null,
   "metadata": {},
   "outputs": [],
   "source": []
  },
  {
   "cell_type": "code",
   "execution_count": null,
   "metadata": {},
   "outputs": [],
   "source": [
    "x = randn(500, 500);\n",
    "\n",
    "function ∇s_square5(img)\n",
    "    ∇y = img[3:end, 2:end - 1] .- img[1:end - 2, 2:end - 1]\n",
    "    ∇x = img[2:end - 1, 3:end] .- img[2:end - 1, 1:end - 2]\n",
    "    return (∇x .^2 .+ ∇y .^2) ./ 4 \n",
    "end\n",
    "\n",
    "function ∇spatial_square2(rec; ϵ=1e-5)\n",
    "    out = similar(rec)#zeros(size(rec))\n",
    "    R = CartesianIndices(rec)\n",
    "    c_first, c_last = first(R), last(R)\n",
    "    uc = oneunit(c_first)\n",
    "    for I in R\n",
    "        n, s = 0, 0#zero(eltype(out))\n",
    "        for J in max(c_first, I - uc):min(c_last, I + uc)\n",
    "            n += 1\n",
    "            s += (rec[I] - rec[J])^2\n",
    "        end\n",
    "        out[I] = s / n\n",
    "    end\n",
    "    return out ./ 4 ./ length(rec)\n",
    "end\n",
    "\n",
    "\n",
    "#@time ∇spatial_square2(x)\n",
    "#@time ∇s_square5(x)\n",
    "#@time ForwardDiff.gradient(rec -> sum(∇spatial_square2(rec)), x)\n",
    "#@time ReverseDiff.gradient(rec -> sum(∇s_square5(rec)), x)\n",
    "#@time ForwardDiff.gradient(rec -> sum(∇s_square5(rec)), x)\n",
    "#@time ForwardDiff.gradient(rec -> sum(∇s_square5(rec)), x)\n",
    "#@time ReverseDiff.gradient(rec -> sum(∇s_square5(rec)), x)\n",
    "#@time ReverseDiff.gradient(rec -> sum(∇spatial_square2(rec)), x)\n",
    "#@time Zygote.gradient(rec -> sum(∇spatial_square2(rec)), x)\n",
    "#@time ReverseDiff.gradient(rec -> sum(∇s_square5(rec)), x)\n",
    "@time Zygote.gradient(rec -> sum(∇s_square5(rec)), x)\n",
    "@time Zygote.gradient(rec -> sum(∇s_square5(rec)), x)\n",
    "@time sum(∇s_square5(x))\n",
    "@time sum(∇s_square5(x))\n",
    "#@time Zygote.gradient(rec -> sum(abs.(fft(rec))), x)\n",
    "#@time ReverseDiff.gradient(rec -> sum(abs.(fft(rec))), x)\n",
    "#@time ∇_∇s_square(x)"
   ]
  },
  {
   "cell_type": "code",
   "execution_count": null,
   "metadata": {},
   "outputs": [],
   "source": [
    "function boxcar3(A::AbstractArray)\n",
    "    out = similar(A)\n",
    "    R = CartesianIndices(A)\n",
    "    Ifirst, Ilast = first(R), last(R)\n",
    "    I1 = oneunit(Ifirst)\n",
    "    for I in R\n",
    "        n, s = 0, zero(eltype(out))\n",
    "        for J in max(Ifirst, I-I1):min(Ilast, I+I1)\n",
    "            s += A[J]\n",
    "            n += 1\n",
    "        end\n",
    "        out[I] = s/n\n",
    "    end\n",
    "    out\n",
    "end\n",
    "\n",
    "boxcar3(x)"
   ]
  },
  {
   "cell_type": "code",
   "execution_count": null,
   "metadata": {},
   "outputs": [],
   "source": [
    "using ImageFiltering\n",
    "using Statistics\n",
    "img_m = mapwindow(median!, img_noisy, (2,2))"
   ]
  },
  {
   "cell_type": "code",
   "execution_count": null,
   "metadata": {},
   "outputs": [],
   "source": [
    "imshowv(img, img_m, img_noisy)"
   ]
  },
  {
   "cell_type": "code",
   "execution_count": null,
   "metadata": {},
   "outputs": [],
   "source": [
    "f, df, inv_f = Non_negative2()\n",
    "x = -5:0.01:5\n",
    "#plot(x, f.(inv_f.(x)))\n",
    "#plot(x, inv_f.(f.(x)))\n",
    "#plot(x, inv_f.(x))\n",
    "#plot!(x, df(x))\n",
    "plot(x, f.(x))\n",
    "plot!(x, inv_f.(x), ylims=(-5,5 ))"
   ]
  },
  {
   "cell_type": "code",
   "execution_count": null,
   "metadata": {},
   "outputs": [],
   "source": [
    "#mg1img2 = convert(Array{Float32}, channelview(testimage(\"peppers_gray\"))[1, :, :])\n",
    "img1 = img\n",
    "img2 = img_b \n",
    "img3 = img_noisy \n",
    "img4 = resGR2\n",
    "img1_ft = abs.(fftshift(fft(img1)))\n",
    "img2_ft = abs.(fftshift(fft(img2)))\n",
    "img3_ft = abs.(fftshift(fft(img3)))\n",
    "img4_ft = abs.(fftshift(fft(img4)))\n",
    "N, _ = size(img1)\n",
    "plot(img1_ft[N ÷ 2:400, N ÷ 2 + 1])\n",
    "plot!(img2_ft[N ÷ 2:400, N ÷ 2 + 1])\n",
    "plot!(img4_ft[N ÷ 2:400, N ÷ 2 + 1])\n",
    "#imshowv(img1_ft, img2_ft, img3_ft, img4_ft)"
   ]
  },
  {
   "cell_type": "code",
   "execution_count": null,
   "metadata": {},
   "outputs": [],
   "source": [
    "imshowv(img3, img2)"
   ]
  },
  {
   "cell_type": "code",
   "execution_count": null,
   "metadata": {},
   "outputs": [],
   "source": [
    "using Tullio, Einsum, LoopVectorization\n",
    "\n",
    "function laplace_vec(rec)                                                           \n",
    "    @views a = (rec[1:end-2, 2:end-1] .- 4 .* rec[2:end - 1, 2:end - 1]                \n",
    "                .+ rec[3:end, 2:end - 1])                                           \n",
    "    @views b = (rec[2:end-1, 1:end-2]                 \n",
    "                .+ rec[2:end - 1, 3:end])                                           \n",
    "                                                                                \n",
    "    return @views sum((a .+ b) .^ 2)                                                   \n",
    "end     \n",
    "\n",
    "\n",
    "function laplace_for(rec)\n",
    "    res = zero(eltype(rec))\n",
    "    @avx for j = 2:size(rec)[2] - 1\n",
    "        for i = 2:size(rec)[1] - 1\n",
    "            @inbounds res += (rec[i - 1, j] + rec[i+1, j] \n",
    "                              + rec[i, j+1] + rec[i, j-1] - 4 * rec[i,j])^2\n",
    "        end\n",
    "    end\n",
    "    return res\n",
    "end\n",
    "        \n",
    "\n",
    "laplace_tul(rec) = @tullio res = (rec[i - 1, j] + rec[i + 1, j] +   \n",
    "                                  rec[i, j + 1] + rec[i, j - 1] - 4 * rec[i,j])^2\n"
   ]
  },
  {
   "cell_type": "code",
   "execution_count": null,
   "metadata": {},
   "outputs": [],
   "source": [
    "x = convert(Array{Float32}, 10 .+ randn(500, 500))\n",
    "@time a = laplace_vec(x)\n",
    "@time a = laplace_vec(x)\n",
    "@time b = laplace_for(x)\n",
    "@time b = laplace_for(x)\n",
    "@time c = laplace_tul(x)\n",
    "@time c = laplace_tul(x)\n",
    "\n",
    "\n",
    "vec_tape_comp = ReverseDiff.compile(ReverseDiff.GradientTape(laplace_vec, x))\n",
    "for_tape_comp = ReverseDiff.compile(ReverseDiff.GradientTape(laplace_for, x))\n",
    "\n",
    "print(\"Zygote\", \"\\n\")\n",
    "@time Zygote.gradient(laplace_vec, x)\n",
    "@time Zygote.gradient(laplace_vec, x)\n",
    "@time Zygote.gradient(laplace_tul, x)\n",
    "@time Zygote.gradient(laplace_tul, x)\n",
    "#@time ReverseDiff.gradient!(similar(x), vec_tape_comp, x);\n",
    "#@time ReverseDiff.gradient!(similar(x), vec_tape_comp, x);\n",
    "#@time ReverseDiff.gradient!(similar(x), for_tape_comp, x);\n",
    "#@time ReverseDiff.gradient!(similar(x), for_tape_comp, x);\n",
    "##@time Zygote.gradient(laplace_for, x)\n",
    "#@time Zygote.gradient(laplace_for, x)\n",
    "\n",
    "a ≈ b\n",
    "a ≈ c"
   ]
  },
  {
   "cell_type": "code",
   "execution_count": null,
   "metadata": {},
   "outputs": [],
   "source": [
    "print(a, \"\\n\", b, \"\\n\", c)"
   ]
  },
  {
   "cell_type": "code",
   "execution_count": null,
   "metadata": {},
   "outputs": [],
   "source": [
    "function L2norm_v(x)\n",
    "    return sum(x .^ 2)\n",
    "end\n",
    "\n",
    "function L2norm_f(x)\n",
    "    res = 0\n",
    "    for j = 1:size(x)[2]\n",
    "        for i = 1:size(x)[1]\n",
    "            @inbounds res += x[i, j]^2\n",
    "        end\n",
    "    end\n",
    "    return res\n",
    "end\n",
    "\n",
    "function L2norm_df(x)\n",
    "    res = 0\n",
    "    for j = 1:size(x)[2]\n",
    "        for i = 1:size(x)[1]\n",
    "            @inbounds res += 2 .* x[i, j]\n",
    "        end\n",
    "    end\n",
    "    return res\n",
    "end   \n",
    "\n",
    "function L2norm_dv(x)\n",
    "    return 2 .* x\n",
    "end\n",
    "\n",
    "x = rand(110, 100)\n",
    "\n",
    "@time a = L2norm_v(x)\n",
    "@time a = L2norm_v(x)\n",
    "@time b = L2norm_f(x)\n",
    "@time b = L2norm_f(x)\n",
    " \n",
    "print(\"Zygote\", \"\\n\")\n",
    "@time Zygote.gradient(L2norm_v, x)\n",
    "@time Zygote.gradient(L2norm_v, x)\n",
    "@time Zygote.gradient(L2norm_f, x)\n",
    "@time Zygote.gradient(L2norm_f, x)\n",
    "\n",
    "print(\"Analytic\", \"\\n\")\n",
    "@time L2norm_dv(x)\n",
    "@time L2norm_dv(x)\n",
    "@time L2norm_df(x)\n",
    "@time L2norm_df(x)\n"
   ]
  },
  {
   "cell_type": "code",
   "execution_count": null,
   "metadata": {},
   "outputs": [],
   "source": [
    "M, K, N = 47, 73, 7;\n",
    "A = rand(M, K);\n",
    "b = rand(K);\n",
    "c = rand(M);\n",
    "d = rand(1,K,N);\n",
    "\n",
    "E1 = Array{Float64}(undef, M, K, N);\n",
    "E2 = similar(E1);\n",
    "\n",
    "@time @. $E1 = exp($A - $b' +    $d) * $c\n",
    "ldad = LowDimArray{(false,true,true)}(d);\n",
    "\n",
    "@time @avx @. $E2 = exp($A - $b' + $ldad) * $c;"
   ]
  },
  {
   "cell_type": "code",
   "execution_count": null,
   "metadata": {},
   "outputs": [],
   "source": [
    "E2 ≈ E1"
   ]
  },
  {
   "cell_type": "code",
   "execution_count": null,
   "metadata": {},
   "outputs": [],
   "source": [
    "img3d = cat(img, dims=3);\n",
    "img4d = cat(img3d, img3d ./ 2, img3d .* 2, dims=4);\n",
    "img5d = cat(img4d, img4d ./ 2, img4d .* 2, dims=5);\n",
    "#imshow(img3d)\n",
    "print(size(img5d))"
   ]
  },
  {
   "cell_type": "code",
   "execution_count": null,
   "metadata": {},
   "outputs": [],
   "source": [
    "y=rfft(img5d, [1, 2, 3]);\n",
    "print(size(y))"
   ]
  },
  {
   "cell_type": "code",
   "execution_count": null,
   "metadata": {},
   "outputs": [],
   "source": [
    "imshow(img5d[:, :, :, :, 1])"
   ]
  },
  {
   "cell_type": "code",
   "execution_count": null,
   "metadata": {},
   "outputs": [],
   "source": [
    "imshow(real.(y[:, :, 1, :, 1]))"
   ]
  },
  {
   "cell_type": "code",
   "execution_count": null,
   "metadata": {},
   "outputs": [],
   "source": [
    "img3d_2 = randn(size(img3d))\n",
    "P = plan_rfft(img3d);\n",
    "img3d_fft = P * img3d\n",
    "P_inv = plan_irfft(img3d_fft, size(img3d)[1]);\n",
    "\n",
    "img3d ≈ P_inv * (P * img3d)\n",
    "\n",
    "img3d_2 ≈ P_inv * (P * img3d_2)\n",
    "\n",
    "#size(P * img3d)\n",
    "#size(P_inv * (P * img3d))"
   ]
  },
  {
   "cell_type": "code",
   "execution_count": null,
   "metadata": {},
   "outputs": [],
   "source": [
    "using Tullio\n",
    "using Zygote\n",
    "arr_1 = randn((10, 10));\n",
    "\n",
    "function f(arr)\n",
    "    @tullio res1 = arr[i, k] - arr[i-1, k]\n",
    "    @tullio res2 = arr[i, k] - arr[i, k+1]\n",
    "    return res1 + res2\n",
    "end\n",
    "\n",
    "f(arr_1)\n",
    "\n",
    "print(gradient(f, arr_1))"
   ]
  },
  {
   "cell_type": "code",
   "execution_count": null,
   "metadata": {},
   "outputs": [],
   "source": [
    "using Tullio\n",
    "arr = randn((10, 10))\n",
    "#@tullio res = getindex(arr, [i, j])\n",
    "@tullio res = getindex(arr, i, j) \n",
    "#@tullio res = arr[i, j] \n",
    " \n",
    "print(getindex(arr, 1, 2), \" \", arr[1, 2])\n",
    "\n",
    "#print(sum(arr), \"\\n\", sum(arr))"
   ]
  },
  {
   "cell_type": "code",
   "execution_count": 62,
   "metadata": {},
   "outputs": [
    {
     "data": {
      "text/plain": [
       "f (generic function with 1 method)"
      ]
     },
     "execution_count": 62,
     "metadata": {},
     "output_type": "execute_result"
    }
   ],
   "source": [
    "using Tullio \n",
    "\n",
    "expr(d, inds1, inds2) = :(weights[$d] * abs2(arr[$(inds1...)] - arr[$(inds2...)]))\n",
    "@eval function f(arr, weights)\n",
    "    $(create_Ndim_regularizer(expr, identity, Ndim=3)...)\n",
    "end"
   ]
  },
  {
   "cell_type": "code",
   "execution_count": 64,
   "metadata": {},
   "outputs": [
    {
     "name": "stdout",
     "output_type": "stream",
     "text": [
      "  0.000030 seconds (35 allocations: 1.375 KiB)\n"
     ]
    },
    {
     "data": {
      "text/plain": [
       "9845.955023367394"
      ]
     },
     "execution_count": 64,
     "metadata": {},
     "output_type": "execute_result"
    }
   ],
   "source": [
    "arr = randn((10, 10, 20))\n",
    "@time f(arr, [1, 1, 1])"
   ]
  },
  {
   "cell_type": "code",
   "execution_count": 37,
   "metadata": {},
   "outputs": [
    {
     "data": {
      "text/plain": [
       "9"
      ]
     },
     "execution_count": 37,
     "metadata": {},
     "output_type": "execute_result"
    }
   ],
   "source": [
    "10 + -1"
   ]
  },
  {
   "cell_type": "code",
   "execution_count": 45,
   "metadata": {},
   "outputs": [
    {
     "data": {
      "text/plain": [
       "3-element Array{Any,1}:\n",
       " :(res_1 = let\n",
       "          #= /home/fxw/Documents/Uni/FSU/2semester/Internship/DeconvOptim.jl/src/regularizer.jl:36 =#\n",
       "          weights[1] * abs2(arr[i1 + 1, i2] - arr[i1 + -1, i2])\n",
       "      end)\n",
       " :(res_2 = let\n",
       "          #= /home/fxw/Documents/Uni/FSU/2semester/Internship/DeconvOptim.jl/src/regularizer.jl:36 =#\n",
       "          weights[2] * abs2(arr[i1, i2 + 1] - arr[i1, i2 + -1])\n",
       "      end)\n",
       " :(comb_f(res_1 + res_2))"
      ]
     },
     "execution_count": 45,
     "metadata": {},
     "output_type": "execute_result"
    }
   ],
   "source": [
    "create_Ndim_regularizer(expr, identity, Ndim=2)\n"
   ]
  },
  {
   "cell_type": "code",
   "execution_count": 87,
   "metadata": {},
   "outputs": [
    {
     "name": "stdout",
     "output_type": "stream",
     "text": [
      "  0.249144 seconds (463 allocations: 31.000 KiB)\n"
     ]
    },
    {
     "data": {
      "text/plain": [
       "0.0"
      ]
     },
     "execution_count": 87,
     "metadata": {},
     "output_type": "execute_result"
    }
   ],
   "source": [
    "x = ones((100, 200, 300, 20))\n",
    "@time lol(x)"
   ]
  },
  {
   "cell_type": "code",
   "execution_count": 88,
   "metadata": {},
   "outputs": [
    {
     "data": {
      "text/plain": [
       "457.763671875"
      ]
     },
     "execution_count": 88,
     "metadata": {},
     "output_type": "execute_result"
    }
   ],
   "source": [
    "100 * 200 * 300 * 20 / 512 / 512"
   ]
  },
  {
   "cell_type": "code",
   "execution_count": 35,
   "metadata": {},
   "outputs": [
    {
     "data": {
      "text/plain": [
       "15.494488004239969"
      ]
     },
     "execution_count": 35,
     "metadata": {},
     "output_type": "execute_result"
    }
   ],
   "source": [
    "using Tullio\n",
    "arr = randn((10, 10, 1))\n",
    "@tullio res = arr[i,j, k]"
   ]
  },
  {
   "cell_type": "code",
   "execution_count": 29,
   "metadata": {},
   "outputs": [
    {
     "data": {
      "text/plain": [
       "lol (generic function with 2 methods)"
      ]
     },
     "execution_count": 29,
     "metadata": {},
     "output_type": "execute_result"
    }
   ],
   "source": [
    "function lol(num_dim, sum_dim)\n",
    "    out, add = [], []\n",
    "    for d in 1:sum_dim\n",
    "        ind = :i # @gensym ind\n",
    "        inds1 = map(1:num_dim) do di\n",
    "            i = Symbol(ind, di)\n",
    "            di == d ? :($i+1) : i\n",
    "        end\n",
    "        inds2 = map(1:num_dim) do di\n",
    "            i = Symbol(ind, di)\n",
    "            di == d ? :($i-1) : i\n",
    "        end\n",
    "        push!(add, :(arr[$(inds1...)] - arr[$(inds2...)]))\n",
    "    end\n",
    "    push!(out, :(@tullio res = +($(add...))))\n",
    "    quote\n",
    "        $(out...)\n",
    "    end\n",
    "end"
   ]
  },
  {
   "cell_type": "code",
   "execution_count": 61,
   "metadata": {},
   "outputs": [
    {
     "name": "stdout",
     "output_type": "stream",
     "text": [
      "  0.061565 seconds (9.53 k allocations: 549.306 KiB)\n"
     ]
    },
    {
     "data": {
      "text/plain": [
       "lol2 (generic function with 1 method)"
      ]
     },
     "execution_count": 61,
     "metadata": {},
     "output_type": "execute_result"
    }
   ],
   "source": [
    "@time @eval function lol2(arr)\n",
    "    $(lol(3, 2))\n",
    "end"
   ]
  },
  {
   "cell_type": "code",
   "execution_count": 34,
   "metadata": {},
   "outputs": [
    {
     "name": "stdout",
     "output_type": "stream",
     "text": [
      "  0.000015 seconds (12 allocations: 432 bytes)\n"
     ]
    },
    {
     "data": {
      "text/plain": [
       "-8.437124952164748"
      ]
     },
     "execution_count": 34,
     "metadata": {},
     "output_type": "execute_result"
    }
   ],
   "source": [
    "@time lol2(arr)"
   ]
  },
  {
   "cell_type": "code",
   "execution_count": 63,
   "metadata": {},
   "outputs": [
    {
     "name": "stdout",
     "output_type": "stream",
     "text": [
      "  0.075221 seconds (9.53 k allocations: 549.134 KiB)\n"
     ]
    },
    {
     "data": {
      "text/plain": [
       "f (generic function with 1 method)"
      ]
     },
     "execution_count": 63,
     "metadata": {},
     "output_type": "execute_result"
    }
   ],
   "source": [
    "@time @eval function f(x)\n",
    "    $(lol(3, 2))\n",
    "end"
   ]
  },
  {
   "cell_type": "code",
   "execution_count": 64,
   "metadata": {},
   "outputs": [
    {
     "data": {
      "text/plain": [
       "quote\n",
       "    #= In[29]:17 =#\n",
       "    #= In[29]:15 =# @tullio res = (arr[i1 + 1, i2, i3] - arr[i1 - 1, i2, i3]) + (arr[i1, i2 + 1, i3] - arr[i1, i2 - 1, i3])\n",
       "end"
      ]
     },
     "execution_count": 64,
     "metadata": {},
     "output_type": "execute_result"
    }
   ],
   "source": [
    "for i in 1:10\n",
    "    for j in i:10\n",
    "        "
   ]
  },
  {
   "cell_type": "code",
   "execution_count": 36,
   "metadata": {},
   "outputs": [
    {
     "name": "stdout",
     "output_type": "stream",
     "text": [
      "  0.011038 seconds (6.93 k allocations: 391.549 KiB)\n"
     ]
    },
    {
     "data": {
      "text/plain": [
       "#835 (generic function with 1 method)"
      ]
     },
     "execution_count": 36,
     "metadata": {},
     "output_type": "execute_result"
    }
   ],
   "source": [
    "using Revise\n",
    "using DeconvOptim\n",
    "using Random\n",
    "@time reg = generate_spatial_grad_square_n(5, 3)"
   ]
  },
  {
   "cell_type": "code",
   "execution_count": 41,
   "metadata": {},
   "outputs": [
    {
     "ename": "ErrorException",
     "evalue": "no gradient definition here!",
     "output_type": "error",
     "traceback": [
      "no gradient definition here!",
      "",
      "Stacktrace:",
      " [1] (::Tullio.var\"#221#222\"{Tullio.Eval{DeconvOptim.var\"#ℳ𝒶𝓀ℯ#838\"{DeconvOptim.var\"#𝒜𝒸𝓉!#837\"},Nothing},Tuple{Array{Float64,5}},Array{Float64,1}})(::FillArrays.Fill{Float64,1,Tuple{Base.OneTo{Int64}}}) at /home/fxw/.julia/packages/Tullio/bnAxO/src/grad/zygote.jl:7",
      " [2] (::Tullio.var\"#18#back#223\"{Tullio.var\"#221#222\"{Tullio.Eval{DeconvOptim.var\"#ℳ𝒶𝓀ℯ#838\"{DeconvOptim.var\"#𝒜𝒸𝓉!#837\"},Nothing},Tuple{Array{Float64,5}},Array{Float64,1}}})(::FillArrays.Fill{Float64,1,Tuple{Base.OneTo{Int64}}}) at /home/fxw/.julia/packages/ZygoteRules/6nssF/src/adjoint.jl:49",
      " [3] #835 at /home/fxw/Documents/Uni/FSU/2semester/Internship/DeconvOptim.jl/src/regularizer.jl:79 [inlined]",
      " [4] (::typeof(∂(#835)))(::Float64) at /home/fxw/.julia/packages/Zygote/YeCEW/src/compiler/interface2.jl:0",
      " [5] (::Zygote.var\"#36#37\"{typeof(∂(#835))})(::Float64) at /home/fxw/.julia/packages/Zygote/YeCEW/src/compiler/interface.jl:46",
      " [6] gradient(::Function, ::Array{Float64,5}) at /home/fxw/.julia/packages/Zygote/YeCEW/src/compiler/interface.jl:55",
      " [7] top-level scope at In[41]:3"
     ]
    }
   ],
   "source": [
    "Random.seed!(42)\n",
    "arr = randn((3,3,3,3,3))\n",
    "Zygote.gradient(reg, arr)\n",
    "@time reg(arr)"
   ]
  },
  {
   "cell_type": "code",
   "execution_count": 71,
   "metadata": {},
   "outputs": [
    {
     "name": "stderr",
     "output_type": "stream",
     "text": [
      "┌ Warning: Due to a previously reported error, the running code does not match saved version for the following files:\n",
      "│ \n",
      "│   /home/fxw/Documents/Uni/FSU/2semester/Internship/DeconvOptim.jl/src/regularizer.jl\n",
      "│ \n",
      "│ Use Revise.errors() to report errors again.\n",
      "└ @ Revise /home/fxw/.julia/packages/Revise/tV8FE/src/Revise.jl:804\n"
     ]
    },
    {
     "data": {
      "text/plain": [
       "create_Ndim_regularizer2 (generic function with 1 method)"
      ]
     },
     "execution_count": 71,
     "metadata": {},
     "output_type": "execute_result"
    }
   ],
   "source": [
    "                                                                                \n",
    "function create_Ndim_regularizer2(expr, num_dim, sum_dim)                       \n",
    "    out, add = [], []                                                           \n",
    "    for d in 1:sum_dim                                                          \n",
    "        ind = :i # @gensym ind                                                  \n",
    "        inds1 = map(1:num_dim) do di                                            \n",
    "            i = Symbol(ind, di)                                                 \n",
    "            di == d ? :($i+1) : i                                               \n",
    "        end                                                                     \n",
    "        inds2 = map(1:num_dim) do di                                            \n",
    "            i = Symbol(ind, di)                                                 \n",
    "            di == d ? :($i-1) : i                                               \n",
    "        end                                                                     \n",
    "        push!(add, expr(inds1, inds2))                                    \n",
    "    end                                                                         \n",
    "    push!(out, :(@tullio res = +($(add...))))                                   \n",
    "    return out                                                                  \n",
    "    #= quote =#                                                                 \n",
    "    #=     $(out...) =#                                                         \n",
    "    #= end =#                                                                   \n",
    "end  "
   ]
  },
  {
   "cell_type": "code",
   "execution_count": 39,
   "metadata": {},
   "outputs": [
    {
     "data": {
      "text/plain": [
       "(1,)"
      ]
     },
     "execution_count": 39,
     "metadata": {},
     "output_type": "execute_result"
    }
   ],
   "source": [
    "gradient(identity, 10)"
   ]
  },
  {
   "cell_type": "code",
   "execution_count": 109,
   "metadata": {},
   "outputs": [
    {
     "ename": "MethodError",
     "evalue": "MethodError: objects of type Symbol are not callable",
     "output_type": "error",
     "traceback": [
      "MethodError: objects of type Symbol are not callable",
      "",
      "Stacktrace:",
      " [1] (::var\"#𝓇𝒽𝓈#355\"{Symbol})(::Array{Float64,2}, ::Int64, ::Int64) at /home/fxw/.julia/packages/Tullio/bnAxO/src/macro.jl:542",
      " [2] (::var\"#ℳ𝒶𝓀ℯ#354\"{var\"#𝒜𝒸𝓉!#353\"})(::Array{Float64,2}, ::Symbol) at /home/fxw/.julia/packages/Tullio/bnAxO/src/macro.jl:554",
      " [3] adjoint at /home/fxw/.julia/packages/Tullio/bnAxO/src/grad/zygote.jl:5 [inlined]",
      " [4] _pullback at /home/fxw/.julia/packages/ZygoteRules/6nssF/src/adjoint.jl:47 [inlined]",
      " [5] f_not_working at ./In[109]:15 [inlined]",
      " [6] _pullback(::Zygote.Context, ::typeof(f_not_working), ::Array{Float64,2}) at /home/fxw/.julia/packages/Zygote/YeCEW/src/compiler/interface2.jl:0",
      " [7] _pullback(::Function, ::Array{Float64,2}) at /home/fxw/.julia/packages/Zygote/YeCEW/src/compiler/interface.jl:39",
      " [8] pullback(::Function, ::Array{Float64,2}) at /home/fxw/.julia/packages/Zygote/YeCEW/src/compiler/interface.jl:45",
      " [9] gradient(::Function, ::Array{Float64,2}) at /home/fxw/.julia/packages/Zygote/YeCEW/src/compiler/interface.jl:54",
      " [10] top-level scope at In[109]:20"
     ]
    }
   ],
   "source": [
    "using Zygote\n",
    "using Tullio\n",
    "\n",
    "x = ones((5,5))\n",
    "\n",
    "function f_working(arr)\n",
    "    @tullio res = sqrt(arr[i, j])\n",
    "    return res\n",
    "end\n",
    "\n",
    "foo = :sqrt \n",
    "\n",
    "\n",
    "function f_not_working(arr)\n",
    "    @tullio res = $foo(arr[i, j])\n",
    "    return res\n",
    "end\n",
    "\n",
    "f_working(x)\n",
    "gradient(f_not_working, x)"
   ]
  },
  {
   "cell_type": "code",
   "execution_count": null,
   "metadata": {},
   "outputs": [],
   "source": []
  }
 ],
 "metadata": {
  "kernelspec": {
   "display_name": "Julia 1.4.1",
   "language": "julia",
   "name": "julia-1.4"
  },
  "language_info": {
   "file_extension": ".jl",
   "mimetype": "application/julia",
   "name": "julia",
   "version": "1.4.2"
  }
 },
 "nbformat": 4,
 "nbformat_minor": 2
}
