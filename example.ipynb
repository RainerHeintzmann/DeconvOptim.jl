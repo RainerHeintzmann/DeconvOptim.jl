{
 "cells": [
  {
   "cell_type": "code",
   "execution_count": 42,
   "metadata": {},
   "outputs": [],
   "source": [
    "using Revise\n",
    "using FFTW, Optim, Images, ImageView, TestImages\n",
    "using Noise\n",
    "using DeconvOptim\n",
    "using Statistics\n",
    "using BenchmarkTools\n",
    "using Deconvolution\n",
    "using Zygote\n",
    "using ForwardDiff\n",
    "using ReverseDiff\n",
    "using Plots\n",
    "using Tullio\n",
    "#BenchmarkTools.DEFAULT_PARAMETERS.samples = 10\n",
    "#BenchmarkTools.DEFAULT_PARAMETERS.seconds = 100"
   ]
  },
  {
   "cell_type": "code",
   "execution_count": 220,
   "metadata": {},
   "outputs": [
    {
     "data": {
      "text/plain": [
       "lucy2 (generic function with 1 method)"
      ]
     },
     "execution_count": 220,
     "metadata": {},
     "output_type": "execute_result"
    }
   ],
   "source": [
    "function imshowv(args...)\n",
    "    imshow(cat(args..., dims=3))\n",
    "end\n",
    "\n",
    "\n",
    "function lucy2(observed::AbstractArray, psf::AbstractArray; iterations::Integer = 1)\n",
    "    @assert size(observed) == size(psf)\n",
    "    @assert iterations >= 0\n",
    "\n",
    "    psf_ft = fft(psf)\n",
    "    psf_ft_conj = conj.(psf_ft)\n",
    "\n",
    "    function lucystep(e)\n",
    "        return e .* real(ifft(fft(observed ./ ifft(fft(e) .* psf_ft)) .* psf_ft_conj)) \n",
    "    end\n",
    "\n",
    "    estimated = real(ifft(fft(observed) .* psf_ft))\n",
    "    for i in 1:iterations\n",
    "        estimated = lucystep(estimated)\n",
    "    end\n",
    "\n",
    "    return estimated\n",
    "end"
   ]
  },
  {
   "cell_type": "code",
   "execution_count": 221,
   "metadata": {},
   "outputs": [],
   "source": [
    "img = convert(Array{Float32}, channelview(load(\"../DeconvOptim/resolution_512.tif\")))\n",
    "#img = convert(Array{Float32}, testimage(\"fabio_gray_512\"))\n",
    "#img = convert(Array{Float32}, channelview(testimage(\"peppers_gray\"))[1, :, :])\n",
    "r = 30\n",
    "psf = convert(Array{Float32}, DeconvOptim.generate_psf(img, r))\n",
    "otf = rfft(psf)\n",
    "\n",
    "img_b = max.(0, DeconvOptim.conv_real_otf(img, otf))\n",
    "img_noisy = poisson(img_b, 100)\n",
    "\n",
    "imshowv(img, img_b, img_noisy);"
   ]
  },
  {
   "cell_type": "code",
   "execution_count": 10,
   "metadata": {},
   "outputs": [
    {
     "name": "stdout",
     "output_type": "stream",
     "text": [
      "  2.259004 seconds (168.51 k allocations: 1.776 GiB, 2.67% gc time)\n",
      "  2.974593 seconds (350.20 k allocations: 1.792 GiB, 2.37% gc time)\n"
     ]
    }
   ],
   "source": [
    "@time res_lr1 = lucy(img_noisy, psf, iterations=100);\n",
    "@time res_lr2 = lucy2(img_noisy, psf, iterations=100);"
   ]
  },
  {
   "cell_type": "code",
   "execution_count": 225,
   "metadata": {},
   "outputs": [
    {
     "name": "stdout",
     "output_type": "stream",
     "text": [
      "  1.438294 seconds (1.59 M allocations: 970.734 MiB, 2.99% gc time)\n",
      " * Status: failure (reached maximum number of iterations)\n",
      "\n",
      " * Candidate solution\n",
      "    Minimizer: [1.75e-03, -3.10e-04, 9.20e-04,  ...]\n",
      "    Minimum:   2.052154e-01\n",
      "\n",
      " * Found with\n",
      "    Algorithm:     L-BFGS\n",
      "    Initial Point: [5.23e-02, 5.14e-02, 5.06e-02,  ...]\n",
      "\n",
      " * Convergence measures\n",
      "    |x - x'|               = 2.99e-02 ≰ 0.0e+00\n",
      "    |x - x'|/|x'|          = 2.84e-02 ≰ 0.0e+00\n",
      "    |f(x) - f(x')|         = 2.58e-06 ≰ 0.0e+00\n",
      "    |f(x) - f(x')|/|f(x')| = 1.26e-05 ≰ 0.0e+00\n",
      "    |g(x)|                 = 1.04e-07 ≰ 1.0e-08\n",
      "\n",
      " * Work counters\n",
      "    Seconds run:   1  (vs limit Inf)\n",
      "    Iterations:    10\n",
      "    f(x) calls:    37\n",
      "    ∇f(x) calls:   37\n",
      "  1.454323 seconds (1.53 M allocations: 859.916 MiB, 1.61% gc time)\n",
      " * Status: failure (reached maximum number of iterations)\n",
      "\n",
      " * Candidate solution\n",
      "    Minimizer: [1.75e-03, -3.10e-04, 9.20e-04,  ...]\n",
      "    Minimum:   2.053190e-01\n",
      "\n",
      " * Found with\n",
      "    Algorithm:     L-BFGS\n",
      "    Initial Point: [5.23e-02, 5.14e-02, 5.06e-02,  ...]\n",
      "\n",
      " * Convergence measures\n",
      "    |x - x'|               = 2.99e-02 ≰ 0.0e+00\n",
      "    |x - x'|/|x'|          = 2.84e-02 ≰ 0.0e+00\n",
      "    |f(x) - f(x')|         = 3.17e-06 ≰ 0.0e+00\n",
      "    |f(x) - f(x')|/|f(x')| = 1.55e-05 ≰ 0.0e+00\n",
      "    |g(x)|                 = 1.04e-07 ≰ 1.0e-08\n",
      "\n",
      " * Work counters\n",
      "    Seconds run:   1  (vs limit Inf)\n",
      "    Iterations:    10\n",
      "    f(x) calls:    37\n",
      "    ∇f(x) calls:   37\n"
     ]
    }
   ],
   "source": [
    "@time resTikho, o, r0 = deconvolution(img_noisy, psf, \n",
    "        lossf=Poisson(), mappingf=Non_negative(), regularizerf=Tikhonov_old(λ=0.03),\n",
    "        options=Optim.Options(iterations=10))\n",
    "print(o)\n",
    "\n",
    "\n",
    "@time resTikho_vec, o, r0 = deconvolution(img_noisy, psf, \n",
    "        lossf=Poisson(), mappingf=Non_negative(), regularizerf=Tikhonov(λ=0.03, mode=\"spatial_grad_square\"),\n",
    "        options=Optim.Options(iterations=10))\n",
    "print(o)"
   ]
  },
  {
   "cell_type": "code",
   "execution_count": 12,
   "metadata": {
    "scrolled": true
   },
   "outputs": [
    {
     "ename": "UndefVarError",
     "evalue": "UndefVarError: resTikho not defined",
     "output_type": "error",
     "traceback": [
      "UndefVarError: resTikho not defined",
      "",
      "Stacktrace:",
      " [1] top-level scope at In[12]:1"
     ]
    }
   ],
   "source": [
    "imshowv(img, resTikho, resTikho_vec, res_lr2, img_noisy)"
   ]
  },
  {
   "cell_type": "code",
   "execution_count": 13,
   "metadata": {
    "scrolled": true
   },
   "outputs": [
    {
     "name": "stdout",
     "output_type": "stream",
     "text": [
      "  1.399593 seconds (566.11 k allocations: 811.643 MiB, 20.67% gc time)\n",
      " * Status: failure (reached maximum number of iterations)\n",
      "\n",
      " * Candidate solution\n",
      "    Minimizer: [-1.14e-03, 6.97e-05, 8.44e-04,  ...]\n",
      "    Minimum:   2.056960e-01\n",
      "\n",
      " * Found with\n",
      "    Algorithm:     L-BFGS\n",
      "    Initial Point: [4.89e-02, 4.82e-02, 4.78e-02,  ...]\n",
      "\n",
      " * Convergence measures\n",
      "    |x - x'|               = 2.38e-02 ≰ 0.0e+00\n",
      "    |x - x'|/|x'|          = 2.22e-02 ≰ 0.0e+00\n",
      "    |f(x) - f(x')|         = 5.29e-06 ≰ 0.0e+00\n",
      "    |f(x) - f(x')|/|f(x')| = 2.57e-05 ≰ 0.0e+00\n",
      "    |g(x)|                 = 3.74e-07 ≰ 1.0e-08\n",
      "\n",
      " * Work counters\n",
      "    Seconds run:   1  (vs limit Inf)\n",
      "    Iterations:    10\n",
      "    f(x) calls:    37\n",
      "    ∇f(x) calls:   37\n",
      "  1.982121 seconds (1.97 M allocations: 958.376 MiB, 2.83% gc time)\n",
      " * Status: failure (reached maximum number of iterations)\n",
      "\n",
      " * Candidate solution\n",
      "    Minimizer: [-2.78e-03, -1.55e-03, -1.14e-03,  ...]\n",
      "    Minimum:   2.055764e-01\n",
      "\n",
      " * Found with\n",
      "    Algorithm:     L-BFGS\n",
      "    Initial Point: [4.89e-02, 4.82e-02, 4.78e-02,  ...]\n",
      "\n",
      " * Convergence measures\n",
      "    |x - x'|               = 2.47e-02 ≰ 0.0e+00\n",
      "    |x - x'|/|x'|          = 2.27e-02 ≰ 0.0e+00\n",
      "    |f(x) - f(x')|         = 7.36e-06 ≰ 0.0e+00\n",
      "    |f(x) - f(x')|/|f(x')| = 3.58e-05 ≰ 0.0e+00\n",
      "    |g(x)|                 = 5.87e-07 ≰ 1.0e-08\n",
      "\n",
      " * Work counters\n",
      "    Seconds run:   1  (vs limit Inf)\n",
      "    Iterations:    10\n",
      "    f(x) calls:    37\n",
      "    ∇f(x) calls:   37\n"
     ]
    }
   ],
   "source": [
    "@time resTV_old, o, r0 = deconvolution(img_noisy, psf, \n",
    "        lossf=Poisson(), mappingf=Non_negative(), regularizerf=TV_old(λ=0.02),\n",
    "        options=Optim.Options(iterations=10))\n",
    "print(o)\n",
    "\n",
    "\n",
    "@time resTV, o, r0 = deconvolution(img_noisy, psf, \n",
    "        lossf=Poisson(), mappingf=Non_negative(), regularizerf=TV(λ=0.02, mode=\"forward\"),\n",
    "        options=Optim.Options(iterations=10))\n",
    "print(o)\n"
   ]
  },
  {
   "cell_type": "code",
   "execution_count": 14,
   "metadata": {},
   "outputs": [
    {
     "data": {
      "text/plain": [
       "Dict{String,Any} with 4 entries:\n",
       "  \"gui\"         => Dict{String,Any}(\"window\"=>GtkWindowLeaf(name=\"\", parent, wi…\n",
       "  \"roi\"         => Dict{String,Any}(\"redraw\"=>67: \"map(clim-mapped image, input…\n",
       "  \"annotations\" => 16: \"input-41\" = Dict{UInt64,Any}() Dict{UInt64,Any} \n",
       "  \"clim\"        => 15: \"CLim\" = CLim{Float32}(0.0, 1.0) CLim{Float32} "
      ]
     },
     "execution_count": 14,
     "metadata": {},
     "output_type": "execute_result"
    }
   ],
   "source": [
    "imshowv(img, resTV_old, resTV, res_lr2,  img_noisy)"
   ]
  },
  {
   "cell_type": "code",
   "execution_count": 223,
   "metadata": {},
   "outputs": [
    {
     "name": "stdout",
     "output_type": "stream",
     "text": [
      "(512, 512, 3, 1)(512, 512, 3, 3, 1)  6.910110 seconds (2.44 M allocations: 8.541 GiB, 2.40% gc time)\n",
      " * Status: failure (reached maximum number of iterations)\n",
      "\n",
      " * Candidate solution\n",
      "    Minimizer: [3.75e-03, -1.13e-03, -1.33e-03,  ...]\n",
      "    Minimum:   2.110747e-01\n",
      "\n",
      " * Found with\n",
      "    Algorithm:     L-BFGS\n",
      "    Initial Point: [5.23e-02, 5.14e-02, 5.06e-02,  ...]\n",
      "\n",
      " * Convergence measures\n",
      "    |x - x'|               = 1.31e-01 ≰ 0.0e+00\n",
      "    |x - x'|/|x'|          = 8.04e-02 ≰ 0.0e+00\n",
      "    |f(x) - f(x')|         = 1.06e-06 ≰ 0.0e+00\n",
      "    |f(x) - f(x')|/|f(x')| = 5.01e-06 ≰ 0.0e+00\n",
      "    |g(x)|                 = 7.49e-07 ≰ 1.0e-08\n",
      "\n",
      " * Work counters\n",
      "    Seconds run:   5  (vs limit Inf)\n",
      "    Iterations:    10\n",
      "    f(x) calls:    37\n",
      "    ∇f(x) calls:   37\n",
      " 16.690192 seconds (12.84 M allocations: 13.245 GiB, 11.34% gc time)\n",
      " * Status: failure (reached maximum number of iterations)\n",
      "\n",
      " * Candidate solution\n",
      "    Minimizer: [3.76e-03, -1.12e-03, -1.32e-03,  ...]\n",
      "    Minimum:   2.110748e-01\n",
      "\n",
      " * Found with\n",
      "    Algorithm:     L-BFGS\n",
      "    Initial Point: [5.23e-02, 5.14e-02, 5.06e-02,  ...]\n",
      "\n",
      " * Convergence measures\n",
      "    |x - x'|               = 1.29e-01 ≰ 0.0e+00\n",
      "    |x - x'|/|x'|          = 7.91e-02 ≰ 0.0e+00\n",
      "    |f(x) - f(x')|         = 9.46e-07 ≰ 0.0e+00\n",
      "    |f(x) - f(x')|/|f(x')| = 4.48e-06 ≰ 0.0e+00\n",
      "    |g(x)|                 = 7.31e-07 ≰ 1.0e-08\n",
      "\n",
      " * Work counters\n",
      "    Seconds run:   12  (vs limit Inf)\n",
      "    Iterations:    10\n",
      "    f(x) calls:    37\n",
      "    ∇f(x) calls:   37\n"
     ]
    }
   ],
   "source": [
    "img3d = cat(img_noisy, img_noisy, img_noisy, dims=3);\n",
    "img4d = cat(img3d, img3d ./ 2, img3d .* 2, dims=4);\n",
    "img5d = reshape(img4d, (size(img4d)..., 1))\n",
    "\n",
    "psf3d = cat(psf, zeros(size(img)), zeros(size(img)), dims=3)\n",
    "psf4d = cat(psf, psf, psf, dims=3)\n",
    "psf5d = reshape(psf4d, (size(psf4d)..., 1))\n",
    "#imshow(img3d)\n",
    "print(size(psf5d))\n",
    "print(size(img5d))\n",
    "\n",
    "\n",
    "@time resGR, o, r0 = deconvolution(img5d, psf3d, \n",
    "        lossf=Poisson(), mappingf=Non_negative(), regularizerf=DeconvOptim.GR(λ=0.02, mode=\"central\"),\n",
    "        options=Optim.Options(iterations=10))\n",
    "print(o)\n",
    "\n",
    "@time resGR_old, o, r0 = deconvolution(img5d, psf3d, \n",
    "        lossf=Poisson(), mappingf=Non_negative(), regularizerf=DeconvOptim.GR(λ=0.02, mode=\"central\"),\n",
    "        options=Optim.Options(iterations=10), plan_fft=false)\n",
    "print(o)\n"
   ]
  },
  {
   "cell_type": "code",
   "execution_count": 226,
   "metadata": {},
   "outputs": [
    {
     "data": {
      "text/plain": [
       "Dict{String,Any} with 4 entries:\n",
       "  \"gui\"         => Dict{String,Any}(\"window\"=>GtkWindowLeaf(name=\"\", parent, wi…\n",
       "  \"roi\"         => Dict{String,Any}(\"redraw\"=>1810: \"map(clim-mapped image, inp…\n",
       "  \"annotations\" => 1759: \"input-732\" = Dict{UInt64,Any}() Dict{UInt64,Any} \n",
       "  \"clim\"        => 1758: \"CLim\" = CLim{Float64}(0.0, 1.0) CLim{Float64} "
      ]
     },
     "execution_count": 226,
     "metadata": {},
     "output_type": "execute_result"
    }
   ],
   "source": [
    "imshowv(img, resGR_old[:,:,1,1,1], resGR[:,:,2,1,1], res_lr2,  img_noisy)"
   ]
  },
  {
   "cell_type": "code",
   "execution_count": 112,
   "metadata": {},
   "outputs": [
    {
     "name": "stdout",
     "output_type": "stream",
     "text": [
      "219891.22\n",
      "219891.22\n",
      "219916.52"
     ]
    }
   ],
   "source": [
    "using TestImages\n",
    "using Tullio\n",
    "img = convert(Array{Float32}, testimage(\"fabio_gray_512\"))\n",
    "x = reshape(img, 512, 512)\n",
    "\n",
    "@tullio res_t = (x[i + 1, j] + x[i - 1, j])^2 (i in 2:size(x)[1] - 1)\n",
    "print(res_t, \"\\n\")\n",
    "\n",
    "@tullio res_t = (x[i + 1, j] + x[i - 1, j])^2\n",
    "print(res_t, \"\\n\")\n",
    "\n",
    "res_f = 0\n",
    "for j = 1:size(x)[2]\n",
    "    for i = 2:size(x)[1] - 1\n",
    "        res_f += (x[i+1, j] + x[i - 1, j])^2\n",
    "    end\n",
    "end\n",
    "print(res_f)"
   ]
  },
  {
   "cell_type": "code",
   "execution_count": 79,
   "metadata": {},
   "outputs": [
    {
     "name": "stdout",
     "output_type": "stream",
     "text": [
      "42246.18"
     ]
    }
   ],
   "source": [
    "219891.22\n",
    "219891.22\n",
    "219914.31"
   ]
  },
  {
   "cell_type": "code",
   "execution_count": null,
   "metadata": {},
   "outputs": [],
   "source": []
  },
  {
   "cell_type": "code",
   "execution_count": null,
   "metadata": {},
   "outputs": [],
   "source": []
  },
  {
   "cell_type": "code",
   "execution_count": null,
   "metadata": {},
   "outputs": [],
   "source": []
  },
  {
   "cell_type": "code",
   "execution_count": 21,
   "metadata": {},
   "outputs": [
    {
     "name": "stdout",
     "output_type": "stream",
     "text": [
      "  2.152845 seconds (4.87 M allocations: 272.002 MiB, 1.13% gc time)\n",
      "  0.069284 seconds (27.66 k allocations: 45.045 MiB, 37.11% gc time)\n",
      "  0.273972 seconds (746.41 k allocations: 47.286 MiB)\n",
      "  0.002113 seconds (15 allocations: 13.246 MiB)\n"
     ]
    },
    {
     "data": {
      "text/plain": [
       "247641.78997331916"
      ]
     },
     "execution_count": 21,
     "metadata": {},
     "output_type": "execute_result"
    }
   ],
   "source": [
    "x = randn(500, 500);\n",
    "\n",
    "function ∇s_square5(img)\n",
    "    ∇y = img[3:end, 2:end - 1] .- img[1:end - 2, 2:end - 1]\n",
    "    ∇x = img[2:end - 1, 3:end] .- img[2:end - 1, 1:end - 2]\n",
    "    return (∇x .^2 .+ ∇y .^2) ./ 4 \n",
    "end\n",
    "\n",
    "function ∇spatial_square2(rec; ϵ=1e-5)\n",
    "    out = similar(rec)#zeros(size(rec))\n",
    "    R = CartesianIndices(rec)\n",
    "    c_first, c_last = first(R), last(R)\n",
    "    uc = oneunit(c_first)\n",
    "    for I in R\n",
    "        n, s = 0, 0#zero(eltype(out))\n",
    "        for J in max(c_first, I - uc):min(c_last, I + uc)\n",
    "            n += 1\n",
    "            s += (rec[I] - rec[J])^2\n",
    "        end\n",
    "        out[I] = s / n\n",
    "    end\n",
    "    return out ./ 4 ./ length(rec)\n",
    "end\n",
    "\n",
    "\n",
    "#@time ∇spatial_square2(x)\n",
    "#@time ∇s_square5(x)\n",
    "#@time ForwardDiff.gradient(rec -> sum(∇spatial_square2(rec)), x)\n",
    "#@time ReverseDiff.gradient(rec -> sum(∇s_square5(rec)), x)\n",
    "#@time ForwardDiff.gradient(rec -> sum(∇s_square5(rec)), x)\n",
    "#@time ForwardDiff.gradient(rec -> sum(∇s_square5(rec)), x)\n",
    "#@time ReverseDiff.gradient(rec -> sum(∇s_square5(rec)), x)\n",
    "#@time ReverseDiff.gradient(rec -> sum(∇spatial_square2(rec)), x)\n",
    "#@time Zygote.gradient(rec -> sum(∇spatial_square2(rec)), x)\n",
    "#@time ReverseDiff.gradient(rec -> sum(∇s_square5(rec)), x)\n",
    "@time Zygote.gradient(rec -> sum(∇s_square5(rec)), x)\n",
    "@time Zygote.gradient(rec -> sum(∇s_square5(rec)), x)\n",
    "@time sum(∇s_square5(x))\n",
    "@time sum(∇s_square5(x))\n",
    "#@time Zygote.gradient(rec -> sum(abs.(fft(rec))), x)\n",
    "#@time ReverseDiff.gradient(rec -> sum(abs.(fft(rec))), x)\n",
    "#@time ∇_∇s_square(x)"
   ]
  },
  {
   "cell_type": "code",
   "execution_count": 22,
   "metadata": {},
   "outputs": [
    {
     "data": {
      "text/plain": [
       "500×500 Array{Float64,2}:\n",
       "  0.115893    0.189212    0.0648857   …   0.318957    0.39334      0.12155\n",
       " -0.248294   -0.150836   -0.163246        0.404231    0.446898     0.216559\n",
       " -0.433059   -0.323033   -0.203914        0.421304    0.406883     0.24762\n",
       " -0.810258   -0.766692   -0.125277        0.526888    0.58999      0.736779\n",
       " -0.805415   -0.719668    0.104828        0.507519    0.56722      0.944258\n",
       " -0.938078   -0.780771   -0.203981    …   0.266776    0.288633     0.956896\n",
       " -0.712359   -0.544056   -0.053643       -0.267238    0.0100699    0.229353\n",
       " -0.0291711   0.0335279   0.218157       -0.302872   -0.175854    -0.0743936\n",
       "  0.140617   -0.0052566   0.405492        0.0267804   0.0733085   -0.202754\n",
       "  0.357952    0.303022    0.570685        0.327798    0.220115     0.0653649\n",
       " -0.400943   -0.182833    0.150025    …   0.663096    0.424093     0.0145052\n",
       " -0.873904   -0.483349   -0.342329        0.411655    0.191394     0.079698\n",
       " -0.895909   -0.525924   -0.681175        0.0359982   0.00336084  -0.0125769\n",
       "  ⋮                                   ⋱                           \n",
       " -0.15057     0.0966604   0.157982       -0.327582   -0.252262     0.234398\n",
       " -0.20478    -0.205301   -0.00920162     -0.140978   -0.148106     0.349183\n",
       " -0.229412   -0.310581   -0.235084    …  -0.180609   -0.242129    -0.0737492\n",
       " -0.533188   -0.420838    0.0112171      -0.112493   -0.227639    -0.256072\n",
       " -0.428994   -0.35156     0.12094         0.143046   -0.0339162   -0.262422\n",
       " -0.197232   -0.112785    0.201987        0.13522     0.126953    -0.174404\n",
       "  0.212499    0.158814    0.198586       -0.40907    -0.560621    -0.786618\n",
       "  0.54924     0.274434    0.31704     …  -0.573346   -0.571448    -0.713234\n",
       "  0.801535    0.366156    0.243942       -0.472207   -0.858026    -0.765504\n",
       "  0.427853    0.082082    0.225614        0.123828    0.0370486    0.225786\n",
       "  0.512572    0.411598    0.48258        -0.201322   -0.148187     0.177064\n",
       "  0.242551    0.317841    0.761076       -0.195645    0.247547     0.443099"
      ]
     },
     "execution_count": 22,
     "metadata": {},
     "output_type": "execute_result"
    }
   ],
   "source": [
    "function boxcar3(A::AbstractArray)\n",
    "    out = similar(A)\n",
    "    R = CartesianIndices(A)\n",
    "    Ifirst, Ilast = first(R), last(R)\n",
    "    I1 = oneunit(Ifirst)\n",
    "    for I in R\n",
    "        n, s = 0, zero(eltype(out))\n",
    "        for J in max(Ifirst, I-I1):min(Ilast, I+I1)\n",
    "            s += A[J]\n",
    "            n += 1\n",
    "        end\n",
    "        out[I] = s/n\n",
    "    end\n",
    "    out\n",
    "end\n",
    "\n",
    "boxcar3(x)"
   ]
  },
  {
   "cell_type": "code",
   "execution_count": 23,
   "metadata": {},
   "outputs": [
    {
     "ename": "ErrorException",
     "evalue": "entries in window must be odd, got (2, 2)",
     "output_type": "error",
     "traceback": [
      "entries in window must be odd, got (2, 2)",
      "",
      "Stacktrace:",
      " [1] resolve_window at /home/fxw/.julia/packages/ImageFiltering/jhBno/src/mapwindow.jl:117 [inlined]",
      " [2] mapwindow(::Function, ::Array{Float32,2}, ::Tuple{Int64,Int64}; border::String, indices::Tuple{Base.OneTo{Int64},Base.OneTo{Int64}}, callmode::Symbol) at /home/fxw/.julia/packages/ImageFiltering/jhBno/src/mapwindow.jl:68",
      " [3] mapwindow(::Function, ::Array{Float32,2}, ::Tuple{Int64,Int64}) at /home/fxw/.julia/packages/ImageFiltering/jhBno/src/mapwindow.jl:65",
      " [4] top-level scope at In[23]:3"
     ]
    }
   ],
   "source": [
    "using ImageFiltering\n",
    "using Statistics\n",
    "img_m = mapwindow(median!, img_noisy, (2,2))"
   ]
  },
  {
   "cell_type": "code",
   "execution_count": 24,
   "metadata": {},
   "outputs": [
    {
     "ename": "UndefVarError",
     "evalue": "UndefVarError: img_m not defined",
     "output_type": "error",
     "traceback": [
      "UndefVarError: img_m not defined",
      "",
      "Stacktrace:",
      " [1] top-level scope at In[24]:1"
     ]
    }
   ],
   "source": [
    "imshowv(img, img_m, img_noisy)"
   ]
  },
  {
   "cell_type": "code",
   "execution_count": 25,
   "metadata": {},
   "outputs": [
    {
     "data": {
      "image/svg+xml": [
       "<?xml version=\"1.0\" encoding=\"utf-8\"?>\n",
       "<svg xmlns=\"http://www.w3.org/2000/svg\" xmlns:xlink=\"http://www.w3.org/1999/xlink\" width=\"600\" height=\"400\" viewBox=\"0 0 2400 1600\">\n",
       "<defs>\n",
       "  <clipPath id=\"clip680\">\n",
       "    <rect x=\"0\" y=\"0\" width=\"2400\" height=\"1600\"/>\n",
       "  </clipPath>\n",
       "</defs>\n",
       "<path clip-path=\"url(#clip680)\" d=\"\n",
       "M0 1600 L2400 1600 L2400 0 L0 0  Z\n",
       "  \" fill=\"#ffffff\" fill-rule=\"evenodd\" fill-opacity=\"1\"/>\n",
       "<defs>\n",
       "  <clipPath id=\"clip681\">\n",
       "    <rect x=\"480\" y=\"0\" width=\"1681\" height=\"1600\"/>\n",
       "  </clipPath>\n",
       "</defs>\n",
       "<path clip-path=\"url(#clip680)\" d=\"\n",
       "M162.455 1486.45 L2352.76 1486.45 L2352.76 47.2441 L162.455 47.2441  Z\n",
       "  \" fill=\"#ffffff\" fill-rule=\"evenodd\" fill-opacity=\"1\"/>\n",
       "<defs>\n",
       "  <clipPath id=\"clip682\">\n",
       "    <rect x=\"162\" y=\"47\" width=\"2191\" height=\"1440\"/>\n",
       "  </clipPath>\n",
       "</defs>\n",
       "<polyline clip-path=\"url(#clip682)\" style=\"stroke:#000000; stroke-width:2; stroke-opacity:0.1; fill:none\" points=\"\n",
       "  431.077,1486.45 431.077,47.2441 \n",
       "  \"/>\n",
       "<polyline clip-path=\"url(#clip682)\" style=\"stroke:#000000; stroke-width:2; stroke-opacity:0.1; fill:none\" points=\"\n",
       "  844.341,1486.45 844.341,47.2441 \n",
       "  \"/>\n",
       "<polyline clip-path=\"url(#clip682)\" style=\"stroke:#000000; stroke-width:2; stroke-opacity:0.1; fill:none\" points=\"\n",
       "  1257.61,1486.45 1257.61,47.2441 \n",
       "  \"/>\n",
       "<polyline clip-path=\"url(#clip682)\" style=\"stroke:#000000; stroke-width:2; stroke-opacity:0.1; fill:none\" points=\"\n",
       "  1670.87,1486.45 1670.87,47.2441 \n",
       "  \"/>\n",
       "<polyline clip-path=\"url(#clip682)\" style=\"stroke:#000000; stroke-width:2; stroke-opacity:0.1; fill:none\" points=\"\n",
       "  2084.13,1486.45 2084.13,47.2441 \n",
       "  \"/>\n",
       "<polyline clip-path=\"url(#clip682)\" style=\"stroke:#000000; stroke-width:2; stroke-opacity:0.1; fill:none\" points=\"\n",
       "  162.455,1486.45 2352.76,1486.45 \n",
       "  \"/>\n",
       "<polyline clip-path=\"url(#clip682)\" style=\"stroke:#000000; stroke-width:2; stroke-opacity:0.1; fill:none\" points=\"\n",
       "  162.455,1126.65 2352.76,1126.65 \n",
       "  \"/>\n",
       "<polyline clip-path=\"url(#clip682)\" style=\"stroke:#000000; stroke-width:2; stroke-opacity:0.1; fill:none\" points=\"\n",
       "  162.455,766.846 2352.76,766.846 \n",
       "  \"/>\n",
       "<polyline clip-path=\"url(#clip682)\" style=\"stroke:#000000; stroke-width:2; stroke-opacity:0.1; fill:none\" points=\"\n",
       "  162.455,407.045 2352.76,407.045 \n",
       "  \"/>\n",
       "<polyline clip-path=\"url(#clip682)\" style=\"stroke:#000000; stroke-width:2; stroke-opacity:0.1; fill:none\" points=\"\n",
       "  162.455,47.2441 2352.76,47.2441 \n",
       "  \"/>\n",
       "<polyline clip-path=\"url(#clip680)\" style=\"stroke:#000000; stroke-width:4; stroke-opacity:1; fill:none\" points=\"\n",
       "  162.455,1486.45 2352.76,1486.45 \n",
       "  \"/>\n",
       "<polyline clip-path=\"url(#clip680)\" style=\"stroke:#000000; stroke-width:4; stroke-opacity:1; fill:none\" points=\"\n",
       "  162.455,1486.45 162.455,47.2441 \n",
       "  \"/>\n",
       "<polyline clip-path=\"url(#clip680)\" style=\"stroke:#000000; stroke-width:4; stroke-opacity:1; fill:none\" points=\"\n",
       "  431.077,1486.45 431.077,1469.18 \n",
       "  \"/>\n",
       "<polyline clip-path=\"url(#clip680)\" style=\"stroke:#000000; stroke-width:4; stroke-opacity:1; fill:none\" points=\"\n",
       "  844.341,1486.45 844.341,1469.18 \n",
       "  \"/>\n",
       "<polyline clip-path=\"url(#clip680)\" style=\"stroke:#000000; stroke-width:4; stroke-opacity:1; fill:none\" points=\"\n",
       "  1257.61,1486.45 1257.61,1469.18 \n",
       "  \"/>\n",
       "<polyline clip-path=\"url(#clip680)\" style=\"stroke:#000000; stroke-width:4; stroke-opacity:1; fill:none\" points=\"\n",
       "  1670.87,1486.45 1670.87,1469.18 \n",
       "  \"/>\n",
       "<polyline clip-path=\"url(#clip680)\" style=\"stroke:#000000; stroke-width:4; stroke-opacity:1; fill:none\" points=\"\n",
       "  2084.13,1486.45 2084.13,1469.18 \n",
       "  \"/>\n",
       "<polyline clip-path=\"url(#clip680)\" style=\"stroke:#000000; stroke-width:4; stroke-opacity:1; fill:none\" points=\"\n",
       "  162.455,1486.45 188.738,1486.45 \n",
       "  \"/>\n",
       "<polyline clip-path=\"url(#clip680)\" style=\"stroke:#000000; stroke-width:4; stroke-opacity:1; fill:none\" points=\"\n",
       "  162.455,1126.65 188.738,1126.65 \n",
       "  \"/>\n",
       "<polyline clip-path=\"url(#clip680)\" style=\"stroke:#000000; stroke-width:4; stroke-opacity:1; fill:none\" points=\"\n",
       "  162.455,766.846 188.738,766.846 \n",
       "  \"/>\n",
       "<polyline clip-path=\"url(#clip680)\" style=\"stroke:#000000; stroke-width:4; stroke-opacity:1; fill:none\" points=\"\n",
       "  162.455,407.045 188.738,407.045 \n",
       "  \"/>\n",
       "<polyline clip-path=\"url(#clip680)\" style=\"stroke:#000000; stroke-width:4; stroke-opacity:1; fill:none\" points=\"\n",
       "  162.455,47.2441 188.738,47.2441 \n",
       "  \"/>\n",
       "<path clip-path=\"url(#clip680)\" d=\"M 0 0 M411.088 1525.04 L423.565 1525.04 L423.565 1528.83 L411.088 1528.83 L411.088 1525.04 Z\" fill=\"#000000\" fill-rule=\"evenodd\" fill-opacity=\"1\" /><path clip-path=\"url(#clip680)\" d=\"M 0 0 M441.482 1509.43 L429.676 1527.88 L441.482 1527.88 L441.482 1509.43 M440.255 1505.36 L446.134 1505.36 L446.134 1527.88 L451.065 1527.88 L451.065 1531.77 L446.134 1531.77 L446.134 1539.92 L441.482 1539.92 L441.482 1531.77 L425.88 1531.77 L425.88 1527.26 L440.255 1505.36 Z\" fill=\"#000000\" fill-rule=\"evenodd\" fill-opacity=\"1\" /><path clip-path=\"url(#clip680)\" d=\"M 0 0 M825.394 1525.04 L837.871 1525.04 L837.871 1528.83 L825.394 1528.83 L825.394 1525.04 Z\" fill=\"#000000\" fill-rule=\"evenodd\" fill-opacity=\"1\" /><path clip-path=\"url(#clip680)\" d=\"M 0 0 M846.968 1535.98 L863.288 1535.98 L863.288 1539.92 L841.343 1539.92 L841.343 1535.98 Q844.005 1533.23 848.589 1528.6 Q853.195 1523.95 854.376 1522.61 Q856.621 1520.08 857.501 1518.35 Q858.403 1516.59 858.403 1514.9 Q858.403 1512.14 856.459 1510.41 Q854.538 1508.67 851.436 1508.67 Q849.237 1508.67 846.783 1509.43 Q844.352 1510.2 841.575 1511.75 L841.575 1507.03 Q844.399 1505.89 846.852 1505.31 Q849.306 1504.73 851.343 1504.73 Q856.714 1504.73 859.908 1507.42 Q863.102 1510.11 863.102 1514.6 Q863.102 1516.73 862.292 1518.65 Q861.505 1520.54 859.399 1523.14 Q858.82 1523.81 855.718 1527.03 Q852.616 1530.22 846.968 1535.98 Z\" fill=\"#000000\" fill-rule=\"evenodd\" fill-opacity=\"1\" /><path clip-path=\"url(#clip680)\" d=\"M 0 0 M1257.61 1508.44 Q1253.99 1508.44 1252.17 1512 Q1250.36 1515.55 1250.36 1522.67 Q1250.36 1529.78 1252.17 1533.35 Q1253.99 1536.89 1257.61 1536.89 Q1261.24 1536.89 1263.05 1533.35 Q1264.87 1529.78 1264.87 1522.67 Q1264.87 1515.55 1263.05 1512 Q1261.24 1508.44 1257.61 1508.44 M1257.61 1504.73 Q1263.42 1504.73 1266.47 1509.34 Q1269.55 1513.92 1269.55 1522.67 Q1269.55 1531.4 1266.47 1536.01 Q1263.42 1540.59 1257.61 1540.59 Q1251.8 1540.59 1248.72 1536.01 Q1245.66 1531.4 1245.66 1522.67 Q1245.66 1513.92 1248.72 1509.34 Q1251.8 1504.73 1257.61 1504.73 Z\" fill=\"#000000\" fill-rule=\"evenodd\" fill-opacity=\"1\" /><path clip-path=\"url(#clip680)\" d=\"M 0 0 M1665.52 1535.98 L1681.84 1535.98 L1681.84 1539.92 L1659.9 1539.92 L1659.9 1535.98 Q1662.56 1533.23 1667.14 1528.6 Q1671.75 1523.95 1672.93 1522.61 Q1675.18 1520.08 1676.05 1518.35 Q1676.96 1516.59 1676.96 1514.9 Q1676.96 1512.14 1675.01 1510.41 Q1673.09 1508.67 1669.99 1508.67 Q1667.79 1508.67 1665.34 1509.43 Q1662.91 1510.2 1660.13 1511.75 L1660.13 1507.03 Q1662.95 1505.89 1665.41 1505.31 Q1667.86 1504.73 1669.9 1504.73 Q1675.27 1504.73 1678.46 1507.42 Q1681.66 1510.11 1681.66 1514.6 Q1681.66 1516.73 1680.85 1518.65 Q1680.06 1520.54 1677.95 1523.14 Q1677.37 1523.81 1674.27 1527.03 Q1671.17 1530.22 1665.52 1535.98 Z\" fill=\"#000000\" fill-rule=\"evenodd\" fill-opacity=\"1\" /><path clip-path=\"url(#clip680)\" d=\"M 0 0 M2087.14 1509.43 L2075.34 1527.88 L2087.14 1527.88 L2087.14 1509.43 M2085.92 1505.36 L2091.8 1505.36 L2091.8 1527.88 L2096.73 1527.88 L2096.73 1531.77 L2091.8 1531.77 L2091.8 1539.92 L2087.14 1539.92 L2087.14 1531.77 L2071.54 1531.77 L2071.54 1527.26 L2085.92 1505.36 Z\" fill=\"#000000\" fill-rule=\"evenodd\" fill-opacity=\"1\" /><path clip-path=\"url(#clip680)\" d=\"M 0 0 M62.9921 1488.84 L75.4689 1488.84 L75.4689 1492.64 L62.9921 1492.64 L62.9921 1488.84 Z\" fill=\"#000000\" fill-rule=\"evenodd\" fill-opacity=\"1\" /><path clip-path=\"url(#clip680)\" d=\"M 0 0 M80.5846 1469.17 L98.941 1469.17 L98.941 1473.1 L84.867 1473.1 L84.867 1481.58 Q85.8855 1481.23 86.904 1481.07 Q87.9225 1480.88 88.9411 1480.88 Q94.7281 1480.88 98.1077 1484.05 Q101.487 1487.22 101.487 1492.64 Q101.487 1498.22 98.0151 1501.32 Q94.5429 1504.4 88.2235 1504.4 Q86.0476 1504.4 83.7791 1504.03 Q81.5337 1503.66 79.1263 1502.92 L79.1263 1498.22 Q81.2096 1499.35 83.4318 1499.91 Q85.654 1500.46 88.1309 1500.46 Q92.1355 1500.46 94.4734 1498.36 Q96.8114 1496.25 96.8114 1492.64 Q96.8114 1489.03 94.4734 1486.92 Q92.1355 1484.82 88.1309 1484.82 Q86.2559 1484.82 84.3809 1485.23 Q82.5291 1485.65 80.5846 1486.53 L80.5846 1469.17 Z\" fill=\"#000000\" fill-rule=\"evenodd\" fill-opacity=\"1\" /><path clip-path=\"url(#clip680)\" d=\"M 0 0 M106.557 1497.85 L111.441 1497.85 L111.441 1503.73 L106.557 1503.73 L106.557 1497.85 Z\" fill=\"#000000\" fill-rule=\"evenodd\" fill-opacity=\"1\" /><path clip-path=\"url(#clip680)\" d=\"M 0 0 M126.51 1472.25 Q122.899 1472.25 121.071 1475.81 Q119.265 1479.35 119.265 1486.48 Q119.265 1493.59 121.071 1497.15 Q122.899 1500.7 126.51 1500.7 Q130.145 1500.7 131.95 1497.15 Q133.779 1493.59 133.779 1486.48 Q133.779 1479.35 131.95 1475.81 Q130.145 1472.25 126.51 1472.25 M126.51 1468.54 Q132.32 1468.54 135.376 1473.15 Q138.455 1477.73 138.455 1486.48 Q138.455 1495.21 135.376 1499.82 Q132.32 1504.4 126.51 1504.4 Q120.7 1504.4 117.621 1499.82 Q114.566 1495.21 114.566 1486.48 Q114.566 1477.73 117.621 1473.15 Q120.7 1468.54 126.51 1468.54 Z\" fill=\"#000000\" fill-rule=\"evenodd\" fill-opacity=\"1\" /><path clip-path=\"url(#clip680)\" d=\"M 0 0 M64.5893 1129.04 L77.0661 1129.04 L77.0661 1132.84 L64.5893 1132.84 L64.5893 1129.04 Z\" fill=\"#000000\" fill-rule=\"evenodd\" fill-opacity=\"1\" /><path clip-path=\"url(#clip680)\" d=\"M 0 0 M86.1633 1139.99 L102.483 1139.99 L102.483 1143.93 L80.5383 1143.93 L80.5383 1139.99 Q83.2004 1137.24 87.7837 1132.61 Q92.3901 1127.95 93.5707 1126.61 Q95.816 1124.09 96.6956 1122.35 Q97.5984 1120.59 97.5984 1118.9 Q97.5984 1116.15 95.654 1114.41 Q93.7327 1112.68 90.6309 1112.68 Q88.4318 1112.68 85.9781 1113.44 Q83.5476 1114.2 80.7698 1115.76 L80.7698 1111.03 Q83.5939 1109.9 86.0476 1109.32 Q88.5012 1108.74 90.5383 1108.74 Q95.9086 1108.74 99.103 1111.43 Q102.297 1114.11 102.297 1118.6 Q102.297 1120.73 101.487 1122.65 Q100.7 1124.55 98.5938 1127.14 Q98.0151 1127.82 94.9133 1131.03 Q91.8114 1134.23 86.1633 1139.99 Z\" fill=\"#000000\" fill-rule=\"evenodd\" fill-opacity=\"1\" /><path clip-path=\"url(#clip680)\" d=\"M 0 0 M107.552 1138.05 L112.436 1138.05 L112.436 1143.93 L107.552 1143.93 L107.552 1138.05 Z\" fill=\"#000000\" fill-rule=\"evenodd\" fill-opacity=\"1\" /><path clip-path=\"url(#clip680)\" d=\"M 0 0 M117.552 1109.37 L135.908 1109.37 L135.908 1113.3 L121.834 1113.3 L121.834 1121.77 Q122.853 1121.43 123.871 1121.27 Q124.89 1121.08 125.908 1121.08 Q131.695 1121.08 135.075 1124.25 Q138.455 1127.42 138.455 1132.84 Q138.455 1138.42 134.982 1141.52 Q131.51 1144.6 125.191 1144.6 Q123.015 1144.6 120.746 1144.23 Q118.501 1143.86 116.094 1143.12 L116.094 1138.42 Q118.177 1139.55 120.399 1140.11 Q122.621 1140.66 125.098 1140.66 Q129.103 1140.66 131.441 1138.56 Q133.779 1136.45 133.779 1132.84 Q133.779 1129.23 131.441 1127.12 Q129.103 1125.01 125.098 1125.01 Q123.223 1125.01 121.348 1125.43 Q119.496 1125.85 117.552 1126.73 L117.552 1109.37 Z\" fill=\"#000000\" fill-rule=\"evenodd\" fill-opacity=\"1\" /><path clip-path=\"url(#clip680)\" d=\"M 0 0 M89.5429 752.645 Q85.9318 752.645 84.1031 756.209 Q82.2976 759.751 82.2976 766.881 Q82.2976 773.987 84.1031 777.552 Q85.9318 781.094 89.5429 781.094 Q93.1771 781.094 94.9827 777.552 Q96.8114 773.987 96.8114 766.881 Q96.8114 759.751 94.9827 756.209 Q93.1771 752.645 89.5429 752.645 M89.5429 748.941 Q95.3531 748.941 98.4086 753.547 Q101.487 758.131 101.487 766.881 Q101.487 775.608 98.4086 780.214 Q95.3531 784.797 89.5429 784.797 Q83.7328 784.797 80.6541 780.214 Q77.5985 775.608 77.5985 766.881 Q77.5985 758.131 80.6541 753.547 Q83.7328 748.941 89.5429 748.941 Z\" fill=\"#000000\" fill-rule=\"evenodd\" fill-opacity=\"1\" /><path clip-path=\"url(#clip680)\" d=\"M 0 0 M106.557 778.246 L111.441 778.246 L111.441 784.126 L106.557 784.126 L106.557 778.246 Z\" fill=\"#000000\" fill-rule=\"evenodd\" fill-opacity=\"1\" /><path clip-path=\"url(#clip680)\" d=\"M 0 0 M126.51 752.645 Q122.899 752.645 121.071 756.209 Q119.265 759.751 119.265 766.881 Q119.265 773.987 121.071 777.552 Q122.899 781.094 126.51 781.094 Q130.145 781.094 131.95 777.552 Q133.779 773.987 133.779 766.881 Q133.779 759.751 131.95 756.209 Q130.145 752.645 126.51 752.645 M126.51 748.941 Q132.32 748.941 135.376 753.547 Q138.455 758.131 138.455 766.881 Q138.455 775.608 135.376 780.214 Q132.32 784.797 126.51 784.797 Q120.7 784.797 117.621 780.214 Q114.566 775.608 114.566 766.881 Q114.566 758.131 117.621 753.547 Q120.7 748.941 126.51 748.941 Z\" fill=\"#000000\" fill-rule=\"evenodd\" fill-opacity=\"1\" /><path clip-path=\"url(#clip680)\" d=\"M 0 0 M86.1633 420.39 L102.483 420.39 L102.483 424.325 L80.5383 424.325 L80.5383 420.39 Q83.2004 417.635 87.7837 413.006 Q92.3901 408.353 93.5707 407.01 Q95.816 404.487 96.6956 402.751 Q97.5984 400.992 97.5984 399.302 Q97.5984 396.547 95.654 394.811 Q93.7327 393.075 90.6309 393.075 Q88.4318 393.075 85.9781 393.839 Q83.5476 394.603 80.7698 396.154 L80.7698 391.432 Q83.5939 390.297 86.0476 389.719 Q88.5012 389.14 90.5383 389.14 Q95.9086 389.14 99.103 391.825 Q102.297 394.51 102.297 399.001 Q102.297 401.131 101.487 403.052 Q100.7 404.95 98.5938 407.543 Q98.0151 408.214 94.9133 411.432 Q91.8114 414.626 86.1633 420.39 Z\" fill=\"#000000\" fill-rule=\"evenodd\" fill-opacity=\"1\" /><path clip-path=\"url(#clip680)\" d=\"M 0 0 M107.552 418.445 L112.436 418.445 L112.436 424.325 L107.552 424.325 L107.552 418.445 Z\" fill=\"#000000\" fill-rule=\"evenodd\" fill-opacity=\"1\" /><path clip-path=\"url(#clip680)\" d=\"M 0 0 M117.552 389.765 L135.908 389.765 L135.908 393.7 L121.834 393.7 L121.834 402.172 Q122.853 401.825 123.871 401.663 Q124.89 401.478 125.908 401.478 Q131.695 401.478 135.075 404.649 Q138.455 407.82 138.455 413.237 Q138.455 418.816 134.982 421.918 Q131.51 424.996 125.191 424.996 Q123.015 424.996 120.746 424.626 Q118.501 424.256 116.094 423.515 L116.094 418.816 Q118.177 419.95 120.399 420.506 Q122.621 421.061 125.098 421.061 Q129.103 421.061 131.441 418.955 Q133.779 416.848 133.779 413.237 Q133.779 409.626 131.441 407.52 Q129.103 405.413 125.098 405.413 Q123.223 405.413 121.348 405.83 Q119.496 406.246 117.552 407.126 L117.552 389.765 Z\" fill=\"#000000\" fill-rule=\"evenodd\" fill-opacity=\"1\" /><path clip-path=\"url(#clip680)\" d=\"M 0 0 M80.5846 29.9641 L98.941 29.9641 L98.941 33.8993 L84.867 33.8993 L84.867 42.3714 Q85.8855 42.0242 86.904 41.8622 Q87.9225 41.677 88.9411 41.677 Q94.7281 41.677 98.1077 44.8483 Q101.487 48.0196 101.487 53.4362 Q101.487 59.0149 98.0151 62.1167 Q94.5429 65.1954 88.2235 65.1954 Q86.0476 65.1954 83.7791 64.825 Q81.5337 64.4547 79.1263 63.7139 L79.1263 59.0149 Q81.2096 60.1491 83.4318 60.7047 Q85.654 61.2602 88.1309 61.2602 Q92.1355 61.2602 94.4734 59.1538 Q96.8114 57.0473 96.8114 53.4362 Q96.8114 49.8251 94.4734 47.7186 Q92.1355 45.6122 88.1309 45.6122 Q86.2559 45.6122 84.3809 46.0288 Q82.5291 46.4455 80.5846 47.3251 L80.5846 29.9641 Z\" fill=\"#000000\" fill-rule=\"evenodd\" fill-opacity=\"1\" /><path clip-path=\"url(#clip680)\" d=\"M 0 0 M106.557 58.6445 L111.441 58.6445 L111.441 64.5241 L106.557 64.5241 L106.557 58.6445 Z\" fill=\"#000000\" fill-rule=\"evenodd\" fill-opacity=\"1\" /><path clip-path=\"url(#clip680)\" d=\"M 0 0 M126.51 33.0428 Q122.899 33.0428 121.071 36.6076 Q119.265 40.1492 119.265 47.2788 Q119.265 54.3853 121.071 57.9501 Q122.899 61.4917 126.51 61.4917 Q130.145 61.4917 131.95 57.9501 Q133.779 54.3853 133.779 47.2788 Q133.779 40.1492 131.95 36.6076 Q130.145 33.0428 126.51 33.0428 M126.51 29.3391 Q132.32 29.3391 135.376 33.9456 Q138.455 38.5289 138.455 47.2788 Q138.455 56.0056 135.376 60.6121 Q132.32 65.1954 126.51 65.1954 Q120.7 65.1954 117.621 60.6121 Q114.566 56.0056 114.566 47.2788 Q114.566 38.5289 117.621 33.9456 Q120.7 29.3391 126.51 29.3391 Z\" fill=\"#000000\" fill-rule=\"evenodd\" fill-opacity=\"1\" /><polyline clip-path=\"url(#clip682)\" style=\"stroke:#009af9; stroke-width:4; stroke-opacity:1; fill:none\" points=\"\n",
       "  224.444,742.859 226.511,742.819 228.577,742.779 230.643,742.739 232.71,742.698 234.776,742.658 236.842,742.617 238.909,742.576 240.975,742.535 243.041,742.494 \n",
       "  245.108,742.453 247.174,742.411 249.24,742.37 251.307,742.328 253.373,742.286 255.439,742.244 257.505,742.202 259.572,742.16 261.638,742.117 263.704,742.075 \n",
       "  265.771,742.032 267.837,741.989 269.903,741.946 271.97,741.903 274.036,741.86 276.102,741.816 278.169,741.773 280.235,741.729 282.301,741.685 284.368,741.641 \n",
       "  286.434,741.597 288.5,741.552 290.567,741.508 292.633,741.463 294.699,741.418 296.766,741.373 298.832,741.328 300.898,741.283 302.965,741.237 305.031,741.192 \n",
       "  307.097,741.146 309.164,741.1 311.23,741.054 313.296,741.007 315.363,740.961 317.429,740.914 319.495,740.868 321.561,740.821 323.628,740.773 325.694,740.726 \n",
       "  327.76,740.679 329.827,740.631 331.893,740.583 333.959,740.535 336.026,740.487 338.092,740.439 340.158,740.39 342.225,740.341 344.291,740.292 346.357,740.243 \n",
       "  348.424,740.194 350.49,740.145 352.556,740.095 354.623,740.045 356.689,739.995 358.755,739.945 360.822,739.895 362.888,739.844 364.954,739.793 367.021,739.742 \n",
       "  369.087,739.691 371.153,739.64 373.22,739.588 375.286,739.537 377.352,739.485 379.418,739.433 381.485,739.38 383.551,739.328 385.617,739.275 387.684,739.222 \n",
       "  389.75,739.169 391.816,739.116 393.883,739.062 395.949,739.008 398.015,738.954 400.082,738.9 402.148,738.846 404.214,738.791 406.281,738.737 408.347,738.682 \n",
       "  410.413,738.626 412.48,738.571 414.546,738.515 416.612,738.459 418.679,738.403 420.745,738.347 422.811,738.29 424.878,738.234 426.944,738.177 429.01,738.119 \n",
       "  431.077,738.062 433.143,738.004 435.209,737.946 437.275,737.888 439.342,737.83 441.408,737.771 443.474,737.712 445.541,737.653 447.607,737.594 449.673,737.534 \n",
       "  451.74,737.474 453.806,737.414 455.872,737.354 457.939,737.294 460.005,737.233 462.071,737.172 464.138,737.11 466.204,737.049 468.27,736.987 470.337,736.925 \n",
       "  472.403,736.863 474.469,736.8 476.536,736.737 478.602,736.674 480.668,736.611 482.735,736.547 484.801,736.483 486.867,736.419 488.934,736.354 491,736.29 \n",
       "  493.066,736.225 495.133,736.159 497.199,736.094 499.265,736.028 501.331,735.962 503.398,735.895 505.464,735.829 507.53,735.762 509.597,735.694 511.663,735.627 \n",
       "  513.729,735.559 515.796,735.491 517.862,735.422 519.928,735.354 521.995,735.284 524.061,735.215 526.127,735.145 528.194,735.075 530.26,735.005 532.326,734.935 \n",
       "  534.393,734.864 536.459,734.792 538.525,734.721 540.592,734.649 542.658,734.577 544.724,734.504 546.791,734.431 548.857,734.358 550.923,734.285 552.99,734.211 \n",
       "  555.056,734.137 557.122,734.062 559.188,733.987 561.255,733.912 563.321,733.837 565.387,733.761 567.454,733.685 569.52,733.608 571.586,733.531 573.653,733.454 \n",
       "  575.719,733.376 577.785,733.298 579.852,733.22 581.918,733.141 583.984,733.062 586.051,732.982 588.117,732.902 590.183,732.822 592.25,732.742 594.316,732.661 \n",
       "  596.382,732.579 598.449,732.497 600.515,732.415 602.581,732.333 604.648,732.25 606.714,732.166 608.78,732.083 610.847,731.998 612.913,731.914 614.979,731.829 \n",
       "  617.046,731.743 619.112,731.658 621.178,731.571 623.244,731.485 625.311,731.398 627.377,731.31 629.443,731.222 631.51,731.134 633.576,731.045 635.642,730.956 \n",
       "  637.709,730.866 639.775,730.776 641.841,730.685 643.908,730.594 645.974,730.502 648.04,730.41 650.107,730.318 652.173,730.225 654.239,730.132 656.306,730.038 \n",
       "  658.372,729.943 660.438,729.848 662.505,729.753 664.571,729.657 666.637,729.561 668.704,729.464 670.77,729.367 672.836,729.269 674.903,729.17 676.969,729.072 \n",
       "  679.035,728.972 681.101,728.872 683.168,728.772 685.234,728.671 687.3,728.569 689.367,728.467 691.433,728.365 693.499,728.261 695.566,728.158 697.632,728.053 \n",
       "  699.698,727.949 701.765,727.843 703.831,727.737 705.897,727.631 707.964,727.523 710.03,727.416 712.096,727.307 714.163,727.198 716.229,727.089 718.295,726.979 \n",
       "  720.362,726.868 722.428,726.757 724.494,726.645 726.561,726.532 728.627,726.419 730.693,726.305 732.76,726.191 734.826,726.075 736.892,725.96 738.958,725.843 \n",
       "  741.025,725.726 743.091,725.608 745.157,725.49 747.224,725.37 749.29,725.25 751.356,725.13 753.423,725.009 755.489,724.887 757.555,724.764 759.622,724.641 \n",
       "  761.688,724.516 763.754,724.392 765.821,724.266 767.887,724.14 769.953,724.013 772.02,723.885 774.086,723.756 776.152,723.627 778.219,723.496 780.285,723.366 \n",
       "  782.351,723.234 784.418,723.101 786.484,722.968 788.55,722.834 790.617,722.699 792.683,722.563 794.749,722.426 796.816,722.289 798.882,722.15 800.948,722.011 \n",
       "  803.014,721.871 805.081,721.73 807.147,721.588 809.213,721.445 811.28,721.302 813.346,721.157 815.412,721.011 817.479,720.865 819.545,720.718 821.611,720.569 \n",
       "  823.678,720.42 825.744,720.27 827.81,720.119 829.877,719.966 831.943,719.813 834.009,719.659 836.076,719.504 838.142,719.348 840.208,719.19 842.275,719.032 \n",
       "  844.341,718.873 846.407,718.712 848.474,718.551 850.54,718.388 852.606,718.224 854.673,718.059 856.739,717.893 858.805,717.726 860.871,717.558 862.938,717.389 \n",
       "  865.004,717.218 867.07,717.047 869.137,716.874 871.203,716.7 873.269,716.524 875.336,716.348 877.402,716.17 879.468,715.991 881.535,715.81 883.601,715.629 \n",
       "  885.667,715.446 887.734,715.262 889.8,715.076 891.866,714.889 893.933,714.701 895.999,714.511 898.065,714.32 900.132,714.128 902.198,713.934 904.264,713.739 \n",
       "  906.331,713.542 908.397,713.344 910.463,713.144 912.53,712.943 914.596,712.741 916.662,712.536 918.729,712.331 920.795,712.123 922.861,711.915 924.927,711.704 \n",
       "  926.994,711.492 929.06,711.278 931.126,711.063 933.193,710.846 935.259,710.627 937.325,710.407 939.392,710.184 941.458,709.96 943.524,709.735 945.591,709.507 \n",
       "  947.657,709.278 949.723,709.047 951.79,708.814 953.856,708.579 955.922,708.342 957.989,708.103 960.055,707.862 962.121,707.619 964.188,707.375 966.254,707.128 \n",
       "  968.32,706.879 970.387,706.628 972.453,706.375 974.519,706.12 976.586,705.863 978.652,705.603 980.718,705.342 982.784,705.078 984.851,704.811 986.917,704.543 \n",
       "  988.983,704.272 991.05,703.999 993.116,703.723 995.182,703.445 997.249,703.164 999.315,702.881 1001.38,702.596 1003.45,702.308 1005.51,702.017 1007.58,701.724 \n",
       "  1009.65,701.428 1011.71,701.129 1013.78,700.827 1015.85,700.523 1017.91,700.216 1019.98,699.906 1022.04,699.593 1024.11,699.278 1026.18,698.959 1028.24,698.637 \n",
       "  1030.31,698.312 1032.38,697.985 1034.44,697.653 1036.51,697.319 1038.58,696.982 1040.64,696.641 1042.71,696.297 1044.77,695.949 1046.84,695.598 1048.91,695.244 \n",
       "  1050.97,694.886 1053.04,694.524 1055.11,694.159 1057.17,693.79 1059.24,693.417 1061.3,693.041 1063.37,692.66 1065.44,692.276 1067.5,691.887 1069.57,691.495 \n",
       "  1071.64,691.098 1073.7,690.698 1075.77,690.293 1077.84,689.883 1079.9,689.469 1081.97,689.051 1084.03,688.628 1086.1,688.201 1088.17,687.769 1090.23,687.332 \n",
       "  1092.3,686.89 1094.37,686.444 1096.43,685.992 1098.5,685.535 1100.56,685.073 1102.63,684.606 1104.7,684.133 1106.76,683.655 1108.83,683.171 1110.9,682.682 \n",
       "  1112.96,682.187 1115.03,681.686 1117.1,681.179 1119.16,680.666 1121.23,680.147 1123.29,679.622 1125.36,679.09 1127.43,678.551 1129.49,678.006 1131.56,677.454 \n",
       "  1133.63,676.896 1135.69,676.33 1137.76,675.757 1139.82,675.177 1141.89,674.589 1143.96,673.994 1146.02,673.391 1148.09,672.78 1150.16,672.162 1152.22,671.534 \n",
       "  1154.29,670.899 1156.36,670.255 1158.42,669.602 1160.49,668.941 1162.55,668.27 1164.62,667.591 1166.69,666.901 1168.75,666.202 1170.82,665.494 1172.89,664.775 \n",
       "  1174.95,664.046 1177.02,663.306 1179.09,662.556 1181.15,661.795 1183.22,661.022 1185.28,660.238 1187.35,659.443 1189.42,658.635 1191.48,657.815 1193.55,656.983 \n",
       "  1195.62,656.138 1197.68,655.28 1199.75,654.408 1201.81,653.523 1203.88,652.623 1205.95,651.71 1208.01,650.781 1210.08,649.838 1212.15,648.878 1214.21,647.904 \n",
       "  1216.28,646.912 1218.35,645.904 1220.41,644.88 1222.48,643.837 1224.54,642.777 1226.61,641.698 1228.68,640.6 1230.74,639.483 1232.81,638.346 1234.88,637.188 \n",
       "  1236.94,636.009 1239.01,634.809 1241.07,633.586 1243.14,632.341 1245.21,631.072 1247.27,629.779 1249.34,628.461 1251.41,627.117 1253.47,625.748 1255.54,624.351 \n",
       "  1257.61,622.926 1259.67,621.472 1261.74,619.99 1263.8,618.478 1265.87,616.939 1267.94,615.37 1270,613.772 1272.07,612.146 1274.14,610.491 1276.2,608.807 \n",
       "  1278.27,607.094 1280.33,605.353 1282.4,603.583 1284.47,601.784 1286.53,599.956 1288.6,598.099 1290.67,596.214 1292.73,594.3 1294.8,592.357 1296.87,590.385 \n",
       "  1298.93,588.385 1301,586.355 1303.06,584.297 1305.13,582.211 1307.2,580.095 1309.26,577.95 1311.33,575.777 1313.4,573.575 1315.46,571.345 1317.53,569.085 \n",
       "  1319.59,566.797 1321.66,564.48 1323.73,562.134 1325.79,559.759 1327.86,557.355 1329.93,554.923 1331.99,552.462 1334.06,549.972 1336.13,547.454 1338.19,544.906 \n",
       "  1340.26,542.33 1342.32,539.725 1344.39,537.091 1346.46,534.429 1348.52,531.738 1350.59,529.018 1352.66,526.269 1354.72,523.491 1356.79,520.685 1358.86,517.849 \n",
       "  1360.92,514.985 1362.99,512.093 1365.05,509.171 1367.12,506.221 1369.19,503.241 1371.25,500.233 1373.32,497.197 1375.39,494.131 1377.45,491.037 1379.52,487.914 \n",
       "  1381.58,484.762 1383.65,481.581 1385.72,478.372 1387.78,475.134 1389.85,471.867 1391.92,468.571 1393.98,465.246 1396.05,461.893 1398.12,458.511 1400.18,455.1 \n",
       "  1402.25,451.66 1404.31,448.192 1406.38,444.695 1408.45,441.169 1410.51,437.614 1412.58,434.03 1414.65,430.418 1416.71,426.777 1418.78,423.107 1420.84,419.408 \n",
       "  1422.91,415.68 1424.98,411.924 1427.04,408.139 1429.11,404.325 1431.18,400.482 1433.24,396.611 1435.31,392.711 1437.38,388.782 1439.44,384.824 1441.51,380.837 \n",
       "  1443.57,376.822 1445.64,372.778 1447.71,368.705 1449.77,364.603 1451.84,360.472 1453.91,356.313 1455.97,352.125 1458.04,347.908 1460.1,343.663 1462.17,339.388 \n",
       "  1464.24,335.085 1466.3,330.753 1468.37,326.392 1470.44,322.002 1472.5,317.584 1474.57,313.137 1476.64,308.661 1478.7,304.156 1480.77,299.623 1482.83,295.061 \n",
       "  1484.9,290.47 1486.97,285.85 1489.03,281.201 1491.1,276.524 1493.17,271.817 1495.23,267.082 1497.3,262.319 1499.36,257.526 1501.43,252.705 1503.5,247.855 \n",
       "  1505.56,242.976 1507.63,238.068 1509.7,233.132 1511.76,228.166 1513.83,223.172 1515.9,218.15 1517.96,213.098 1520.03,208.018 1522.09,202.908 1524.16,197.77 \n",
       "  1526.23,192.604 1528.29,187.408 1530.36,182.184 1532.43,176.931 1534.49,171.649 1536.56,166.338 1538.63,160.999 1540.69,155.631 1542.76,150.234 1544.82,144.808 \n",
       "  1546.89,139.353 1548.96,133.87 1551.02,128.358 1553.09,122.817 1555.16,117.247 1557.22,111.648 1559.29,106.021 1561.35,100.365 1563.42,94.6803 1565.49,88.9666 \n",
       "  1567.55,83.2242 1569.62,77.453 1571.69,71.653 1573.75,65.8242 1575.82,59.9667 1577.89,54.0803 1579.95,48.1652 1582.02,42.2213 1584.08,36.2486 1586.15,30.2471 \n",
       "  1588.22,24.2168 1590.28,18.1578 1592.35,12.07 1594.42,5.95334 1596.48,-0.192062 1598.55,-6.36625 1600.61,-12.5692 1602.68,-18.801 1604.75,-25.0615 1606.81,-31.3508 \n",
       "  1608.88,-37.6689 1610.95,-44.0158 1613.01,-50.3915 1615.08,-56.7959 1617.15,-63.2292 1619.21,-69.6912 1621.28,-76.182 1623.34,-82.7016 1625.41,-89.25 1627.48,-95.8272 \n",
       "  1629.54,-102.433 1631.61,-109.068 1633.68,-115.731 1635.74,-122.424 1637.81,-129.145 1639.87,-135.895 1641.94,-142.673 1644.01,-149.481 1646.07,-156.317 1648.14,-163.182 \n",
       "  1650.21,-170.076 1652.27,-176.998 1654.34,-183.95 1656.41,-190.93 1658.47,-197.939 1660.54,-204.976 1662.6,-212.043 1664.67,-219.138 1666.74,-226.262 1668.8,-233.415 \n",
       "  1670.87,-240.597 1672.94,-247.807 1675,-255.046 1677.07,-262.314 1679.13,-269.611 1681.2,-276.937 1683.27,-284.291 1685.33,-291.674 1687.4,-299.086 1689.47,-306.527 \n",
       "  1691.53,-313.996 1693.6,-321.494 1695.67,-329.021 1697.73,-336.577 1699.8,-344.162 1701.86,-351.775 1703.93,-359.417 1706,-367.088 1708.06,-374.788 1710.13,-382.517 \n",
       "  1712.2,-390.274 1714.26,-398.06 1716.33,-405.875 1718.4,-413.718 1720.46,-421.591 1722.53,-429.492 1724.59,-437.422 1726.66,-445.381 1728.73,-453.369 1730.79,-461.385 \n",
       "  1732.86,-469.43 1734.93,-477.504 1736.99,-485.607 1739.06,-493.738 1741.12,-501.898 1743.19,-510.088 1745.26,-518.305 1747.32,-526.552 1749.39,-534.827 1751.46,-543.132 \n",
       "  1753.52,-551.465 1755.59,-559.826 1757.66,-568.217 1759.72,-576.636 1761.79,-585.084 1763.85,-593.561 1765.92,-602.067 1767.99,-610.602 1770.05,-619.165 1772.12,-627.757 \n",
       "  1774.19,-636.378 1776.25,-645.027 1778.32,-653.706 1780.38,-662.413 1782.45,-671.149 1784.52,-679.914 1786.58,-688.707 1788.65,-697.529 1790.72,-706.381 1792.78,-715.26 \n",
       "  1794.85,-724.169 1796.92,-733.107 1798.98,-742.073 1801.05,-751.068 1803.11,-760.092 1805.18,-769.144 1807.25,-778.226 1809.31,-787.336 1811.38,-796.475 1813.45,-805.642 \n",
       "  1815.51,-814.839 1817.58,-824.064 1819.64,-833.318 1821.71,-842.601 1823.78,-851.913 1825.84,-861.253 1827.91,-870.623 1829.98,-880.021 1832.04,-889.447 1834.11,-898.903 \n",
       "  1836.18,-908.387 1838.24,-917.9 1840.31,-927.442 1842.37,-937.013 1844.44,-946.612 1846.51,-956.241 1848.57,-965.898 1850.64,-975.584 1852.71,-985.298 1854.77,-995.042 \n",
       "  1856.84,-1004.81 1858.9,-1014.61 1860.97,-1024.44 1863.04,-1034.3 1865.1,-1044.19 1867.17,-1054.11 1869.24,-1064.05 1871.3,-1074.03 1873.37,-1084.03 1875.44,-1094.06 \n",
       "  1877.5,-1104.12 1879.57,-1114.21 1881.63,-1124.33 1883.7,-1134.47 1885.77,-1144.65 1887.83,-1154.85 1889.9,-1165.08 1891.97,-1175.35 1894.03,-1185.64 1896.1,-1195.95 \n",
       "  1898.17,-1206.3 1900.23,-1216.68 1902.3,-1227.08 1904.36,-1237.52 1906.43,-1247.98 1908.5,-1258.47 1910.56,-1268.99 1912.63,-1279.54 1914.7,-1290.12 1916.76,-1300.73 \n",
       "  1918.83,-1311.36 1920.89,-1322.03 1922.96,-1332.72 1925.03,-1343.44 1927.09,-1354.19 1929.16,-1364.97 1931.23,-1375.78 1933.29,-1386.62 1935.36,-1397.49 1937.43,-1408.38 \n",
       "  1939.49,-1419.3 1941.56,-1430.26 1943.62,-1441.24 1945.69,-1452.25 1947.76,-1463.29 1949.82,-1474.35 1951.89,-1485.45 1953.96,-1496.58 1956.02,-1507.73 1958.09,-1518.91 \n",
       "  1960.15,-1530.12 1962.22,-1541.36 1964.29,-1552.63 1966.35,-1563.93 1968.42,-1575.26 1970.49,-1586.61 1972.55,-1598 1974.62,-1609.41 1976.69,-1620.85 1978.75,-1632.32 \n",
       "  1980.82,-1643.82 1982.88,-1655.35 1984.95,-1666.91 1987.02,-1678.49 1989.08,-1690.11 1991.15,-1701.75 1993.22,-1713.42 1995.28,-1725.12 1997.35,-1736.85 1999.41,-1748.61 \n",
       "  2001.48,-1760.4 2003.55,-1772.21 2005.61,-1784.06 2007.68,-1795.93 2009.75,-1807.83 2011.81,-1819.76 2013.88,-1831.72 2015.95,-1843.71 2018.01,-1855.73 2020.08,-1867.77 \n",
       "  2022.14,-1879.85 2024.21,-1891.95 2026.28,-1904.09 2028.34,-1916.25 2030.41,-1928.44 2032.48,-1940.66 2034.54,-1952.9 2036.61,-1965.18 2038.67,-1977.49 2040.74,-1989.82 \n",
       "  2042.81,-2002.18 2044.87,-2014.57 2046.94,-2026.99 2049.01,-2039.44 2051.07,-2051.92 2053.14,-2064.43 2055.21,-2076.96 2057.27,-2089.53 2059.34,-2102.12 2061.4,-2114.74 \n",
       "  2063.47,-2127.39 2065.54,-2140.07 2067.6,-2152.78 2069.67,-2165.52 2071.74,-2178.28 2073.8,-2191.08 2075.87,-2203.9 2077.94,-2216.75 2080,-2229.63 2082.07,-2242.54 \n",
       "  2084.13,-2255.48 2086.2,-2268.45 2088.27,-2281.45 2090.33,-2294.47 2092.4,-2307.52 2094.47,-2320.61 2096.53,-2333.72 2098.6,-2346.86 2100.66,-2360.03 2102.73,-2373.22 \n",
       "  2104.8,-2386.45 2106.86,-2399.7 2108.93,-2412.99 2111,-2426.3 2113.06,-2439.64 2115.13,-2453.01 2117.2,-2466.41 2119.26,-2479.84 2121.33,-2493.3 2123.39,-2506.78 \n",
       "  2125.46,-2520.3 2127.53,-2533.84 2129.59,-2547.41 2131.66,-2561.01 2133.73,-2574.64 2135.79,-2588.3 2137.86,-2601.98 2139.92,-2615.7 2141.99,-2629.44 2144.06,-2643.22 \n",
       "  2146.12,-2657.02 2148.19,-2670.85 2150.26,-2684.71 2152.32,-2698.6 2154.39,-2712.52 2156.46,-2726.46 2158.52,-2740.44 2160.59,-2754.44 2162.65,-2768.47 2164.72,-2782.53 \n",
       "  2166.79,-2796.62 2168.85,-2810.74 2170.92,-2824.89 2172.99,-2839.06 2175.05,-2853.27 2177.12,-2867.5 2179.18,-2881.77 2181.25,-2896.06 2183.32,-2910.38 2185.38,-2924.73 \n",
       "  2187.45,-2939.1 2189.52,-2953.51 2191.58,-2967.95 2193.65,-2982.41 2195.72,-2996.9 2197.78,-3011.42 2199.85,-3025.97 2201.91,-3040.55 2203.98,-3055.16 2206.05,-3069.8 \n",
       "  2208.11,-3084.46 2210.18,-3099.16 2212.25,-3113.88 2214.31,-3128.63 2216.38,-3143.41 2218.44,-3158.22 2220.51,-3173.06 2222.58,-3187.93 2224.64,-3202.82 2226.71,-3217.75 \n",
       "  2228.78,-3232.7 2230.84,-3247.68 2232.91,-3262.69 2234.98,-3277.73 2237.04,-3292.8 2239.11,-3307.9 2241.17,-3323.03 2243.24,-3338.18 2245.31,-3353.36 2247.37,-3368.58 \n",
       "  2249.44,-3383.82 2251.51,-3399.09 2253.57,-3414.39 2255.64,-3429.71 2257.71,-3445.07 2259.77,-3460.46 2261.84,-3475.87 2263.9,-3491.31 2265.97,-3506.78 2268.04,-3522.28 \n",
       "  2270.1,-3537.81 2272.17,-3553.37 2274.24,-3568.96 2276.3,-3584.57 2278.37,-3600.22 2280.43,-3615.89 2282.5,-3631.59 2284.57,-3647.32 2286.63,-3663.08 2288.7,-3678.87 \n",
       "  2290.77,-3694.69 \n",
       "  \"/>\n",
       "<polyline clip-path=\"url(#clip682)\" style=\"stroke:#e26f46; stroke-width:4; stroke-opacity:1; fill:none\" points=\"\n",
       "  224.444,594.142 226.511,594.084 228.577,594.026 230.643,593.968 232.71,593.909 234.776,593.851 236.842,593.792 238.909,593.733 240.975,593.673 243.041,593.614 \n",
       "  245.108,593.554 247.174,593.494 249.24,593.434 251.307,593.373 253.373,593.312 255.439,593.251 257.505,593.19 259.572,593.128 261.638,593.067 263.704,593.005 \n",
       "  265.771,592.942 267.837,592.88 269.903,592.817 271.97,592.754 274.036,592.69 276.102,592.627 278.169,592.563 280.235,592.498 282.301,592.434 284.368,592.369 \n",
       "  286.434,592.304 288.5,592.239 290.567,592.173 292.633,592.108 294.699,592.041 296.766,591.975 298.832,591.908 300.898,591.841 302.965,591.774 305.031,591.706 \n",
       "  307.097,591.639 309.164,591.57 311.23,591.502 313.296,591.433 315.363,591.364 317.429,591.295 319.495,591.225 321.561,591.155 323.628,591.085 325.694,591.014 \n",
       "  327.76,590.943 329.827,590.872 331.893,590.801 333.959,590.729 336.026,590.656 338.092,590.584 340.158,590.511 342.225,590.438 344.291,590.364 346.357,590.291 \n",
       "  348.424,590.216 350.49,590.142 352.556,590.067 354.623,589.992 356.689,589.916 358.755,589.84 360.822,589.764 362.888,589.688 364.954,589.611 367.021,589.533 \n",
       "  369.087,589.456 371.153,589.378 373.22,589.299 375.286,589.221 377.352,589.141 379.418,589.062 381.485,588.982 383.551,588.902 385.617,588.821 387.684,588.74 \n",
       "  389.75,588.659 391.816,588.577 393.883,588.495 395.949,588.412 398.015,588.329 400.082,588.246 402.148,588.162 404.214,588.078 406.281,587.993 408.347,587.908 \n",
       "  410.413,587.823 412.48,587.737 414.546,587.651 416.612,587.564 418.679,587.477 420.745,587.39 422.811,587.302 424.878,587.213 426.944,587.125 429.01,587.035 \n",
       "  431.077,586.946 433.143,586.855 435.209,586.765 437.275,586.674 439.342,586.582 441.408,586.49 443.474,586.398 445.541,586.305 447.607,586.211 449.673,586.117 \n",
       "  451.74,586.023 453.806,585.928 455.872,585.833 457.939,585.737 460.005,585.641 462.071,585.544 464.138,585.446 466.204,585.348 468.27,585.25 470.337,585.151 \n",
       "  472.403,585.052 474.469,584.952 476.536,584.851 478.602,584.75 480.668,584.649 482.735,584.547 484.801,584.444 486.867,584.341 488.934,584.237 491,584.133 \n",
       "  493.066,584.028 495.133,583.923 497.199,583.817 499.265,583.71 501.331,583.603 503.398,583.495 505.464,583.387 507.53,583.278 509.597,583.169 511.663,583.058 \n",
       "  513.729,582.948 515.796,582.836 517.862,582.724 519.928,582.612 521.995,582.499 524.061,582.385 526.127,582.27 528.194,582.155 530.26,582.039 532.326,581.923 \n",
       "  534.393,581.805 536.459,581.688 538.525,581.569 540.592,581.45 542.658,581.33 544.724,581.21 546.791,581.088 548.857,580.966 550.923,580.844 552.99,580.72 \n",
       "  555.056,580.596 557.122,580.471 559.188,580.346 561.255,580.219 563.321,580.092 565.387,579.964 567.454,579.836 569.52,579.706 571.586,579.576 573.653,579.445 \n",
       "  575.719,579.313 577.785,579.181 579.852,579.047 581.918,578.913 583.984,578.778 586.051,578.642 588.117,578.506 590.183,578.368 592.25,578.23 594.316,578.091 \n",
       "  596.382,577.95 598.449,577.81 600.515,577.668 602.581,577.525 604.648,577.381 606.714,577.237 608.78,577.091 610.847,576.945 612.913,576.797 614.979,576.649 \n",
       "  617.046,576.5 619.112,576.349 621.178,576.198 623.244,576.046 625.311,575.893 627.377,575.739 629.443,575.583 631.51,575.427 633.576,575.27 635.642,575.112 \n",
       "  637.709,574.952 639.775,574.792 641.841,574.63 643.908,574.468 645.974,574.304 648.04,574.139 650.107,573.973 652.173,573.806 654.239,573.638 656.306,573.468 \n",
       "  658.372,573.298 660.438,573.126 662.505,572.953 664.571,572.779 666.637,572.604 668.704,572.427 670.77,572.249 672.836,572.07 674.903,571.89 676.969,571.708 \n",
       "  679.035,571.525 681.101,571.341 683.168,571.156 685.234,570.969 687.3,570.781 689.367,570.591 691.433,570.4 693.499,570.208 695.566,570.014 697.632,569.818 \n",
       "  699.698,569.622 701.765,569.424 703.831,569.224 705.897,569.023 707.964,568.82 710.03,568.616 712.096,568.41 714.163,568.203 716.229,567.994 718.295,567.784 \n",
       "  720.362,567.572 722.428,567.358 724.494,567.143 726.561,566.925 728.627,566.707 730.693,566.486 732.76,566.264 734.826,566.04 736.892,565.814 738.958,565.587 \n",
       "  741.025,565.357 743.091,565.126 745.157,564.893 747.224,564.658 749.29,564.421 751.356,564.183 753.423,563.942 755.489,563.699 757.555,563.454 759.622,563.208 \n",
       "  761.688,562.959 763.754,562.708 765.821,562.455 767.887,562.2 769.953,561.942 772.02,561.683 774.086,561.421 776.152,561.157 778.219,560.891 780.285,560.622 \n",
       "  782.351,560.352 784.418,560.078 786.484,559.803 788.55,559.525 790.617,559.244 792.683,558.961 794.749,558.675 796.816,558.387 798.882,558.097 800.948,557.803 \n",
       "  803.014,557.507 805.081,557.209 807.147,556.907 809.213,556.603 811.28,556.296 813.346,555.986 815.412,555.673 817.479,555.357 819.545,555.039 821.611,554.717 \n",
       "  823.678,554.392 825.744,554.064 827.81,553.733 829.877,553.399 831.943,553.061 834.009,552.721 836.076,552.376 838.142,552.029 840.208,551.678 842.275,551.323 \n",
       "  844.341,550.965 846.407,550.604 848.474,550.239 850.54,549.87 852.606,549.497 854.673,549.12 856.739,548.74 858.805,548.355 860.871,547.967 862.938,547.575 \n",
       "  865.004,547.178 867.07,546.777 869.137,546.372 871.203,545.963 873.269,545.549 875.336,545.131 877.402,544.708 879.468,544.281 881.535,543.848 883.601,543.412 \n",
       "  885.667,542.97 887.734,542.523 889.8,542.071 891.866,541.615 893.933,541.153 895.999,540.685 898.065,540.213 900.132,539.735 902.198,539.251 904.264,538.762 \n",
       "  906.331,538.267 908.397,537.766 910.463,537.259 912.53,536.746 914.596,536.227 916.662,535.701 918.729,535.169 920.795,534.631 922.861,534.086 924.927,533.534 \n",
       "  926.994,532.975 929.06,532.41 931.126,531.837 933.193,531.257 935.259,530.669 937.325,530.074 939.392,529.471 941.458,528.86 943.524,528.241 945.591,527.614 \n",
       "  947.657,526.979 949.723,526.335 951.79,525.682 953.856,525.021 955.922,524.35 957.989,523.67 960.055,522.981 962.121,522.282 964.188,521.573 966.254,520.854 \n",
       "  968.32,520.125 970.387,519.386 972.453,518.635 974.519,517.874 976.586,517.102 978.652,516.318 980.718,515.522 982.784,514.715 984.851,513.895 986.917,513.063 \n",
       "  988.983,512.218 991.05,511.359 993.116,510.488 995.182,509.602 997.249,508.703 999.315,507.789 1001.38,506.861 1003.45,505.917 1005.51,504.958 1007.58,503.983 \n",
       "  1009.65,502.992 1011.71,501.984 1013.78,500.959 1015.85,499.917 1017.91,498.856 1019.98,497.777 1022.04,496.68 1024.11,495.562 1026.18,494.425 1028.24,493.268 \n",
       "  1030.31,492.089 1032.38,490.889 1034.44,489.666 1036.51,488.421 1038.58,487.152 1040.64,485.859 1042.71,484.541 1044.77,483.197 1046.84,481.827 1048.91,480.43 \n",
       "  1050.97,479.005 1053.04,477.551 1055.11,476.068 1057.17,474.554 1059.24,473.009 1061.3,471.43 1063.37,469.819 1065.44,468.173 1067.5,466.49 1069.57,464.771 \n",
       "  1071.64,463.014 1073.7,461.217 1075.77,459.38 1077.84,457.5 1079.9,455.576 1081.97,453.608 1084.03,451.592 1086.1,449.528 1088.17,447.413 1090.23,445.246 \n",
       "  1092.3,443.025 1094.37,440.748 1096.43,438.412 1098.5,436.016 1100.56,433.557 1102.63,431.032 1104.7,428.439 1106.76,425.774 1108.83,423.036 1110.9,420.221 \n",
       "  1112.96,417.325 1115.03,414.345 1117.1,411.278 1119.16,408.119 1121.23,404.864 1123.29,401.51 1125.36,398.05 1127.43,394.481 1129.49,390.796 1131.56,386.991 \n",
       "  1133.63,383.058 1135.69,378.993 1137.76,374.787 1139.82,370.434 1141.89,365.925 1143.96,361.252 1146.02,356.406 1148.09,351.378 1150.16,346.156 1152.22,340.729 \n",
       "  1154.29,335.085 1156.36,329.211 1158.42,323.091 1160.49,316.712 1162.55,310.055 1164.62,303.103 1166.69,295.834 1168.75,288.227 1170.82,280.258 1172.89,271.9 \n",
       "  1174.95,263.125 1177.02,253.899 1179.09,244.188 1181.15,233.952 1183.22,223.147 1185.28,211.725 1187.35,199.63 1189.42,186.803 1191.48,173.174 1193.55,158.666 \n",
       "  1195.62,143.191 1197.68,126.648 1199.75,108.924 1201.81,89.8872 1203.88,69.3857 1205.95,47.2441 1208.01,23.2574 1210.08,-2.81517 1212.15,-31.2579 1214.21,-62.4095 \n",
       "  1216.28,-96.6763 1218.35,-134.55 1220.41,-176.632 1222.48,-223.665 1224.54,-276.577 1226.61,-336.544 1228.68,-405.077 1230.74,-484.154 1232.81,-576.411 1234.88,-685.441 \n",
       "  1236.94,-816.278 1239.01,-976.19 1241.07,-1176.08 1243.14,-1433.08 1245.21,-1775.75 1247.27,-2255.48 1249.34,-2975.08 1251.41,-4174.42 1253.47,-6573.09 1255.54,-13769.1 \n",
       "  \n",
       "  \"/>\n",
       "<polyline clip-path=\"url(#clip682)\" style=\"stroke:#e26f46; stroke-width:4; stroke-opacity:1; fill:none\" points=\"\n",
       "  1259.67,15015 1261.74,7818.94 1263.8,5420.27 1265.87,4220.94 1267.94,3501.33 1270,3021.6 1272.07,2678.93 1274.14,2421.93 1276.2,2222.04 1278.27,2062.13 \n",
       "  1280.33,1931.29 1282.4,1822.26 1284.47,1730.01 1286.53,1650.93 1288.6,1582.39 1290.67,1522.43 1292.73,1469.52 1294.8,1422.48 1296.87,1380.4 1298.93,1342.53 \n",
       "  1301,1308.26 1303.06,1277.11 1305.13,1248.67 1307.2,1222.59 1309.26,1198.61 1311.33,1176.47 1313.4,1155.96 1315.46,1136.93 1317.53,1119.2 1319.59,1102.66 \n",
       "  1321.66,1087.18 1323.73,1072.68 1325.79,1059.05 1327.86,1046.22 1329.93,1034.13 1331.99,1022.7 1334.06,1011.9 1336.13,1001.66 1338.19,991.952 1340.26,982.727 \n",
       "  1342.32,973.951 1344.39,965.593 1346.46,957.624 1348.52,950.017 1350.59,942.749 1352.66,935.796 1354.72,929.139 1356.79,922.76 1358.86,916.641 1360.92,910.766 \n",
       "  1362.99,905.122 1365.05,899.696 1367.12,894.473 1369.19,889.445 1371.25,884.599 1373.32,879.926 1375.39,875.417 1377.45,871.064 1379.52,866.858 1381.58,862.793 \n",
       "  1383.65,858.861 1385.72,855.055 1387.78,851.371 1389.85,847.801 1391.92,844.342 1393.98,840.987 1396.05,837.732 1398.12,834.573 1400.18,831.506 1402.25,828.526 \n",
       "  1404.31,825.63 1406.38,822.815 1408.45,820.077 1410.51,817.413 1412.58,814.819 1414.65,812.295 1416.71,809.835 1418.78,807.439 1420.84,805.103 1422.91,802.826 \n",
       "  1424.98,800.605 1427.04,798.438 1429.11,796.324 1431.18,794.259 1433.24,792.244 1435.31,790.275 1437.38,788.351 1439.44,786.471 1441.51,784.634 1443.57,782.837 \n",
       "  1445.64,781.08 1447.71,779.361 1449.77,777.679 1451.84,776.032 1453.91,774.421 1455.97,772.843 1458.04,771.297 1460.1,769.783 1462.17,768.3 1464.24,766.846 \n",
       "  1466.3,765.421 1468.37,764.023 1470.44,762.651 1472.5,761.303 1474.57,759.978 1476.64,758.675 1478.7,757.393 1480.77,756.13 1482.83,754.887 1484.9,753.662 \n",
       "  1486.97,752.454 1489.03,751.263 1491.1,750.088 1493.17,748.928 1495.23,747.783 1497.3,746.652 1499.36,745.535 1501.43,744.431 1503.5,743.34 1505.56,742.261 \n",
       "  1507.63,741.195 1509.7,740.139 1511.76,739.095 1513.83,738.062 1515.9,737.039 1517.96,736.026 1520.03,735.024 1522.09,734.031 1524.16,733.047 1526.23,732.072 \n",
       "  1528.29,731.106 1530.36,730.149 1532.43,729.2 1534.49,728.259 1536.56,727.326 1538.63,726.401 1540.69,725.483 1542.76,724.573 1544.82,723.67 1546.89,722.774 \n",
       "  1548.96,721.885 1551.02,721.002 1553.09,720.126 1555.16,719.257 1557.22,718.394 1559.29,717.537 1561.35,716.686 1563.42,715.841 1565.49,715.001 1567.55,714.167 \n",
       "  1569.62,713.339 1571.69,712.517 1573.75,711.699 1575.82,710.887 1577.89,710.08 1579.95,709.278 1582.02,708.481 1584.08,707.688 1586.15,706.901 1588.22,706.118 \n",
       "  1590.28,705.34 1592.35,704.566 1594.42,703.797 1596.48,703.032 1598.55,702.271 1600.61,701.515 1602.68,700.763 1604.75,700.014 1606.81,699.27 1608.88,698.53 \n",
       "  1610.95,697.794 1613.01,697.061 1615.08,696.332 1617.15,695.607 1619.21,694.886 1621.28,694.168 1623.34,693.454 1625.41,692.743 1627.48,692.036 1629.54,691.332 \n",
       "  1631.61,690.631 1633.68,689.934 1635.74,689.24 1637.81,688.549 1639.87,687.861 1641.94,687.177 1644.01,686.495 1646.07,685.817 1648.14,685.141 1650.21,684.469 \n",
       "  1652.27,683.799 1654.34,683.132 1656.41,682.469 1658.47,681.808 1660.54,681.149 1662.6,680.494 1664.67,679.841 1666.74,679.191 1668.8,678.543 1670.87,677.898 \n",
       "  1672.94,677.256 1675,676.616 1677.07,675.979 1679.13,675.344 1681.2,674.712 1683.27,674.082 1685.33,673.454 1687.4,672.829 1689.47,672.206 1691.53,671.586 \n",
       "  1693.6,670.968 1695.67,670.352 1697.73,669.738 1699.8,669.127 1701.86,668.517 1703.93,667.91 1706,667.305 1708.06,666.702 1710.13,666.102 1712.2,665.503 \n",
       "  1714.26,664.907 1716.33,664.312 1718.4,663.719 1720.46,663.129 1722.53,662.54 1724.59,661.954 1726.66,661.369 1728.73,660.786 1730.79,660.206 1732.86,659.627 \n",
       "  1734.93,659.05 1736.99,658.474 1739.06,657.901 1741.12,657.329 1743.19,656.76 1745.26,656.192 1747.32,655.625 1749.39,655.061 1751.46,654.498 1753.52,653.937 \n",
       "  1755.59,653.378 1757.66,652.82 1759.72,652.264 1761.79,651.71 1763.85,651.157 1765.92,650.606 1767.99,650.056 1770.05,649.508 1772.12,648.962 1774.19,648.417 \n",
       "  1776.25,647.874 1778.32,647.333 1780.38,646.792 1782.45,646.254 1784.52,645.717 1786.58,645.181 1788.65,644.647 1790.72,644.114 1792.78,643.583 1794.85,643.053 \n",
       "  1796.92,642.525 1798.98,641.998 1801.05,641.472 1803.11,640.948 1805.18,640.426 1807.25,639.904 1809.31,639.384 1811.38,638.866 1813.45,638.348 1815.51,637.832 \n",
       "  1817.58,637.318 1819.64,636.804 1821.71,636.292 1823.78,635.781 1825.84,635.272 1827.91,634.764 1829.98,634.257 1832.04,633.751 1834.11,633.247 1836.18,632.744 \n",
       "  1838.24,632.242 1840.31,631.741 1842.37,631.241 1844.44,630.743 1846.51,630.246 1848.57,629.75 1850.64,629.255 1852.71,628.761 1854.77,628.269 1856.84,627.777 \n",
       "  1858.9,627.287 1860.97,626.798 1863.04,626.31 1865.1,625.823 1867.17,625.338 1869.24,624.853 1871.3,624.37 1873.37,623.887 1875.44,623.406 1877.5,622.926 \n",
       "  1879.57,622.446 1881.63,621.968 1883.7,621.491 1885.77,621.015 1887.83,620.54 1889.9,620.066 1891.97,619.593 1894.03,619.121 1896.1,618.65 1898.17,618.18 \n",
       "  1900.23,617.711 1902.3,617.244 1904.36,616.777 1906.43,616.311 1908.5,615.846 1910.56,615.382 1912.63,614.919 1914.7,614.457 1916.76,613.995 1918.83,613.535 \n",
       "  1920.89,613.076 1922.96,612.618 1925.03,612.16 1927.09,611.704 1929.16,611.248 1931.23,610.793 1933.29,610.34 1935.36,609.887 1937.43,609.435 1939.49,608.984 \n",
       "  1941.56,608.534 1943.62,608.084 1945.69,607.636 1947.76,607.188 1949.82,606.742 1951.89,606.296 1953.96,605.851 1956.02,605.407 1958.09,604.963 1960.15,604.521 \n",
       "  1962.22,604.079 1964.29,603.638 1966.35,603.198 1968.42,602.759 1970.49,602.321 1972.55,601.883 1974.62,601.447 1976.69,601.011 1978.75,600.576 1980.82,600.141 \n",
       "  1982.88,599.708 1984.95,599.275 1987.02,598.843 1989.08,598.412 1991.15,597.981 1993.22,597.552 1995.28,597.123 1997.35,596.695 1999.41,596.267 2001.48,595.841 \n",
       "  2003.55,595.415 2005.61,594.99 2007.68,594.565 2009.75,594.142 2011.81,593.719 2013.88,593.296 2015.95,592.875 2018.01,592.454 2020.08,592.034 2022.14,591.615 \n",
       "  2024.21,591.196 2026.28,590.778 2028.34,590.361 2030.41,589.945 2032.48,589.529 2034.54,589.114 2036.61,588.699 2038.67,588.285 2040.74,587.872 2042.81,587.46 \n",
       "  2044.87,587.048 2046.94,586.637 2049.01,586.227 2051.07,585.817 2053.14,585.408 2055.21,585 2057.27,584.592 2059.34,584.185 2061.4,583.779 2063.47,583.373 \n",
       "  2065.54,582.968 2067.6,582.563 2069.67,582.159 2071.74,581.756 2073.8,581.354 2075.87,580.952 2077.94,580.55 2080,580.15 2082.07,579.749 2084.13,579.35 \n",
       "  2086.2,578.951 2088.27,578.553 2090.33,578.155 2092.4,577.758 2094.47,577.362 2096.53,576.966 2098.6,576.571 2100.66,576.176 2102.73,575.782 2104.8,575.389 \n",
       "  2106.86,574.996 2108.93,574.603 2111,574.212 2113.06,573.821 2115.13,573.43 2117.2,573.04 2119.26,572.651 2121.33,572.262 2123.39,571.874 2125.46,571.486 \n",
       "  2127.53,571.099 2129.59,570.712 2131.66,570.326 2133.73,569.941 2135.79,569.556 2137.86,569.171 2139.92,568.788 2141.99,568.404 2144.06,568.022 2146.12,567.639 \n",
       "  2148.19,567.258 2150.26,566.877 2152.32,566.496 2154.39,566.116 2156.46,565.736 2158.52,565.357 2160.59,564.979 2162.65,564.601 2164.72,564.224 2166.79,563.847 \n",
       "  2168.85,563.47 2170.92,563.094 2172.99,562.719 2175.05,562.344 2177.12,561.97 2179.18,561.596 2181.25,561.223 2183.32,560.85 2185.38,560.477 2187.45,560.106 \n",
       "  2189.52,559.734 2191.58,559.363 2193.65,558.993 2195.72,558.623 2197.78,558.254 2199.85,557.885 2201.91,557.516 2203.98,557.148 2206.05,556.781 2208.11,556.414 \n",
       "  2210.18,556.047 2212.25,555.681 2214.31,555.316 2216.38,554.951 2218.44,554.586 2220.51,554.222 2222.58,553.858 2224.64,553.495 2226.71,553.132 2228.78,552.77 \n",
       "  2230.84,552.408 2232.91,552.047 2234.98,551.686 2237.04,551.325 2239.11,550.965 2241.17,550.606 2243.24,550.247 2245.31,549.888 2247.37,549.53 2249.44,549.172 \n",
       "  2251.51,548.815 2253.57,548.458 2255.64,548.101 2257.71,547.745 2259.77,547.39 2261.84,547.034 2263.9,546.68 2265.97,546.325 2268.04,545.972 2270.1,545.618 \n",
       "  2272.17,545.265 2274.24,544.912 2276.3,544.56 2278.37,544.209 2280.43,543.857 2282.5,543.506 2284.57,543.156 2286.63,542.806 2288.7,542.456 2290.77,542.107 \n",
       "  \n",
       "  \"/>\n",
       "<path clip-path=\"url(#clip680)\" d=\"\n",
       "M1989.74 312.204 L2280.76 312.204 L2280.76 130.764 L1989.74 130.764  Z\n",
       "  \" fill=\"#ffffff\" fill-rule=\"evenodd\" fill-opacity=\"1\"/>\n",
       "<polyline clip-path=\"url(#clip680)\" style=\"stroke:#000000; stroke-width:4; stroke-opacity:1; fill:none\" points=\"\n",
       "  1989.74,312.204 2280.76,312.204 2280.76,130.764 1989.74,130.764 1989.74,312.204 \n",
       "  \"/>\n",
       "<polyline clip-path=\"url(#clip680)\" style=\"stroke:#009af9; stroke-width:4; stroke-opacity:1; fill:none\" points=\"\n",
       "  2013.74,191.244 2157.74,191.244 \n",
       "  \"/>\n",
       "<path clip-path=\"url(#clip680)\" d=\"M 0 0 M2195.58 210.931 Q2193.77 215.561 2192.06 216.973 Q2190.35 218.385 2187.48 218.385 L2184.08 218.385 L2184.08 214.82 L2186.58 214.82 Q2188.33 214.82 2189.31 213.987 Q2190.28 213.154 2191.46 210.052 L2192.22 208.107 L2181.74 182.598 L2186.25 182.598 L2194.35 202.876 L2202.46 182.598 L2206.97 182.598 L2195.58 210.931 Z\" fill=\"#000000\" fill-rule=\"evenodd\" fill-opacity=\"1\" /><path clip-path=\"url(#clip680)\" d=\"M 0 0 M2212.85 204.589 L2220.49 204.589 L2220.49 178.223 L2212.18 179.89 L2212.18 175.631 L2220.44 173.964 L2225.12 173.964 L2225.12 204.589 L2232.76 204.589 L2232.76 208.524 L2212.85 208.524 L2212.85 204.589 Z\" fill=\"#000000\" fill-rule=\"evenodd\" fill-opacity=\"1\" /><polyline clip-path=\"url(#clip680)\" style=\"stroke:#e26f46; stroke-width:4; stroke-opacity:1; fill:none\" points=\"\n",
       "  2013.74,251.724 2157.74,251.724 \n",
       "  \"/>\n",
       "<path clip-path=\"url(#clip680)\" d=\"M 0 0 M2195.58 271.411 Q2193.77 276.041 2192.06 277.453 Q2190.35 278.865 2187.48 278.865 L2184.08 278.865 L2184.08 275.3 L2186.58 275.3 Q2188.33 275.3 2189.31 274.467 Q2190.28 273.634 2191.46 270.532 L2192.22 268.587 L2181.74 243.078 L2186.25 243.078 L2194.35 263.356 L2202.46 243.078 L2206.97 243.078 L2195.58 271.411 Z\" fill=\"#000000\" fill-rule=\"evenodd\" fill-opacity=\"1\" /><path clip-path=\"url(#clip680)\" d=\"M 0 0 M2216.07 265.069 L2232.39 265.069 L2232.39 269.004 L2210.44 269.004 L2210.44 265.069 Q2213.1 262.314 2217.69 257.685 Q2222.29 253.032 2223.47 251.689 Q2225.72 249.166 2226.6 247.43 Q2227.5 245.671 2227.5 243.981 Q2227.5 241.226 2225.56 239.49 Q2223.64 237.754 2220.53 237.754 Q2218.33 237.754 2215.88 238.518 Q2213.45 239.282 2210.67 240.833 L2210.67 236.111 Q2213.5 234.976 2215.95 234.398 Q2218.4 233.819 2220.44 233.819 Q2225.81 233.819 2229.01 236.504 Q2232.2 239.189 2232.2 243.68 Q2232.2 245.81 2231.39 247.731 Q2230.6 249.629 2228.5 252.222 Q2227.92 252.893 2224.82 256.111 Q2221.71 259.305 2216.07 265.069 Z\" fill=\"#000000\" fill-rule=\"evenodd\" fill-opacity=\"1\" /></svg>\n"
      ]
     },
     "execution_count": 25,
     "metadata": {},
     "output_type": "execute_result"
    }
   ],
   "source": [
    "f, df, inv_f = Non_negative2()\n",
    "x = -5:0.01:5\n",
    "#plot(x, f.(inv_f.(x)))\n",
    "#plot(x, inv_f.(f.(x)))\n",
    "#plot(x, inv_f.(x))\n",
    "#plot!(x, df(x))\n",
    "plot(x, f.(x))\n",
    "plot!(x, inv_f.(x), ylims=(-5,5 ))"
   ]
  },
  {
   "cell_type": "code",
   "execution_count": 26,
   "metadata": {},
   "outputs": [
    {
     "ename": "UndefVarError",
     "evalue": "UndefVarError: resGR2 not defined",
     "output_type": "error",
     "traceback": [
      "UndefVarError: resGR2 not defined",
      "",
      "Stacktrace:",
      " [1] top-level scope at In[26]:5"
     ]
    }
   ],
   "source": [
    "#mg1img2 = convert(Array{Float32}, channelview(testimage(\"peppers_gray\"))[1, :, :])\n",
    "img1 = img\n",
    "img2 = img_b \n",
    "img3 = img_noisy \n",
    "img4 = resGR2\n",
    "img1_ft = abs.(fftshift(fft(img1)))\n",
    "img2_ft = abs.(fftshift(fft(img2)))\n",
    "img3_ft = abs.(fftshift(fft(img3)))\n",
    "img4_ft = abs.(fftshift(fft(img4)))\n",
    "N, _ = size(img1)\n",
    "plot(img1_ft[N ÷ 2:400, N ÷ 2 + 1])\n",
    "plot!(img2_ft[N ÷ 2:400, N ÷ 2 + 1])\n",
    "plot!(img4_ft[N ÷ 2:400, N ÷ 2 + 1])\n",
    "#imshowv(img1_ft, img2_ft, img3_ft, img4_ft)"
   ]
  },
  {
   "cell_type": "code",
   "execution_count": 27,
   "metadata": {},
   "outputs": [
    {
     "data": {
      "text/plain": [
       "Dict{String,Any} with 4 entries:\n",
       "  \"gui\"         => Dict{String,Any}(\"window\"=>GtkWindowLeaf(name=\"\", parent, wi…\n",
       "  \"roi\"         => Dict{String,Any}(\"redraw\"=>122: \"map(clim-mapped image, inpu…\n",
       "  \"annotations\" => 71: \"input-60\" = Dict{UInt64,Any}() Dict{UInt64,Any} \n",
       "  \"clim\"        => 70: \"CLim\" = CLim{Float32}(0.0, 1.11657) CLim{Float32} "
      ]
     },
     "execution_count": 27,
     "metadata": {},
     "output_type": "execute_result"
    }
   ],
   "source": [
    "imshowv(img3, img2)"
   ]
  },
  {
   "cell_type": "code",
   "execution_count": 28,
   "metadata": {},
   "outputs": [
    {
     "data": {
      "text/plain": [
       "laplace_tul (generic function with 1 method)"
      ]
     },
     "execution_count": 28,
     "metadata": {},
     "output_type": "execute_result"
    }
   ],
   "source": [
    "using Tullio, Einsum, LoopVectorization\n",
    "\n",
    "function laplace_vec(rec)                                                           \n",
    "    @views a = (rec[1:end-2, 2:end-1] .- 4 .* rec[2:end - 1, 2:end - 1]                \n",
    "                .+ rec[3:end, 2:end - 1])                                           \n",
    "    @views b = (rec[2:end-1, 1:end-2]                 \n",
    "                .+ rec[2:end - 1, 3:end])                                           \n",
    "                                                                                \n",
    "    return @views sum((a .+ b) .^ 2)                                                   \n",
    "end     \n",
    "\n",
    "\n",
    "function laplace_for(rec)\n",
    "    res = zero(eltype(rec))\n",
    "    @avx for j = 2:size(rec)[2] - 1\n",
    "        for i = 2:size(rec)[1] - 1\n",
    "            @inbounds res += (rec[i - 1, j] + rec[i+1, j] \n",
    "                              + rec[i, j+1] + rec[i, j-1] - 4 * rec[i,j])^2\n",
    "        end\n",
    "    end\n",
    "    return res\n",
    "end\n",
    "        \n",
    "\n",
    "laplace_tul(rec) = @tullio res = (rec[i - 1, j] + rec[i + 1, j] +   \n",
    "                                  rec[i, j + 1] + rec[i, j - 1] - 4 * rec[i,j])^2\n"
   ]
  },
  {
   "cell_type": "code",
   "execution_count": 29,
   "metadata": {},
   "outputs": [
    {
     "name": "stdout",
     "output_type": "stream",
     "text": [
      "  0.573228 seconds (3.01 M allocations: 135.091 MiB, 6.26% gc time)\n",
      "  0.000436 seconds (12 allocations: 2.839 MiB)\n",
      "  1.963521 seconds (2.90 M allocations: 142.711 MiB, 3.26% gc time)\n",
      "  0.000097 seconds (1 allocation: 16 bytes)\n",
      "  0.513150 seconds (790.04 k allocations: 38.647 MiB)\n",
      "  0.000110 seconds (12 allocations: 368 bytes)\n",
      "Zygote\n",
      "  2.685709 seconds (6.93 M allocations: 335.375 MiB)\n",
      "  0.007601 seconds (174 allocations: 18.049 MiB)\n",
      "  0.998026 seconds (1.29 M allocations: 64.055 MiB)\n",
      "  0.001813 seconds (48 allocations: 977.891 KiB)\n"
     ]
    },
    {
     "data": {
      "text/plain": [
       "true"
      ]
     },
     "execution_count": 29,
     "metadata": {},
     "output_type": "execute_result"
    }
   ],
   "source": [
    "x = convert(Array{Float32}, 10 .+ randn(500, 500))\n",
    "@time a = laplace_vec(x)\n",
    "@time a = laplace_vec(x)\n",
    "@time b = laplace_for(x)\n",
    "@time b = laplace_for(x)\n",
    "@time c = laplace_tul(x)\n",
    "@time c = laplace_tul(x)\n",
    "\n",
    "\n",
    "vec_tape_comp = ReverseDiff.compile(ReverseDiff.GradientTape(laplace_vec, x))\n",
    "for_tape_comp = ReverseDiff.compile(ReverseDiff.GradientTape(laplace_for, x))\n",
    "\n",
    "print(\"Zygote\", \"\\n\")\n",
    "@time Zygote.gradient(laplace_vec, x)\n",
    "@time Zygote.gradient(laplace_vec, x)\n",
    "@time Zygote.gradient(laplace_tul, x)\n",
    "@time Zygote.gradient(laplace_tul, x)\n",
    "#@time ReverseDiff.gradient!(similar(x), vec_tape_comp, x);\n",
    "#@time ReverseDiff.gradient!(similar(x), vec_tape_comp, x);\n",
    "#@time ReverseDiff.gradient!(similar(x), for_tape_comp, x);\n",
    "#@time ReverseDiff.gradient!(similar(x), for_tape_comp, x);\n",
    "##@time Zygote.gradient(laplace_for, x)\n",
    "#@time Zygote.gradient(laplace_for, x)\n",
    "\n",
    "a ≈ b\n",
    "a ≈ c"
   ]
  },
  {
   "cell_type": "code",
   "execution_count": 30,
   "metadata": {},
   "outputs": [
    {
     "name": "stdout",
     "output_type": "stream",
     "text": [
      "4.949396e6\n",
      "4.949395e6\n",
      "4.949395e6"
     ]
    }
   ],
   "source": [
    "print(a, \"\\n\", b, \"\\n\", c)"
   ]
  },
  {
   "cell_type": "code",
   "execution_count": 31,
   "metadata": {},
   "outputs": [
    {
     "name": "stdout",
     "output_type": "stream",
     "text": [
      "  0.021563 seconds (16.03 k allocations: 770.287 KiB)\n",
      "  0.000037 seconds (3 allocations: 86.031 KiB)\n",
      "  0.016778 seconds (24.67 k allocations: 1.267 MiB)\n",
      "  0.000018 seconds (1 allocation: 16 bytes)\n",
      "Zygote\n",
      "  0.345280 seconds (742.01 k allocations: 33.789 MiB)\n",
      "  0.000073 seconds (20 allocations: 172.359 KiB)\n",
      "  8.161447 seconds (5.23 M allocations: 2.054 GiB, 51.21% gc time)\n",
      "  0.321701 seconds (286.81 k allocations: 1.812 GiB, 15.83% gc time)\n",
      "Analytic\n",
      "  0.083063 seconds (316.65 k allocations: 15.320 MiB)\n",
      "  0.000029 seconds (2 allocations: 86.016 KiB)\n",
      "  0.035240 seconds (72.79 k allocations: 4.044 MiB)\n",
      "  0.000017 seconds (1 allocation: 16 bytes)\n"
     ]
    },
    {
     "data": {
      "text/plain": [
       "10975.755574778257"
      ]
     },
     "execution_count": 31,
     "metadata": {},
     "output_type": "execute_result"
    }
   ],
   "source": [
    "function L2norm_v(x)\n",
    "    return sum(x .^ 2)\n",
    "end\n",
    "\n",
    "function L2norm_f(x)\n",
    "    res = 0\n",
    "    for j = 1:size(x)[2]\n",
    "        for i = 1:size(x)[1]\n",
    "            @inbounds res += x[i, j]^2\n",
    "        end\n",
    "    end\n",
    "    return res\n",
    "end\n",
    "\n",
    "function L2norm_df(x)\n",
    "    res = 0\n",
    "    for j = 1:size(x)[2]\n",
    "        for i = 1:size(x)[1]\n",
    "            @inbounds res += 2 .* x[i, j]\n",
    "        end\n",
    "    end\n",
    "    return res\n",
    "end   \n",
    "\n",
    "function L2norm_dv(x)\n",
    "    return 2 .* x\n",
    "end\n",
    "\n",
    "x = rand(110, 100)\n",
    "\n",
    "@time a = L2norm_v(x)\n",
    "@time a = L2norm_v(x)\n",
    "@time b = L2norm_f(x)\n",
    "@time b = L2norm_f(x)\n",
    " \n",
    "print(\"Zygote\", \"\\n\")\n",
    "@time Zygote.gradient(L2norm_v, x)\n",
    "@time Zygote.gradient(L2norm_v, x)\n",
    "@time Zygote.gradient(L2norm_f, x)\n",
    "@time Zygote.gradient(L2norm_f, x)\n",
    "\n",
    "print(\"Analytic\", \"\\n\")\n",
    "@time L2norm_dv(x)\n",
    "@time L2norm_dv(x)\n",
    "@time L2norm_df(x)\n",
    "@time L2norm_df(x)\n"
   ]
  },
  {
   "cell_type": "code",
   "execution_count": 32,
   "metadata": {},
   "outputs": [
    {
     "name": "stdout",
     "output_type": "stream",
     "text": [
      "  0.275046 seconds (1.02 M allocations: 48.848 MiB)\n",
      "  0.798855 seconds (1.27 M allocations: 65.422 MiB)\n"
     ]
    }
   ],
   "source": [
    "M, K, N = 47, 73, 7;\n",
    "A = rand(M, K);\n",
    "b = rand(K);\n",
    "c = rand(M);\n",
    "d = rand(1,K,N);\n",
    "\n",
    "E1 = Array{Float64}(undef, M, K, N);\n",
    "E2 = similar(E1);\n",
    "\n",
    "@time @. $E1 = exp($A - $b' +    $d) * $c\n",
    "ldad = LowDimArray{(false,true,true)}(d);\n",
    "\n",
    "@time @avx @. $E2 = exp($A - $b' + $ldad) * $c;"
   ]
  },
  {
   "cell_type": "code",
   "execution_count": 33,
   "metadata": {},
   "outputs": [
    {
     "data": {
      "text/plain": [
       "true"
      ]
     },
     "execution_count": 33,
     "metadata": {},
     "output_type": "execute_result"
    }
   ],
   "source": [
    "E2 ≈ E1"
   ]
  },
  {
   "cell_type": "code",
   "execution_count": 162,
   "metadata": {},
   "outputs": [
    {
     "name": "stdout",
     "output_type": "stream",
     "text": [
      "(512, 512, 1, 3, 3)"
     ]
    }
   ],
   "source": [
    "img3d = cat(img, dims=3);\n",
    "img4d = cat(img3d, img3d ./ 2, img3d .* 2, dims=4);\n",
    "img5d = cat(img4d, img4d ./ 2, img4d .* 2, dims=5);\n",
    "#imshow(img3d)\n",
    "print(size(img5d))"
   ]
  },
  {
   "cell_type": "code",
   "execution_count": 142,
   "metadata": {},
   "outputs": [
    {
     "name": "stdout",
     "output_type": "stream",
     "text": [
      "(257, 512, 1, 3, 3)"
     ]
    }
   ],
   "source": [
    "y=rfft(img5d, [1, 2, 3]);\n",
    "print(size(y))"
   ]
  },
  {
   "cell_type": "code",
   "execution_count": 139,
   "metadata": {},
   "outputs": [
    {
     "data": {
      "text/plain": [
       "Dict{String,Any} with 4 entries:\n",
       "  \"gui\"         => Dict{String,Any}(\"window\"=>GtkWindowLeaf(name=\"\", parent, wi…\n",
       "  \"roi\"         => Dict{String,Any}(\"redraw\"=>949: \"map(clim-mapped image, inpu…\n",
       "  \"annotations\" => 881: \"input-357\" = Dict{UInt64,Any}() Dict{UInt64,Any} \n",
       "  \"clim\"        => 880: \"CLim\" = CLim{Float32}(0.0823529, 0.968627) CLim{Float3…"
      ]
     },
     "execution_count": 139,
     "metadata": {},
     "output_type": "execute_result"
    }
   ],
   "source": [
    "imshow(img5d[:, :, :, :, 1])"
   ]
  },
  {
   "cell_type": "code",
   "execution_count": 141,
   "metadata": {},
   "outputs": [
    {
     "data": {
      "text/plain": [
       "Dict{String,Any} with 4 entries:\n",
       "  \"gui\"         => Dict{String,Any}(\"window\"=>GtkWindowLeaf(name=\"\", parent, wi…\n",
       "  \"roi\"         => Dict{String,Any}(\"redraw\"=>1059: \"map(clim-mapped image, inp…\n",
       "  \"annotations\" => 1008: \"input-401\" = Dict{UInt64,Any}() Dict{UInt64,Any} \n",
       "  \"clim\"        => 1007: \"CLim\" = CLim{Float32}(-12070.8, 106825.0) CLim{Float3…"
      ]
     },
     "execution_count": 141,
     "metadata": {},
     "output_type": "execute_result"
    }
   ],
   "source": [
    "imshow(real.(y[:, :, 1, :, 1]))"
   ]
  },
  {
   "cell_type": "code",
   "execution_count": 169,
   "metadata": {},
   "outputs": [
    {
     "data": {
      "text/plain": [
       "true"
      ]
     },
     "execution_count": 169,
     "metadata": {},
     "output_type": "execute_result"
    }
   ],
   "source": [
    "img3d_2 = randn(size(img3d))\n",
    "P = plan_rfft(img3d);\n",
    "img3d_fft = P * img3d\n",
    "P_inv = plan_irfft(img3d_fft, size(img3d)[1]);\n",
    "\n",
    "img3d ≈ P_inv * (P * img3d)\n",
    "\n",
    "img3d_2 ≈ P_inv * (P * img3d_2)\n",
    "\n",
    "#size(P * img3d)\n",
    "#size(P_inv * (P * img3d))"
   ]
  },
  {
   "cell_type": "code",
   "execution_count": null,
   "metadata": {},
   "outputs": [],
   "source": []
  }
 ],
 "metadata": {
  "kernelspec": {
   "display_name": "Julia 1.4.1",
   "language": "julia",
   "name": "julia-1.4"
  },
  "language_info": {
   "file_extension": ".jl",
   "mimetype": "application/julia",
   "name": "julia",
   "version": "1.4.2"
  }
 },
 "nbformat": 4,
 "nbformat_minor": 2
}
