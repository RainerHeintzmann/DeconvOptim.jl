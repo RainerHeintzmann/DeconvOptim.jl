{
 "cells": [
  {
   "cell_type": "code",
   "execution_count": 29,
   "metadata": {},
   "outputs": [
    {
     "data": {
      "text/plain": [
       "0.5364418029785156"
      ]
     },
     "execution_count": 29,
     "metadata": {},
     "output_type": "execute_result"
    }
   ],
   "source": [
    "3000*3000 / (256*512*128)"
   ]
  },
  {
   "cell_type": "code",
   "execution_count": 2,
   "metadata": {
    "scrolled": true
   },
   "outputs": [],
   "source": [
    "using Revise, DeconvOptim, Napari, Images, FourierTools, Napari, FFTW, TestImages, Noise, CUDA, Zygote, LinearAlgebra\n",
    "FFTW.set_num_threads(6)"
   ]
  },
  {
   "cell_type": "code",
   "execution_count": 3,
   "metadata": {},
   "outputs": [],
   "source": [
    "CUDA.allowscalar(false)"
   ]
  },
  {
   "cell_type": "code",
   "execution_count": 4,
   "metadata": {
    "scrolled": false
   },
   "outputs": [
    {
     "name": "stderr",
     "output_type": "stream",
     "text": [
      "┌ Warning: some versions of ImageMagick give spurious low-order bits for 32-bit TIFFs\n",
      "└ @ ImageMagick /home/fxw/.julia/packages/ImageMagick/b8swT/src/ImageMagick.jl:100\n"
     ]
    }
   ],
   "source": [
    "img = Float32.(load(\"../../../../Documents/Deconvolution_Data/microtubules-challenge/data.tif\"));\n",
    "psf = ifftshift(Float32.(load(\"../../../../Documents/Deconvolution_Data/microtubules-challenge/psf.tif\")));\n",
    "\n",
    "img_c = CuArray(img)\n",
    "psf_c = CuArray(psf);"
   ]
  },
  {
   "cell_type": "code",
   "execution_count": 36,
   "metadata": {},
   "outputs": [
    {
     "data": {
      "text/plain": [
       "#155 (generic function with 1 method)"
      ]
     },
     "execution_count": 36,
     "metadata": {},
     "output_type": "execute_result"
    }
   ],
   "source": [
    "reg = TV(num_dims=3, mode=\"forward\")"
   ]
  },
  {
   "cell_type": "code",
   "execution_count": 5,
   "metadata": {},
   "outputs": [
    {
     "data": {
      "text/plain": [
       "#15 (generic function with 1 method)"
      ]
     },
     "execution_count": 5,
     "metadata": {},
     "output_type": "execute_result"
    }
   ],
   "source": [
    "reg_c = TV_cuda(num_dims=3)"
   ]
  },
  {
   "cell_type": "code",
   "execution_count": 51,
   "metadata": {},
   "outputs": [
    {
     "data": {
      "text/plain": [
       "poisson_aux (generic function with 2 methods)"
      ]
     },
     "execution_count": 51,
     "metadata": {},
     "output_type": "execute_result"
    }
   ],
   "source": [
    "loss = Poisson()"
   ]
  },
  {
   "cell_type": "code",
   "execution_count": 85,
   "metadata": {},
   "outputs": [
    {
     "name": "stdout",
     "output_type": "stream",
     "text": [
      " 20.955404 seconds (58.84 k allocations: 5.567 GiB, 1.92% gc time)\n"
     ]
    }
   ],
   "source": [
    "@time res_lr = richardson_lucy_iterative(1f-5 .+ img, psf, iterations=80, λ=0.002f0, regularizer=reg);"
   ]
  },
  {
   "cell_type": "code",
   "execution_count": 106,
   "metadata": {
    "scrolled": false
   },
   "outputs": [
    {
     "name": "stdout",
     "output_type": "stream",
     "text": [
      "  3.490675 seconds (14.43 M CPU allocations: 229.052 MiB, 4.84% gc time) (3.33 k GPU allocations: 191.346 GiB, 20.15% gc time of which 75.06% spent allocating)\n"
     ]
    }
   ],
   "source": [
    "GC.gc(true)\n",
    "CUDA.@time res_lr_c = richardson_lucy_iterative(1f-5 .+ img_c, psf_c, iterations=80, λ=0.002f0, regularizer=reg_c);"
   ]
  },
  {
   "cell_type": "code",
   "execution_count": 107,
   "metadata": {},
   "outputs": [
    {
     "name": "stdout",
     "output_type": "stream",
     "text": [
      " 15.282415 seconds (19.68 k allocations: 9.571 GiB, 20.83% gc time)\n"
     ]
    },
    {
     "data": {
      "text/plain": [
       " * Status: failure (reached maximum number of iterations)\n",
       "\n",
       " * Candidate solution\n",
       "    Final objective value:     4.936696e+06\n",
       "\n",
       " * Found with\n",
       "    Algorithm:     L-BFGS\n",
       "\n",
       " * Convergence measures\n",
       "    |x - x'|               = 1.10e-01 ≰ 0.0e+00\n",
       "    |x - x'|/|x'|          = 9.27e-02 ≰ 0.0e+00\n",
       "    |f(x) - f(x')|         = 8.05e+01 ≰ 0.0e+00\n",
       "    |f(x) - f(x')|/|f(x')| = 1.63e-05 ≰ 0.0e+00\n",
       "    |g(x)|                 = 2.86e-02 ≰ 1.0e-08\n",
       "\n",
       " * Work counters\n",
       "    Seconds run:   14  (vs limit Inf)\n",
       "    Iterations:    12\n",
       "    f(x) calls:    15\n",
       "    ∇f(x) calls:   13\n"
      ]
     },
     "execution_count": 107,
     "metadata": {},
     "output_type": "execute_result"
    }
   ],
   "source": [
    "GC.gc(true)\n",
    "@time res, o = deconvolution(img, psf, iterations=12, regularizer=reg, λ=0.002f0);\n",
    "o"
   ]
  },
  {
   "cell_type": "code",
   "execution_count": 8,
   "metadata": {
    "scrolled": false
   },
   "outputs": [
    {
     "name": "stdout",
     "output_type": "stream",
     "text": [
      "  1.286988 seconds (4.02 M CPU allocations: 65.351 MiB, 6.77% gc time) (1.16 k GPU allocations: 44.781 GiB, 25.32% gc time of which 72.43% spent allocating)\n"
     ]
    },
    {
     "data": {
      "text/plain": [
       " * Status: failure (reached maximum number of iterations)\n",
       "\n",
       " * Candidate solution\n",
       "    Final objective value:     4.936696e+06\n",
       "\n",
       " * Found with\n",
       "    Algorithm:     L-BFGS\n",
       "\n",
       " * Convergence measures\n",
       "    |x - x'|               = 1.10e-01 ≰ 0.0e+00\n",
       "    |x - x'|/|x'|          = 9.23e-02 ≰ 0.0e+00\n",
       "    |f(x) - f(x')|         = 8.00e+01 ≰ 0.0e+00\n",
       "    |f(x) - f(x')|/|f(x')| = 1.62e-05 ≰ 0.0e+00\n",
       "    |g(x)|                 = 2.91e-02 ≰ 1.0e-08\n",
       "\n",
       " * Work counters\n",
       "    Seconds run:   1  (vs limit Inf)\n",
       "    Iterations:    12\n",
       "    f(x) calls:    15\n",
       "    ∇f(x) calls:   13\n"
      ]
     },
     "execution_count": 8,
     "metadata": {},
     "output_type": "execute_result"
    }
   ],
   "source": [
    "GC.gc(true)\n",
    "CUDA.@time res_c, o = deconvolution(img_c, psf_c, iterations=12, regularizer=reg_c, λ=0.002f0);\n",
    "o"
   ]
  },
  {
   "cell_type": "code",
   "execution_count": 9,
   "metadata": {},
   "outputs": [
    {
     "ename": "LoadError",
     "evalue": "UndefVarError: res_lr not defined",
     "output_type": "error",
     "traceback": [
      "UndefVarError: res_lr not defined",
      "",
      "Stacktrace:",
      " [1] top-level scope",
      "   @ In[9]:2",
      " [2] eval",
      "   @ ./boot.jl:360 [inlined]",
      " [3] include_string(mapexpr::typeof(REPL.softscope), mod::Module, code::String, filename::String)",
      "   @ Base ./loading.jl:1094"
     ]
    }
   ],
   "source": [
    "v = @view_image Array(res_c)\n",
    "@add_image v res_lr\n",
    "@add_image v res\n",
    "@add_image v img"
   ]
  },
  {
   "cell_type": "code",
   "execution_count": 96,
   "metadata": {},
   "outputs": [
    {
     "name": "stdout",
     "output_type": "stream",
     "text": [
      "loss(FourierTools.conv(res_lr, psf), img) + 0.002f0 * reg(res_lr) = 210828.89f0\n",
      "loss(FourierTools.conv(res, psf), img) + 0.002f0 * reg(res) = 210964.45f0\n"
     ]
    },
    {
     "data": {
      "text/plain": [
       "210964.45f0"
      ]
     },
     "execution_count": 96,
     "metadata": {},
     "output_type": "execute_result"
    }
   ],
   "source": [
    "@show loss(FourierTools.conv(res_lr, psf), img) + 0.002f0 * reg(res_lr)\n",
    "@show loss(FourierTools.conv(res, psf), img) + 0.002f0 * reg(res)"
   ]
  }
 ],
 "metadata": {
  "kernelspec": {
   "display_name": "Julia 1.6.1",
   "language": "julia",
   "name": "julia-1.6"
  },
  "language_info": {
   "file_extension": ".jl",
   "mimetype": "application/julia",
   "name": "julia",
   "version": "1.6.1"
  }
 },
 "nbformat": 4,
 "nbformat_minor": 4
}
