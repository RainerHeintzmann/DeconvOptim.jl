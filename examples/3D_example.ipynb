{
 "cells": [
  {
   "cell_type": "markdown",
   "metadata": {},
   "source": [
    "# Import Modules\n",
    "You may need to install some of them.\n",
    "But if you activate the environment inside this `examples` folder, all dependencies should be included."
   ]
  },
  {
   "cell_type": "code",
   "execution_count": 2,
   "metadata": {},
   "outputs": [
    {
     "name": "stderr",
     "output_type": "stream",
     "text": [
      "┌ Warning: The active manifest file is an older format with no julia version entry. Dependencies may have been resolved with a different julia version.\n",
      "└ @ nothing /home/fxw/.julia/dev/DeconvOptim.jl/examples/Manifest.toml:0\n"
     ]
    }
   ],
   "source": [
    "using Pkg\n",
    "Pkg.instantiate()"
   ]
  },
  {
   "cell_type": "code",
   "execution_count": 6,
   "metadata": {
    "scrolled": true
   },
   "outputs": [],
   "source": [
    "using Revise, DeconvOptim, TestImages, Colors, Noise, ImageShow, FFTW, ImageShow"
   ]
  },
  {
   "cell_type": "code",
   "execution_count": 3,
   "metadata": {
    "scrolled": true
   },
   "outputs": [
    {
     "name": "stderr",
     "output_type": "stream",
     "text": [
      "┌ Warning: Replacing module `ImageCore`\n",
      "└ @ Base loading.jl:1036\n"
     ]
    }
   ],
   "source": [
    "img = convert(Array{Float32}, testimage(\"simple_3d_ball\"))\n",
    "psf = permutedims(ifftshift(OffsetArrays.no_offset_view(\n",
    "            Float32.(testimage(\"simple_3d_psf\")))), (3,1,2))\n",
    "psf ./= sum(psf)\n",
    "# create a blurred, noisy version of that image\n",
    "img_b = conv(img, psf, [1, 2, 3])\n",
    "img_n = poisson(img_b, 300);"
   ]
  },
  {
   "cell_type": "code",
   "execution_count": 9,
   "metadata": {
    "scrolled": true
   },
   "outputs": [
    {
     "data": {
      "image/png": "[encoded data removed]",
      "text/html": [
       "<img style='display:inline' src=\"data:image/png;base64,iVBORw0KGgoAAAANSUhEUgAAAIAAAACACAAAAADmVT4XAAAABGdBTUEAALGPC/xhBQAAAAFzUkdCAK7OHOkAAAAgY0hSTQAAeiYAAICEAAD6AAAAgOgAAHUwAADqYAAAOpgAABdwnLpRPAAABM5JREFUeAHFwQGK5EYCBMDIUvn/D3ar8hBi6FmvR+o1B4qYHjY9bHrY9LDpYdPDpv8gflJ/anrY9IfiSlB/YnrY9LH4XRzquzjUZ6aHTR+K7+K7ONVb1Cemh00fibf4Em9FUF+i7k0Pmz4Qb3GIQ3ypoIj6EnVneth0K77EIYhD/K6COkVdmx423YgvQRAE8Rb1VlGnqCvTw6ZL8SUIIoIg3qqiqKioU9TPpodNHwkiGCKI+K6KquVQUfemh00X4hRERMQQQXxXVC1DHSrqEPWT6WHTR4KIYYiIIN6qqmJZTnVvetj0ozjFYYhhGIaI+KeqqohlKaIOUf9uetj0gYgYNsMmIohfFUvFoYKKujI9bLoRRAybzWaIiH83LHEoFura9LDpVsQwbDabYfhSpzgENSxxqrozPWy6FEQMm2mzGU71FkScljjUEhX1s+lh042IYTNNm00URb1FxHAYglqGiroyPWy6FcNmmjYDtRyKIioiYjgMUcuy3JkeNt2IGDbTtKGKWqoOFVXDMAQDtewi6sr0sOlGDJtpmoZaqKqlTkMdIoaoqN3Lbrk2PWy6FMRm+ssUu1qW3VJVBEEQQ8RSu81A1M+mh003Ytj8ZZoWqpZlqSqCKGKIYRhq2kRcmx423YhhM01Dsex2u1rqEAxERAwDNW2GuDY9bLoRw2aaYlmWZVmWqkPEaYggBqZpiGvTw6ZLEcNmsylq2e2WpeowVBERETEwDUPElelh048qDrHZDFXLsizLQh2W4RARh4jNsIlT/WR62HQjhmEYdtSyLEtRh6iKiIjDwGYY4tr0sOkDMURQVUUdKuoU8RYR96aHTbfiEKcq6lD/FL+KO9PDplt1qFMEUUT9quK7ujM9bPpALVVERFRQQZyq3qrq3vSw6UYty7IcYhgGlreIqiqChd2y1LXpYdOP4lS73VIxDMNwqNMQh6oKqpZlV6eofzc9bLpUtex2uyCGTR2qDhFBVVXVsntZlqor08OmG7XsXjZDDcMwVCx1iDgtQ1G7l5eXpa5ND5tu1LJ72UzFsCmWqCKGoKpqoV5edktdmx423ahl97fNKWIoqooYhqCWWGp5edlVXZseNl0qavfyN4aKoYilTkNQ1BK1/O1lt1BXpodNN2rZ7V5iQxERQ50iDlUL9fLyslvq2vSw6UbV8jJEDacYliiCiFpOy8vfXpaqa9PDplu17F6iNlGnqDgERe2o3cvLbqk708OmG1XLLqJqONV3ddgdlt3Lblmqrk0Pmy5VVC27qBqGL/VWQdWye9ktVdSV6WHTraoldodaIr6rL7Usu91uqXvTw6YbFcVyqE1ExD8VSy27ZVmq7kwPmz5Q1ELVEBGnqFNVLbUsVUVdmx42/ajiUMEyLIeKCOKtqqqWpepQp/rJ9LDpIxXFUkME8V1RtVRV1Semh00XKg4VdahhCSK+q6JqoYo61c+mh00fqajDEkEQb1VUFUV9YnrYdKniVFFRVFTUW1EURX2pK9PDphsVp4p6q/hSh6IO9aWuTQ+bblWciqjf1aEO9VZ3podNH6j4UkH9U53qre5ND5s+UvGliEP9qr6rT0wPmz5U8VanONTv6jPTw6aP1SG+q9/Vn5geNv2hIn5Sf2p62PQf1P/P9LDpYdPD/gd3UUyjHKRoZwAAAABJRU5ErkJg\">"
      ],
      "text/plain": [
       "64×64 Array{Gray{Float32},2} with eltype Gray{Float32}:\n",
       " Gray{Float32}(8.46742f-9)   …  Gray{Float32}(1.00737f-8)\n",
       " Gray{Float32}(8.20508f-9)      Gray{Float32}(9.30799f-9)\n",
       " Gray{Float32}(7.7311f-9)       Gray{Float32}(8.2037f-9)\n",
       " Gray{Float32}(7.05916f-9)      Gray{Float32}(6.79671f-9)\n",
       " Gray{Float32}(6.22958f-9)      Gray{Float32}(5.15058f-9)\n",
       " Gray{Float32}(5.2886f-9)    …  Gray{Float32}(3.35854f-9)\n",
       " Gray{Float32}(4.28787f-9)      Gray{Float32}(1.5275f-9)\n",
       " Gray{Float32}(3.29794f-9)      Gray{Float32}(-2.36099f-10)\n",
       " Gray{Float32}(2.39055f-9)      Gray{Float32}(-1.82703f-9)\n",
       " Gray{Float32}(1.64232f-9)      Gray{Float32}(-3.15572f-9)\n",
       " Gray{Float32}(1.12345f-9)   …  Gray{Float32}(-4.14855f-9)\n",
       " Gray{Float32}(8.7266f-10)      Gray{Float32}(-4.76598f-9)\n",
       " Gray{Float32}(8.94602f-10)     Gray{Float32}(-4.99563f-9)\n",
       " ⋮                           ⋱  \n",
       " Gray{Float32}(3.21791f-9)      Gray{Float32}(3.17493f-9)\n",
       " Gray{Float32}(3.33739f-9)      Gray{Float32}(3.80408f-9)\n",
       " Gray{Float32}(3.64491f-9)      Gray{Float32}(4.56043f-9)\n",
       " Gray{Float32}(4.12888f-9)   …  Gray{Float32}(5.41945f-9)\n",
       " Gray{Float32}(4.74958f-9)      Gray{Float32}(6.35174f-9)\n",
       " Gray{Float32}(5.45106f-9)      Gray{Float32}(7.31475f-9)\n",
       " Gray{Float32}(6.18115f-9)      Gray{Float32}(8.25605f-9)\n",
       " Gray{Float32}(6.88368f-9)      Gray{Float32}(9.11155f-9)\n",
       " Gray{Float32}(7.50316f-9)   …  Gray{Float32}(9.81936f-9)\n",
       " Gray{Float32}(8.00389f-9)      Gray{Float32}(1.03246f-8)\n",
       " Gray{Float32}(8.35314f-9)      Gray{Float32}(1.05628f-8)\n",
       " Gray{Float32}(8.51328f-9)      Gray{Float32}(1.04874f-8)"
      ]
     },
     "execution_count": 9,
     "metadata": {},
     "output_type": "execute_result"
    },
    {
     "name": "stderr",
     "output_type": "stream",
     "text": [
      "┌ Warning: Replacing module `ImageCore`\n",
      "└ @ Base loading.jl:1036\n"
     ]
    }
   ],
   "source": [
    "Gray.(img_b[:, :, 32])"
   ]
  },
  {
   "cell_type": "code",
   "execution_count": 10,
   "metadata": {},
   "outputs": [
    {
     "data": {
      "text/plain": [
       "#167 (generic function with 1 method)"
      ]
     },
     "execution_count": 10,
     "metadata": {},
     "output_type": "execute_result"
    }
   ],
   "source": [
    "# the regularizer must be now adapted since we want to have\n",
    "# a 3D one\n",
    "reg1 = TV(num_dims=3, sum_dims=[1, 2, 3])\n",
    "reg2 = Tikhonov(num_dims=3, sum_dims=[1, 2, 3])"
   ]
  },
  {
   "cell_type": "code",
   "execution_count": 13,
   "metadata": {
    "scrolled": true
   },
   "outputs": [
    {
     "name": "stdout",
     "output_type": "stream",
     "text": [
      "  0.373910 seconds (8.62 k allocations: 380.704 MiB, 1.66% gc time)\n",
      "  0.079915 seconds (5.64 k allocations: 126.591 MiB, 3.02% gc time)\n"
     ]
    }
   ],
   "source": [
    "@time res, ores = deconvolution(img_n, psf, regularizer=reg1, loss=Poisson(),\n",
    "                          λ=0.02, padding=0.2, iterations=6);\n",
    "@time res2, ores = deconvolution(img_n, psf, regularizer=reg2, loss=Poisson(),\n",
    "                          λ=0.001, padding=0.0, iterations=6);"
   ]
  },
  {
   "cell_type": "code",
   "execution_count": 15,
   "metadata": {},
   "outputs": [
    {
     "data": {
      "image/png": "[encoded data removed]",
      "text/html": [
       "<img style='display:inline' src=\"data:image/png;base64,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\">"
      ],
      "text/plain": [
       "128×256 Array{Gray{Float32},2} with eltype Gray{Float32}:\n",
       " Gray{Float32}(0.0)  Gray{Float32}(0.0)  …  Gray{Float32}(0.0)\n",
       " Gray{Float32}(0.0)  Gray{Float32}(0.0)     Gray{Float32}(0.0)\n",
       " Gray{Float32}(0.0)  Gray{Float32}(0.0)     Gray{Float32}(0.0)\n",
       " Gray{Float32}(0.0)  Gray{Float32}(0.0)     Gray{Float32}(0.0)\n",
       " Gray{Float32}(0.0)  Gray{Float32}(0.0)     Gray{Float32}(0.0)\n",
       " Gray{Float32}(0.0)  Gray{Float32}(0.0)  …  Gray{Float32}(0.0)\n",
       " Gray{Float32}(0.0)  Gray{Float32}(0.0)     Gray{Float32}(0.0)\n",
       " Gray{Float32}(0.0)  Gray{Float32}(0.0)     Gray{Float32}(0.0)\n",
       " Gray{Float32}(0.0)  Gray{Float32}(0.0)     Gray{Float32}(0.0)\n",
       " Gray{Float32}(0.0)  Gray{Float32}(0.0)     Gray{Float32}(0.0)\n",
       " Gray{Float32}(0.0)  Gray{Float32}(0.0)  …  Gray{Float32}(0.0)\n",
       " Gray{Float32}(0.0)  Gray{Float32}(0.0)     Gray{Float32}(0.0)\n",
       " Gray{Float32}(0.0)  Gray{Float32}(0.0)     Gray{Float32}(0.0)\n",
       " ⋮                                       ⋱  ⋮\n",
       " Gray{Float32}(0.0)  Gray{Float32}(0.0)     Gray{Float32}(0.0)\n",
       " Gray{Float32}(0.0)  Gray{Float32}(0.0)     Gray{Float32}(0.0)\n",
       " Gray{Float32}(0.0)  Gray{Float32}(0.0)     Gray{Float32}(0.0)\n",
       " Gray{Float32}(0.0)  Gray{Float32}(0.0)     Gray{Float32}(0.0)\n",
       " Gray{Float32}(0.0)  Gray{Float32}(0.0)  …  Gray{Float32}(0.0)\n",
       " Gray{Float32}(0.0)  Gray{Float32}(0.0)     Gray{Float32}(0.0)\n",
       " Gray{Float32}(0.0)  Gray{Float32}(0.0)     Gray{Float32}(0.0)\n",
       " Gray{Float32}(0.0)  Gray{Float32}(0.0)     Gray{Float32}(0.0)\n",
       " Gray{Float32}(0.0)  Gray{Float32}(0.0)     Gray{Float32}(0.0)\n",
       " Gray{Float32}(0.0)  Gray{Float32}(0.0)  …  Gray{Float32}(0.0)\n",
       " Gray{Float32}(0.0)  Gray{Float32}(0.0)     Gray{Float32}(0.0)\n",
       " Gray{Float32}(0.0)  Gray{Float32}(0.0)     Gray{Float32}(0.0)"
      ]
     },
     "execution_count": 15,
     "metadata": {},
     "output_type": "execute_result"
    }
   ],
   "source": [
    "img_comb1 = [img[32, :, :] res2[32, :, :] res[32, :, :] img_n[32, :, :]]\n",
    "img_comb2 = [img[:, : ,43] res2[:, :, 43] res[:, :, 43] img_n[:, :, 43]]\n",
    "\n",
    "img_comb = cat(img_comb1, img_comb2, dims=1)\n",
    "img_comb ./= maximum(img_comb)\n",
    "\n",
    "Gray.(img_comb)"
   ]
  }
 ],
 "metadata": {
  "kernelspec": {
   "display_name": "Julia 1.7.2",
   "language": "julia",
   "name": "julia-1.7"
  },
  "language_info": {
   "file_extension": ".jl",
   "mimetype": "application/julia",
   "name": "julia",
   "version": "1.7.2"
  }
 },
 "nbformat": 4,
 "nbformat_minor": 2
}
