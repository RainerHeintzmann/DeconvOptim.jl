{
 "cells": [
  {
   "cell_type": "markdown",
   "metadata": {},
   "source": [
    "## Speed test of Tullio.jl on GPUs and CPUs"
   ]
  },
  {
   "cell_type": "code",
   "execution_count": 1,
   "metadata": {},
   "outputs": [],
   "source": [
    "using CUDA, KernelAbstractions, Tullio, Zygote"
   ]
  },
  {
   "cell_type": "markdown",
   "metadata": {},
   "source": [
    "Tullio.jl is currently not very optimized for GPUs but it works.\n",
    "For 2D the speedup is not great, for 3D it is slightly better.\n",
    "Below you can find several small tests.\n",
    "Also look [here](https://discourse.julialang.org/t/fast-gpu-kernels-differentiable-with-zygote/56756?u=roflmaostc)."
   ]
  },
  {
   "cell_type": "code",
   "execution_count": 87,
   "metadata": {},
   "outputs": [
    {
     "data": {
      "text/plain": [
       "reg4 (generic function with 1 method)"
      ]
     },
     "execution_count": 87,
     "metadata": {},
     "output_type": "execute_result"
    }
   ],
   "source": [
    "reg(x) = @tullio res = sqrt(abs2(x[i, j, k] - x[i+1, j, k]) + \n",
    "                            abs2(x[i, j, k] - x[i, j+1, k]) + \n",
    "                            abs2(x[i, j, k] - x[i, j, k+1]))\n",
    "\n",
    "reg2(x) = sum(@tullio res[i, j, k] := sqrt( abs2(x[i, j, k] - x[i+1, j, k]) + \n",
    "                                            abs2(x[i, j, k] - x[i, j+1, k]) + \n",
    "                                            abs2(x[i, j, k] - x[i, j, k+1])))\n",
    "\n",
    "reg3(x) = sum(@tullio res[j, k] := sqrt(abs2(x[i, j, k] - x[i+1, j, k ]) +\n",
    "                                    abs2(x[i, j, k] - x[i, j+1, k ]) +\n",
    "                                     abs2(x[i, j, k] - x[i, j, k+1])))\n",
    "\n",
    "reg4(x) = sum(@tullio res[k] := sqrt(abs2(x[i, j, k] - x[i+1, j, k ]) +\n",
    "                                    abs2(x[i, j, k] - x[i, j+1, k ]) +\n",
    "                                     abs2(x[i, j, k] - x[i, j, k+1])))"
   ]
  },
  {
   "cell_type": "code",
   "execution_count": 55,
   "metadata": {},
   "outputs": [],
   "source": [
    "x = randn(Float16, (512, 512, 64));\n",
    "x_c = CuArray(x);"
   ]
  },
  {
   "cell_type": "code",
   "execution_count": 95,
   "metadata": {},
   "outputs": [
    {
     "name": "stdout",
     "output_type": "stream",
     "text": [
      "  0.022839 seconds (225 allocations: 10.766 KiB)\n",
      "  0.081545 seconds (198 allocations: 31.386 MiB)\n",
      "  0.022012 seconds (329 allocations: 81.703 KiB)\n",
      "  0.019439 seconds (215 allocations: 9.734 KiB)\n",
      "  0.069363 seconds (597 allocations: 32.031 MiB)\n",
      "  0.125310 seconds (594 allocations: 63.409 MiB)\n",
      "  0.085667 seconds (614 allocations: 32.094 MiB)\n",
      "  0.070661 seconds (504 allocations: 32.024 MiB)\n"
     ]
    }
   ],
   "source": [
    "@time reg(x)\n",
    "@time reg2(x)\n",
    "@time reg3(x)\n",
    "@time reg4(x)\n",
    "@time Zygote.gradient(reg, x);\n",
    "@time Zygote.gradient(reg2, x);\n",
    "@time Zygote.gradient(reg3, x);\n",
    "@time Zygote.gradient(reg4, x);"
   ]
  },
  {
   "cell_type": "code",
   "execution_count": 96,
   "metadata": {
    "scrolled": true
   },
   "outputs": [
    {
     "name": "stdout",
     "output_type": "stream",
     "text": [
      "  0.022923 seconds (220 CPU allocations: 8.875 KiB) (3 GPU allocations: 31.377 MiB, 0.04% gc time)\n",
      "  0.006365 seconds (248 CPU allocations: 8.031 KiB) (3 GPU allocations: 62.941 KiB, 0.11% gc time)\n",
      "  0.084296 seconds (180 CPU allocations: 6.891 KiB) (2 GPU allocations: 128 bytes, 0.01% gc time)\n",
      "  0.006248 seconds (473 CPU allocations: 19.516 KiB) (5 GPU allocations: 94.754 MiB, 0.11% gc time)\n",
      "  0.008904 seconds (470 CPU allocations: 18.875 KiB) (5 GPU allocations: 32.123 MiB, 0.11% gc time)\n",
      "  0.076914 seconds (433 CPU allocations: 17.359 KiB) (4 GPU allocations: 32.000 MiB, 0.01% gc time)\n"
     ]
    }
   ],
   "source": [
    "@CUDA.time reg2(x_c)\n",
    "@CUDA.time reg3(x_c)\n",
    "@CUDA.time reg4(x_c)\n",
    "@CUDA.time Zygote.gradient(reg2, x_c);\n",
    "@CUDA.time Zygote.gradient(reg3, x_c);\n",
    "@CUDA.time Zygote.gradient(reg4, x_c);"
   ]
  }
 ],
 "metadata": {
  "kernelspec": {
   "display_name": "Julia 1.6.0-beta1",
   "language": "julia",
   "name": "julia-1.6"
  },
  "language_info": {
   "file_extension": ".jl",
   "mimetype": "application/julia",
   "name": "julia",
   "version": "1.6.0"
  }
 },
 "nbformat": 4,
 "nbformat_minor": 4
}
