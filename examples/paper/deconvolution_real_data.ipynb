{
 "cells": [
  {
   "cell_type": "code",
   "execution_count": 1,
   "metadata": {},
   "outputs": [],
   "source": [
    "using Pkg\n",
    "Pkg.activate(\"../.\")"
   ]
  },
  {
   "cell_type": "code",
   "execution_count": 2,
   "metadata": {
    "scrolled": false
   },
   "outputs": [],
   "source": [
    "using Tullio, HDF5"
   ]
  },
  {
   "cell_type": "code",
   "execution_count": 3,
   "metadata": {
    "scrolled": false
   },
   "outputs": [
    {
     "name": "stderr",
     "output_type": "stream",
     "text": [
      "┌ Info: napari version\n",
      "│   version = 0.4.10\n",
      "└ @ Napari /home/fxw/.julia/packages/Napari/6LgKu/src/Napari.jl:48\n",
      "┌ Info: /home/fxw/julia/PythonEnvs/python_napari/lib/python3.8/site-packages/napari\n",
      "└ @ Napari /home/fxw/.julia/packages/Napari/6LgKu/src/Napari.jl:49\n",
      "┌ Info: DeconvOptim.jl: CUDA.jl is loaded, so include GPU functionality\n",
      "└ @ DeconvOptim /home/fxw/julia/DeconvOptim.jl/src/requires.jl:6\n"
     ]
    }
   ],
   "source": [
    "using Revise, DeconvOptim, Napari, Images, FourierTools, Napari, FFTW, TestImages, Noise, CUDA, Zygote, LinearAlgebra\n",
    "FFTW.set_num_threads(12)"
   ]
  },
  {
   "cell_type": "code",
   "execution_count": 4,
   "metadata": {},
   "outputs": [],
   "source": [
    "CUDA.allowscalar(false)"
   ]
  },
  {
   "cell_type": "code",
   "execution_count": 5,
   "metadata": {
    "scrolled": true
   },
   "outputs": [],
   "source": [
    "img = permutedims(h5read(\"../../../../Nextcloud/Uni/DeconvOptim.jl/good_data/data.h5\", \"data\"), (2,1,3))\n",
    "psf = ifftshift(h5read(\"../../../../Nextcloud/Uni/DeconvOptim.jl/good_data/psf.h5\", \"psf\"));"
   ]
  },
  {
   "cell_type": "code",
   "execution_count": 6,
   "metadata": {
    "scrolled": false
   },
   "outputs": [],
   "source": [
    "# download here http://bigwww.epfl.ch/deconvolution/data/microtubules/\n",
    "#img = Float32.(load(\"data.tif\"));\n",
    "#psf = ifftshift(Float32.(load(\"psf.tif\")));\n",
    "\n",
    "img_c = CuArray(img)\n",
    "psf_c = CuArray(psf);"
   ]
  },
  {
   "cell_type": "code",
   "execution_count": 23,
   "metadata": {},
   "outputs": [
    {
     "data": {
      "text/plain": [
       "#156 (generic function with 1 method)"
      ]
     },
     "execution_count": 23,
     "metadata": {},
     "output_type": "execute_result"
    }
   ],
   "source": [
    "reg = TV(num_dims=3)"
   ]
  },
  {
   "cell_type": "code",
   "execution_count": 16,
   "metadata": {},
   "outputs": [
    {
     "data": {
      "text/plain": [
       "#25 (generic function with 1 method)"
      ]
     },
     "execution_count": 16,
     "metadata": {},
     "output_type": "execute_result"
    }
   ],
   "source": [
    "reg_c = TV_cuda(num_dims=3)"
   ]
  },
  {
   "cell_type": "code",
   "execution_count": 8,
   "metadata": {},
   "outputs": [
    {
     "data": {
      "text/plain": [
       "poisson_aux (generic function with 2 methods)"
      ]
     },
     "execution_count": 8,
     "metadata": {},
     "output_type": "execute_result"
    }
   ],
   "source": [
    "loss = Poisson()"
   ]
  },
  {
   "cell_type": "code",
   "execution_count": 33,
   "metadata": {
    "scrolled": true
   },
   "outputs": [
    {
     "name": "stdout",
     "output_type": "stream",
     "text": [
      " 40.091097 seconds (276.15 k allocations: 531.301 MiB, 0.19% gc time, 0.07% compilation time)\n"
     ]
    }
   ],
   "source": [
    "@time res_lr = richardson_lucy_iterative(1f-5 .+ img, psf, iterations=300, λ=0.002f0, regularizer=nothing);"
   ]
  },
  {
   "cell_type": "code",
   "execution_count": 32,
   "metadata": {},
   "outputs": [],
   "source": [
    "h5write(\"/home/fxw/Nextcloud/Uni/DeconvOptim.jl/good_data/DeconvOptim_lucy_richardson.h5\", \"res\", res_lr)"
   ]
  },
  {
   "cell_type": "code",
   "execution_count": 30,
   "metadata": {
    "scrolled": true
   },
   "outputs": [
    {
     "name": "stdout",
     "output_type": "stream",
     "text": [
      "  3.053164 seconds (33.02 k CPU allocations: 1.479 MiB) (1.22 k GPU allocations: 76.297 GiB, 0.07% gc time of which 80.25% spent allocating)\n"
     ]
    }
   ],
   "source": [
    "GC.gc(true)\n",
    "CUDA.@time res_lr_c = richardson_lucy_iterative(1f-5 .+ img_c, psf_c, iterations=300, λ=0.002f0, regularizer=nothing);"
   ]
  },
  {
   "cell_type": "code",
   "execution_count": 27,
   "metadata": {
    "scrolled": false
   },
   "outputs": [
    {
     "name": "stdout",
     "output_type": "stream",
     "text": [
      " 39.858604 seconds (91.13 k allocations: 25.216 GiB, 3.06% gc time)\n"
     ]
    }
   ],
   "source": [
    "GC.gc(true)\n",
    "@time res_TV, o = deconvolution(img, psf, iterations=45, regularizer=reg, λ=0.001f0);"
   ]
  },
  {
   "cell_type": "code",
   "execution_count": 28,
   "metadata": {},
   "outputs": [
    {
     "name": "stdout",
     "output_type": "stream",
     "text": [
      " 32.893269 seconds (69.36 k allocations: 19.465 GiB, 2.98% gc time)\n"
     ]
    }
   ],
   "source": [
    "GC.gc(true)\n",
    "@time res_no_TV, o = deconvolution(img, psf, iterations=45, regularizer=nothing, λ=0.001f0);"
   ]
  },
  {
   "cell_type": "code",
   "execution_count": 29,
   "metadata": {},
   "outputs": [],
   "source": [
    "h5write(\"/home/fxw/Nextcloud/Uni/DeconvOptim.jl/good_data/DeconvOptim_lucy_with_TV.h5\", \"res\", res_TV)\n",
    "h5write(\"/home/fxw/Nextcloud/Uni/DeconvOptim.jl/good_data/DeconvOptim_lucy_no_TV.h5\", \"res\", res_no_TV)"
   ]
  },
  {
   "cell_type": "code",
   "execution_count": 19,
   "metadata": {
    "scrolled": true
   },
   "outputs": [
    {
     "name": "stdout",
     "output_type": "stream",
     "text": [
      "  4.459219 seconds (4.07 M CPU allocations: 72.670 MiB, 3.43% gc time) (3.75 k GPU allocations: 137.183 GiB, 40.07% gc time of which 90.99% spent allocating)\n"
     ]
    }
   ],
   "source": [
    "GC.gc(true)\n",
    "CUDA.@time res_c, o = deconvolution(img_c, psf_c, iterations=45, regularizer=reg_c, λ=0.001f0);"
   ]
  },
  {
   "cell_type": "code",
   "execution_count": 17,
   "metadata": {
    "scrolled": false
   },
   "outputs": [
    {
     "name": "stdout",
     "output_type": "stream",
     "text": [
      "  2.198520 seconds (3.07 M CPU allocations: 51.350 MiB, 1.13% gc time) (1.86 k GPU allocations: 34.782 GiB, 9.04% gc time of which 85.36% spent allocating)\n"
     ]
    }
   ],
   "source": [
    "GC.gc(true)\n",
    "CUDA.@time res_c, o = deconvolution(img_c, psf_c, iterations=45, regularizer=nothing, λ=0.001f0);"
   ]
  }
 ],
 "metadata": {
  "kernelspec": {
   "display_name": "Julia 1.6.1",
   "language": "julia",
   "name": "julia-1.6"
  },
  "language_info": {
   "file_extension": ".jl",
   "mimetype": "application/julia",
   "name": "julia",
   "version": "1.6.1"
  }
 },
 "nbformat": 4,
 "nbformat_minor": 4
}
