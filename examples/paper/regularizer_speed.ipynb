{
 "cells": [
  {
   "cell_type": "code",
   "execution_count": 1,
   "metadata": {},
   "outputs": [
    {
     "name": "stderr",
     "output_type": "stream",
     "text": [
      "\u001b[32m\u001b[1m  Activating\u001b[22m\u001b[39m environment at `~/julia/DeconvOptim.jl/examples/paper/Project.toml`\n"
     ]
    }
   ],
   "source": [
    "using Pkg, Revise\n",
    "Pkg.activate(\"/home/fxw/julia/DeconvOptim.jl/examples/paper/.\")"
   ]
  },
  {
   "cell_type": "code",
   "execution_count": 28,
   "metadata": {
    "scrolled": true
   },
   "outputs": [
    {
     "name": "stderr",
     "output_type": "stream",
     "text": [
      "┌ Info: Precompiling CUDAKernels [72cfdca4-0801-4ab0-bf6a-d52aa10adc57]\n",
      "└ @ Base loading.jl:1342\n"
     ]
    }
   ],
   "source": [
    "using CUDA, Tullio, BenchmarkTools, CUDAKernels, KernelAbstractions, Zygote, Distributed\n",
    "CUDA.allowscalar(false)"
   ]
  },
  {
   "cell_type": "code",
   "execution_count": 3,
   "metadata": {
    "scrolled": true
   },
   "outputs": [
    {
     "data": {
      "text/plain": [
       "TV_tullio_2 (generic function with 2 methods)"
      ]
     },
     "execution_count": 3,
     "metadata": {},
     "output_type": "execute_result"
    }
   ],
   "source": [
    "function TV_cpu(arr, ϵ=eltype(arr)(1e-8))\n",
    "    @tullio r = sqrt(ϵ + abs2(arr[i,j,k] - arr[i+1,j,k])\n",
    "                       + abs2(arr[i,j,k] - arr[i,j+1,k])\n",
    "                       + abs2(arr[i,j,k] - arr[i,j,k+1]))\n",
    "end\n",
    "\n",
    "# see here https://github.com/mcabbott/Tullio.jl/issues/85\n",
    "# gradient pass is super slow\n",
    "function TV_gpu(arr, ϵ=eltype(arr)(1e-8))\n",
    "    arr1 = arr\n",
    "    arr2 = arr\n",
    "    arr3 = arr\n",
    "    @tullio r[i, j, k] := sqrt(ϵ + abs2(arr[i,j,k] - arr1[i+1,j,k])\n",
    "                       + abs2(arr[i,j,k] - arr2[i,j+1,k])\n",
    "                       + abs2(arr[i,j,k] - arr3[i,j,k+1]))\n",
    "    return sum(r)\n",
    "end\n",
    "\n",
    "\n",
    "f_inds(rs, b) = ntuple(i -> i == b ? rs[i] .+ 1 : rs[i], length(rs))\n",
    "\n",
    "# called \"naiv\" implementation\n",
    "function TV_3D_view(arr::AbstractArray{T, N}, ϵ=1f-8) where {T, N}\n",
    "    as = ntuple(i -> axes(arr, i), Val(N))\n",
    "    rs = map(x -> first(x):last(x)-1, as)\n",
    "    arr0 = view(arr, f_inds(rs, 0)...)\n",
    "    arr1 = view(arr, f_inds(rs, 1)...)\n",
    "    arr2 = view(arr, f_inds(rs, 2)...)\n",
    "    arr3 = view(arr, f_inds(rs, 3)...)\n",
    "\n",
    "    return @fastmath sum(sqrt.(ϵ .+ abs2.(arr1 .- arr0) .+ \n",
    "                            abs2.(arr2 .- arr0) .+ abs2.(arr3 .- arr0)))\n",
    "\n",
    "end\n",
    "\n",
    "function TV_3D_circshift(arr::AbstractArray{T, N}, ϵ=1f-8) where {T, N}\n",
    "    arr0 = arr\n",
    "    arr1 = circshift(arr, (1, 0, 0))\n",
    "    arr2 = circshift(arr, (0, 1, 0))\n",
    "    arr3 = circshift(arr, (0, 0, 1))\n",
    "\n",
    "    return @fastmath sum(sqrt.(ϵ .+ abs2.(arr1 .- arr0) .+ \n",
    "                            abs2.(arr2 .- arr0) .+ abs2.(arr3 .- arr0)))\n",
    "\n",
    "end\n",
    "\n",
    "function TV_tullio_2(arr::AbstractArray{T, N}, ϵ=1f-8) where {T, N}\n",
    "    @tullio diff1[i,j,k] := abs2(arr[i+1,j,k] - arr[i,j,k])\n",
    "    @tullio diff2[i,j,k] := abs2(arr[i,j+1,k] - arr[i,j,k])\n",
    "    @tullio diff3[i,j,k] := abs2(arr[i,j,k+1] - arr[i,j,k])\n",
    "\n",
    "    @tullio res[i, j, k] := sqrt(ϵ + diff1[i+0,j+0,k+0] + diff2[i+0,j+0,k+0] + diff3[i+0,j+0,k+0]) (i in 1:size(arr, 1)-1, j in 1:size(arr, 2)-1,l in 1:size(arr, 3)-1)\n",
    "    return sum(res)\n",
    "end"
   ]
  },
  {
   "cell_type": "code",
   "execution_count": 6,
   "metadata": {},
   "outputs": [],
   "source": [
    "arr = randn(Float32, (300, 300, 300));\n",
    "arr_c = CuArray(arr);"
   ]
  },
  {
   "cell_type": "code",
   "execution_count": 7,
   "metadata": {
    "scrolled": false
   },
   "outputs": [
    {
     "name": "stdout",
     "output_type": "stream",
     "text": [
      "  4.821 ms (217 allocations: 10.52 KiB)\n",
      "  117.558 ms (315 allocations: 103.01 MiB)\n"
     ]
    }
   ],
   "source": [
    "@btime TV_cpu(arr)\n",
    "x = @btime gradient(TV_cpu, arr);"
   ]
  },
  {
   "cell_type": "code",
   "execution_count": 8,
   "metadata": {},
   "outputs": [
    {
     "name": "stdout",
     "output_type": "stream",
     "text": [
      "  84.030 ms (3 allocations: 101.97 MiB)\n",
      "  1.018 s (1227 allocations: 3.29 GiB)\n"
     ]
    }
   ],
   "source": [
    "@btime TV_3D_view(arr);\n",
    "x = @btime gradient(TV_3D_view, arr);"
   ]
  },
  {
   "cell_type": "code",
   "execution_count": 10,
   "metadata": {
    "scrolled": true
   },
   "outputs": [
    {
     "name": "stdout",
     "output_type": "stream",
     "text": [
      "  3.280 ms (6267 allocations: 127.41 KiB)\n",
      "  29.742 ms (65355 allocations: 1.08 MiB)\n"
     ]
    }
   ],
   "source": [
    "@btime TV_3D_view($arr_c);\n",
    "x_c = @btime gradient(TV_3D_view, $arr_c);"
   ]
  },
  {
   "cell_type": "code",
   "execution_count": 11,
   "metadata": {
    "scrolled": true
   },
   "outputs": [
    {
     "name": "stdout",
     "output_type": "stream",
     "text": [
      "  3.280 ms (6265 allocations: 127.38 KiB)\n",
      "  45.442 ms (94510 allocations: 1.53 MiB)\n"
     ]
    }
   ],
   "source": [
    "GC.gc(true)\n",
    "@btime CUDA.@sync TV_3D_view($arr_c);\n",
    "GC.gc(true)\n",
    "@btime CUDA.@sync gradient(TV_3D_view, $arr_c);"
   ]
  },
  {
   "cell_type": "code",
   "execution_count": 12,
   "metadata": {},
   "outputs": [
    {
     "name": "stdout",
     "output_type": "stream",
     "text": [
      "  6.134 ms (8122 allocations: 149.61 KiB)\n",
      "  41.275 ms (84207 allocations: 1.32 MiB)\n"
     ]
    }
   ],
   "source": [
    "GC.gc(true)\n",
    "@btime CUDA.@sync TV_3D_circshift($arr_c);\n",
    "GC.gc(true)\n",
    "@btime CUDA.@sync gradient(TV_3D_circshift, $arr_c);"
   ]
  },
  {
   "cell_type": "code",
   "execution_count": 29,
   "metadata": {},
   "outputs": [
    {
     "name": "stdout",
     "output_type": "stream",
     "text": [
      "  3.407 ms (7373 allocations: 123.97 KiB)\n",
      "  13.729 s (29217371 allocations: 445.86 MiB)\n"
     ]
    }
   ],
   "source": [
    "@btime TV_gpu($arr_c)\n",
    "@btime gradient(TV_gpu, $arr_c);"
   ]
  },
  {
   "cell_type": "code",
   "execution_count": null,
   "metadata": {},
   "outputs": [],
   "source": []
  },
  {
   "cell_type": "code",
   "execution_count": null,
   "metadata": {},
   "outputs": [],
   "source": []
  },
  {
   "cell_type": "code",
   "execution_count": 38,
   "metadata": {},
   "outputs": [
    {
     "data": {
      "text/plain": [
       "TV_2D_view (generic function with 2 methods)"
      ]
     },
     "execution_count": 38,
     "metadata": {},
     "output_type": "execute_result"
    }
   ],
   "source": [
    "function TV_cpu_2D(arr, ϵ=eltype(arr)(1e-8))\n",
    "    @tullio r = sqrt(ϵ + abs2(arr[i,j] - arr[i+1,j])\n",
    "                       + abs2(arr[i,j] - arr[i,j+1]))\n",
    "end\n",
    "\n",
    "# see here https://github.com/mcabbott/Tullio.jl/issues/85\n",
    "# gradient pass is super slow\n",
    "function TV_gpu_2D(arr, ϵ=eltype(arr)(1e-8))\n",
    "    arr1 = arr\n",
    "    arr2 = arr\n",
    "    @tullio r[i, j] := sqrt(ϵ + abs2(arr[i,j] - arr1[i+1,j])\n",
    "                       + abs2(arr[i,j] - arr2[i,j+1]))\n",
    "    return sum(r)\n",
    "end\n",
    "\n",
    "\n",
    "f_inds(rs, b) = ntuple(i -> i == b ? rs[i] .+ 1 : rs[i], length(rs))\n",
    "\n",
    "# called \"naiv\" implementation\n",
    "function TV_2D_view(arr::AbstractArray{T, N}, ϵ=1f-8) where {T, N}\n",
    "    as = ntuple(i -> axes(arr, i), Val(N))\n",
    "    rs = map(x -> first(x):last(x)-1, as)\n",
    "    arr0 = view(arr, f_inds(rs, 0)...)\n",
    "    arr1 = view(arr, f_inds(rs, 1)...)\n",
    "    arr2 = view(arr, f_inds(rs, 2)...)\n",
    "\n",
    "    return @fastmath sum(sqrt.(ϵ .+ abs2.(arr1 .- arr0) .+ \n",
    "                            abs2.(arr2 .- arr0)))\n",
    "\n",
    "end\n"
   ]
  },
  {
   "cell_type": "code",
   "execution_count": 23,
   "metadata": {},
   "outputs": [],
   "source": [
    "arr_2d = randn(Float32, (512, 512));\n",
    "arr_c_2d = CuArray(arr_2d);"
   ]
  },
  {
   "cell_type": "code",
   "execution_count": 24,
   "metadata": {},
   "outputs": [
    {
     "name": "stdout",
     "output_type": "stream",
     "text": [
      "  19.520 μs (203 allocations: 9.80 KiB)\n",
      "  533.275 μs (283 allocations: 1.01 MiB)\n"
     ]
    }
   ],
   "source": [
    "@btime TV_cpu_2D($arr_2d)\n",
    "x = @btime gradient($TV_cpu_2D, $arr_2d);"
   ]
  },
  {
   "cell_type": "code",
   "execution_count": 30,
   "metadata": {},
   "outputs": [
    {
     "name": "stdout",
     "output_type": "stream",
     "text": [
      "  387.237 μs (3 allocations: 1020.16 KiB)\n",
      "  2.663 ms (862 allocations: 23.98 MiB)\n"
     ]
    }
   ],
   "source": [
    "@btime TV_2D_view($arr_2d);\n",
    "x = @btime gradient($TV_2D_view, $arr_2d);"
   ]
  },
  {
   "cell_type": "code",
   "execution_count": 25,
   "metadata": {},
   "outputs": [
    {
     "name": "stdout",
     "output_type": "stream",
     "text": [
      "  44.280 μs (183 allocations: 18.67 KiB)\n",
      "  472.536 μs (1477 allocations: 80.95 KiB)\n"
     ]
    }
   ],
   "source": [
    "@btime TV_2D_view($arr_c_2d);\n",
    "x = @btime gradient($TV_2D_view, $arr_c_2d);"
   ]
  },
  {
   "cell_type": "code",
   "execution_count": 40,
   "metadata": {
    "scrolled": true
   },
   "outputs": [
    {
     "name": "stdout",
     "output_type": "stream",
     "text": [
      "  50.730 μs (256 allocations: 10.98 KiB)\n",
      "  405.437 μs (570 allocations: 26.11 KiB)\n"
     ]
    }
   ],
   "source": [
    "@btime TV_gpu_2D($arr_c_2d)\n",
    "x = @btime gradient($TV_gpu_2D, $arr_c_2d);"
   ]
  }
 ],
 "metadata": {
  "kernelspec": {
   "display_name": "Julia 1.6.2",
   "language": "julia",
   "name": "julia-1.6"
  },
  "language_info": {
   "file_extension": ".jl",
   "mimetype": "application/julia",
   "name": "julia",
   "version": "1.6.2"
  }
 },
 "nbformat": 4,
 "nbformat_minor": 4
}
