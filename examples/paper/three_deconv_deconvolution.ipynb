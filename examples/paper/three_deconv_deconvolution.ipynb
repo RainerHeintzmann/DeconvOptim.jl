{
 "cells": [
  {
   "cell_type": "code",
   "execution_count": 1,
   "metadata": {},
   "outputs": [],
   "source": [
    "using Revise, Pkg\n",
    "Pkg.activate(\".\")"
   ]
  },
  {
   "cell_type": "code",
   "execution_count": 2,
   "metadata": {},
   "outputs": [
    {
     "name": "stderr",
     "output_type": "stream",
     "text": [
      "┌ Info: napari version\n",
      "│   version = 0.4.4\n",
      "└ @ Napari /home/fxw/.julia/packages/Napari/1a3LQ/src/Napari.jl:48\n",
      "┌ Info: /home/fxw/julia/PythonEnvs/python38/lib/python3.8/site-packages/napari\n",
      "└ @ Napari /home/fxw/.julia/packages/Napari/1a3LQ/src/Napari.jl:49\n",
      "┌ Info: Precompiling ThreeDeconv [8923caa7-4272-43b5-844b-8c6a04cef442]\n",
      "└ @ Base loading.jl:1317\n"
     ]
    }
   ],
   "source": [
    "using Napari, ThreeDeconv, FFTW, Images, Printf, Statistics"
   ]
  },
  {
   "cell_type": "code",
   "execution_count": 3,
   "metadata": {},
   "outputs": [
    {
     "name": "stderr",
     "output_type": "stream",
     "text": [
      "┌ Warning: some versions of ImageMagick give spurious low-order bits for 32-bit TIFFs\n",
      "└ @ ImageMagick /home/fxw/.julia/packages/ImageMagick/b8swT/src/ImageMagick.jl:100\n"
     ]
    }
   ],
   "source": [
    "img = Float32.(load(\"data.tif\"));\n",
    "psf = Float32.(load(\"psf.tif\"));"
   ]
  },
  {
   "cell_type": "code",
   "execution_count": 4,
   "metadata": {
    "scrolled": true
   },
   "outputs": [
    {
     "data": {
      "text/plain": [
       "PyObject <napari.viewer.Viewer object at 0x7f9900142910>"
      ]
     },
     "execution_count": 4,
     "metadata": {},
     "output_type": "execute_result"
    }
   ],
   "source": [
    "@view_image psf"
   ]
  },
  {
   "cell_type": "code",
   "execution_count": 5,
   "metadata": {},
   "outputs": [
    {
     "data": {
      "text/plain": [
       "PyObject <napari.viewer.Viewer object at 0x7f98d48323a0>"
      ]
     },
     "execution_count": 5,
     "metadata": {},
     "output_type": "execute_result"
    }
   ],
   "source": [
    "@view_image img"
   ]
  },
  {
   "cell_type": "code",
   "execution_count": 4,
   "metadata": {
    "scrolled": false
   },
   "outputs": [],
   "source": [
    "img ./= maximum(img);"
   ]
  },
  {
   "cell_type": "code",
   "execution_count": 11,
   "metadata": {},
   "outputs": [
    {
     "name": "stdout",
     "output_type": "stream",
     "text": [
      "Computing local noise variance.\n",
      "Initializing parameters by least-squares.\n",
      "Initialization done.\n",
      "Starting likelihood maximization.\n",
      "Finished the maximization.\n",
      "Estimated noise parameters are a = 0.001, b = 0.000.\n",
      "Estimated parameters for Poisson-Gaussian noise model\n",
      "γ: 0.0011905210267543537, σ: 0.00888126209563958\n",
      "Gain: 0.0, Read noise std.: 0.0 \n"
     ]
    },
    {
     "data": {
      "text/plain": [
       "1.0e-7"
      ]
     },
     "execution_count": 11,
     "metadata": {},
     "output_type": "execute_result"
    }
   ],
   "source": [
    "γ, σ = ThreeDeconv.noise_estimation(img, maxnum_pairs = 200)\n",
    "@printf \"Gain: %.1f, Read noise std.: %.1f \\n\" γ σ\n",
    "\n",
    "\n",
    "options =\n",
    "    ThreeDeconv.DeconvolutionOptions(max_iters = 100, show_trace = true, check_every = 50)\n",
    "reg = 1e-7"
   ]
  },
  {
   "cell_type": "code",
   "execution_count": 13,
   "metadata": {
    "scrolled": false
   },
   "outputs": [
    {
     "name": "stdout",
     "output_type": "stream",
     "text": [
      "typeof(method) = ThreeDeconv.ADMM\n",
      "No clipping performed.\n",
      "Iter     rel_diff      time  \n",
      "------   ---------   --------\n",
      "     0         NaN       0.00\n",
      "    50      0.0729      11.56\n",
      "   100      0.0518      15.86\n",
      " 17.906101 seconds (25.59 M allocations: 2.182 GiB, 3.21% gc time, 3.57% compilation time)\n"
     ]
    },
    {
     "data": {
      "text/plain": [
       "ThreeDeconv.OptimizationResult(Float32[203.47272 200.15808 … 158.22076 184.75516; 218.69745 222.63017 … 168.18898 194.63396; … ; 171.86462 163.10675 … 152.17499 167.90913; 184.90424 176.85468 … 152.06786 174.1256]\n",
       "\n",
       "Float32[189.74646 190.82523 … 157.60829 176.0743; 209.9659 212.12804 … 177.1005 194.7618; … ; 162.9584 161.9159 … 139.23557 155.63895; 172.51736 172.27759 … 142.34506 160.81467]\n",
       "\n",
       "Float32[171.69823 177.72382 … 153.06985 162.9905; 193.61528 193.97125 … 182.04813 189.34122; … ; 155.76425 166.25867 … 118.48872 138.94125; 157.66699 168.23885 … 127.22163 142.75288]\n",
       "\n",
       "...\n",
       "\n",
       "Float32[182.06067 173.12015 … 143.76915 167.41202; 176.6009 172.58246 … 133.63158 157.16907; … ; 195.83804 189.8789 … 163.70184 186.47171; 188.433 178.16035 … 152.87718 176.6781]\n",
       "\n",
       "Float32[200.65018 191.21686 … 156.33752 183.6864; 200.75879 199.60783 … 150.13602 177.56674; … ; 188.10811 177.26044 … 163.0398 182.86575; 195.28627 181.95357 … 159.72276 184.92444]\n",
       "\n",
       "Float32[208.06142 200.78818 … 158.69118 187.78445; 216.21968 217.78635 … 160.27695 189.98608; … ; 180.50087 168.55515 … 158.59454 175.7913; 193.66525 181.20163 … 157.22638 182.02618], ThreeDeconv.ADMMmetric[     0         NaN       0.00\n",
       ",     50      0.0729      11.56\n",
       ",    100      0.0518      15.86\n",
       "], false)"
      ]
     },
     "execution_count": 13,
     "metadata": {},
     "output_type": "execute_result"
    }
   ],
   "source": [
    "@time result = ThreeDeconv.deconvolve(img, psf, γ, σ, reg, options = options)"
   ]
  },
  {
   "cell_type": "code",
   "execution_count": 14,
   "metadata": {},
   "outputs": [
    {
     "data": {
      "text/plain": [
       "PyObject <napari.viewer.Viewer object at 0x7f5d73e1e6a0>"
      ]
     },
     "execution_count": 14,
     "metadata": {},
     "output_type": "execute_result"
    }
   ],
   "source": [
    "@view_image result.x"
   ]
  },
  {
   "cell_type": "code",
   "execution_count": 12,
   "metadata": {},
   "outputs": [
    {
     "ename": "LoadError",
     "evalue": "UndefVarError: res not defined",
     "output_type": "error",
     "traceback": [
      "UndefVarError: res not defined",
      "",
      "Stacktrace:",
      " [1] top-level scope",
      "   @ In[12]:1",
      " [2] eval",
      "   @ ./boot.jl:360 [inlined]",
      " [3] include_string(mapexpr::typeof(REPL.softscope), mod::Module, code::String, filename::String)",
      "   @ Base ./loading.jl:1094"
     ]
    }
   ],
   "source": [
    "mip = maximum(res, dims=3)[:, :]"
   ]
  }
 ],
 "metadata": {
  "kernelspec": {
   "display_name": "Julia 1.6.1",
   "language": "julia",
   "name": "julia-1.6"
  },
  "language_info": {
   "file_extension": ".jl",
   "mimetype": "application/julia",
   "name": "julia",
   "version": "1.6.1"
  }
 },
 "nbformat": 4,
 "nbformat_minor": 4
}
