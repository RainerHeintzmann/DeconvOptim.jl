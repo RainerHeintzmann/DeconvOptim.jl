{
 "cells": [
  {
   "cell_type": "code",
   "execution_count": 1,
   "metadata": {},
   "outputs": [],
   "source": [
    "using Revise, Pkg\n",
    "Pkg.activate(\".\")"
   ]
  },
  {
   "cell_type": "code",
   "execution_count": 22,
   "metadata": {
    "scrolled": true
   },
   "outputs": [],
   "source": [
    "using Napari, ThreeDeconv, FFTW, Images, Printf, Statistics, HDF5, CUDA"
   ]
  },
  {
   "cell_type": "code",
   "execution_count": 9,
   "metadata": {},
   "outputs": [],
   "source": [
    "img = Float32.(load(\"data.tif\"));\n",
    "psf = Float32.(load(\"psf.tif\"));\n",
    "img ./= maximum(img);"
   ]
  },
  {
   "cell_type": "code",
   "execution_count": 27,
   "metadata": {},
   "outputs": [
    {
     "name": "stdout",
     "output_type": "stream",
     "text": [
      "Computing local noise variance.\n",
      "Initializing parameters by least-squares.\n",
      "Initialization done.\n",
      "Starting likelihood maximization.\n",
      "Finished the maximization.\n",
      "Estimated noise parameters are a = 0.001, b = 0.000.\n",
      "Estimated parameters for Poisson-Gaussian noise model\n",
      "γ: 0.0011922871862607468, σ: 0.008916181746551226\n",
      "Gain: 0.0, Read noise std.: 0.0 \n"
     ]
    },
    {
     "data": {
      "text/plain": [
       "1.0e-7"
      ]
     },
     "execution_count": 27,
     "metadata": {},
     "output_type": "execute_result"
    }
   ],
   "source": [
    "γ, σ = ThreeDeconv.noise_estimation(img, maxnum_pairs = 200)\n",
    "@printf \"Gain: %.1f, Read noise std.: %.1f \\n\" γ σ\n",
    "\n",
    "\n",
    "options =\n",
    "    ThreeDeconv.DeconvolutionOptions(max_iters = 300, show_trace = true, check_every = 50)\n",
    "reg = 1e-7"
   ]
  },
  {
   "cell_type": "code",
   "execution_count": 11,
   "metadata": {},
   "outputs": [],
   "source": [
    "using ThreeDeconv"
   ]
  },
  {
   "cell_type": "code",
   "execution_count": 29,
   "metadata": {
    "scrolled": true
   },
   "outputs": [
    {
     "data": {
      "text/plain": [
       "2×2 CuArray{Float64, 2}:\n",
       "  1.17254  -0.871916\n",
       " -2.27469  -0.319056"
      ]
     },
     "execution_count": 29,
     "metadata": {},
     "output_type": "execute_result"
    }
   ],
   "source": [
    "ThreeDeconv.to_gpu_or_not_to_gpu(randn((2,2)))"
   ]
  },
  {
   "cell_type": "code",
   "execution_count": null,
   "metadata": {
    "scrolled": true
   },
   "outputs": [
    {
     "name": "stdout",
     "output_type": "stream",
     "text": [
      "No clipping performed.\n"
     ]
    }
   ],
   "source": [
    "@time result = ThreeDeconv.deconvolve(img, psf, γ, σ, reg, options = options)"
   ]
  },
  {
   "cell_type": "code",
   "execution_count": 18,
   "metadata": {},
   "outputs": [],
   "source": [
    "h5write(\"/home/fxw/Nextcloud/Uni/DeconvOptim.jl/good_data/ThreeDeconv.h5\", \"res\", result.x)"
   ]
  }
 ],
 "metadata": {
  "kernelspec": {
   "display_name": "Julia 1.6.1",
   "language": "julia",
   "name": "julia-1.6"
  },
  "language_info": {
   "file_extension": ".jl",
   "mimetype": "application/julia",
   "name": "julia",
   "version": "1.6.1"
  }
 },
 "nbformat": 4,
 "nbformat_minor": 4
}
