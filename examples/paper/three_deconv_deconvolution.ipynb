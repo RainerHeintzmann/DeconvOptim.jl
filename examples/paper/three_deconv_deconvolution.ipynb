{
 "cells": [
  {
   "cell_type": "code",
   "execution_count": 1,
   "metadata": {},
   "outputs": [],
   "source": [
    "using Revise, Pkg\n",
    "Pkg.activate(\".\")"
   ]
  },
  {
   "cell_type": "code",
   "execution_count": 22,
   "metadata": {
    "scrolled": true
   },
   "outputs": [],
   "source": [
    "using Napari, ThreeDeconv, FFTW, Images, Printf, Statistics, HDF5, CUDA"
   ]
  },
  {
   "cell_type": "code",
   "execution_count": 9,
   "metadata": {},
   "outputs": [],
   "source": [
    "img = Float32.(load(\"data.tif\"));\n",
    "psf = Float32.(load(\"psf.tif\"));\n",
    "img ./= maximum(img);"
   ]
  },
  {
   "cell_type": "code",
   "execution_count": 27,
   "metadata": {},
   "outputs": [
    {
     "name": "stdout",
     "output_type": "stream",
     "text": [
      "Computing local noise variance.\n",
      "Initializing parameters by least-squares.\n",
      "Initialization done.\n",
      "Starting likelihood maximization.\n",
      "Finished the maximization.\n",
      "Estimated noise parameters are a = 0.001, b = 0.000.\n",
      "Estimated parameters for Poisson-Gaussian noise model\n",
      "γ: 0.0011922871862607468, σ: 0.008916181746551226\n",
      "Gain: 0.0, Read noise std.: 0.0 \n"
     ]
    },
    {
     "data": {
      "text/plain": [
       "1.0e-7"
      ]
     },
     "execution_count": 27,
     "metadata": {},
     "output_type": "execute_result"
    }
   ],
   "source": [
    "γ, σ = ThreeDeconv.noise_estimation(img, maxnum_pairs = 200)\n",
    "@printf \"Gain: %.1f, Read noise std.: %.1f \\n\" γ σ\n",
    "\n",
    "\n",
    "options =\n",
    "    ThreeDeconv.DeconvolutionOptions(max_iters = 300, show_trace = true, check_every = 50)\n",
    "reg = 1e-7"
   ]
  },
  {
   "cell_type": "code",
   "execution_count": 11,
   "metadata": {},
   "outputs": [],
   "source": [
    "using ThreeDeconv"
   ]
  },
  {
   "cell_type": "code",
   "execution_count": 29,
   "metadata": {
    "scrolled": true
   },
   "outputs": [
    {
     "data": {
      "text/plain": [
       "2×2 CuArray{Float64, 2}:\n",
       "  1.17254  -0.871916\n",
       " -2.27469  -0.319056"
      ]
     },
     "execution_count": 29,
     "metadata": {},
     "output_type": "execute_result"
    }
   ],
   "source": [
    "ThreeDeconv.to_gpu_or_not_to_gpu(randn((2,2)))"
   ]
  },
  {
   "cell_type": "code",
   "execution_count": 32,
   "metadata": {
    "scrolled": true
   },
   "outputs": [
    {
     "name": "stdout",
     "output_type": "stream",
     "text": [
      "No clipping performed.\n",
      "Iter     rel_diff      time  \n",
      "------   ---------   --------\n",
      "     0         NaN       0.01\n",
      "    50      0.0183       4.59\n",
      "   100     0.00897       9.03\n",
      "   150     0.00556      13.47\n",
      "   200     0.00406      17.91\n",
      "   250     0.00314      22.36\n",
      "   300     0.00259      27.09\n",
      " 27.892288 seconds (714.41 k CPU allocations: 871.073 MiB, 5.26% gc time) (25.26 k GPU allocations: 1.546 TiB, 5.31% gc time of which 13.00% spent allocating)\n"
     ]
    },
    {
     "data": {
      "text/plain": [
       "ThreeDeconv.OptimizationResult(Float32[63.767864 53.959984 … -0.13652916 4.9848537; 137.44115 167.44516 … 0.48610437 34.149643; … ; 0.15088415 -0.28683376 … 0.17388922 -0.78955245; 10.2367325 0.7265222 … -0.35017133 0.7125435]\n",
       "\n",
       "Float32[14.730013 11.864308 … 0.47252095 0.8695887; 74.45057 88.77038 … 0.15573338 25.253944; … ; 0.13266659 0.19533825 … -0.09922834 -0.19094405; -0.124617964 -0.2276414 … -0.63622195 -0.24363491]\n",
       "\n",
       "Float32[-0.43170547 -0.10282111 … 0.34445179 -0.38331664; 3.4263556 -2.153527 … -1.1890757 7.103594; … ; -0.3080883 0.09846687 … -0.077198856 0.20547056; 0.40997142 0.06541221 … -0.14634892 -0.5953701]\n",
       "\n",
       "...\n",
       "\n",
       "Float32[13.4478 -0.45761764 … -0.2881111 0.60774136; 20.169199 5.2130947 … -0.8893171 0.6526987; … ; -0.8908521 0.08622739 … -0.00044098496 -0.42870918; -1.6711092 1.1891503 … -0.47586724 -0.018650347]\n",
       "\n",
       "Float32[62.42531 25.207197 … -0.015871823 10.506632; 83.77694 78.11122 … -0.13785528 10.502655; … ; -0.031119477 0.30504316 … 0.45683423 0.26854968; 22.616898 -0.5308763 … -0.5500291 -0.86135894]\n",
       "\n",
       "Float32[87.3681 60.495502 … 0.013615996 13.750027; 139.29312 159.44528 … -0.28815103 28.095825; … ; 0.2580402 -0.276906 … -0.21029758 0.0242244; 29.258022 -1.337366 … -0.33334512 0.3829905], ThreeDeconv.ADMMmetric[     0         NaN       0.01\n",
       ",     50      0.0183       4.59\n",
       ",    100     0.00897       9.03\n",
       ",    150     0.00556      13.47\n",
       ",    200     0.00406      17.91\n",
       ",    250     0.00314      22.36\n",
       ",    300     0.00259      27.09\n",
       "], false)"
      ]
     },
     "execution_count": 32,
     "metadata": {},
     "output_type": "execute_result"
    }
   ],
   "source": [
    "CUDA.@time result = ThreeDeconv.deconvolve(img, psf, γ, σ, reg, options = options)"
   ]
  },
  {
   "cell_type": "code",
   "execution_count": 18,
   "metadata": {},
   "outputs": [],
   "source": [
    "h5write(\"/home/fxw/Nextcloud/Uni/DeconvOptim.jl/good_data/ThreeDeconv.h5\", \"res\", result.x)"
   ]
  }
 ],
 "metadata": {
  "kernelspec": {
   "display_name": "Julia 1.6.1",
   "language": "julia",
   "name": "julia-1.6"
  },
  "language_info": {
   "file_extension": ".jl",
   "mimetype": "application/julia",
   "name": "julia",
   "version": "1.6.1"
  }
 },
 "nbformat": 4,
 "nbformat_minor": 4
}
