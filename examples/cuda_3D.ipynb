{
 "cells": [
  {
   "cell_type": "markdown",
   "metadata": {},
   "source": [
    "## 3D Example"
   ]
  },
  {
   "cell_type": "code",
   "execution_count": 1,
   "metadata": {},
   "outputs": [],
   "source": [
    "using Pkg\n",
    "Pkg.activate(\".\")"
   ]
  },
  {
   "cell_type": "code",
   "execution_count": 46,
   "metadata": {},
   "outputs": [
    {
     "data": {
      "text/plain": [
       "h_view (generic function with 1 method)"
      ]
     },
     "execution_count": 46,
     "metadata": {},
     "output_type": "execute_result"
    }
   ],
   "source": [
    "using Revise, DeconvOptim, TestImages, Noise, CUDA, ImageShow, Colors, FFTW, OffsetArrays\n",
    "\n",
    "FFTW.set_num_threads(4)\n",
    "CUDA.allowscalar(false);\n",
    "\n",
    "h_view(args...) = begin\n",
    "    img = cat(args..., dims=2)\n",
    "    img ./= maximum(img)\n",
    "    Gray.(img)\n",
    "end"
   ]
  },
  {
   "cell_type": "code",
   "execution_count": 45,
   "metadata": {},
   "outputs": [],
   "source": [
    "# load test images\n",
    "img = Float32.(testimage(\"simple_3d_ball\"))\n",
    "\n",
    "psf = permutedims(ifftshift(OffsetArrays.no_offset_view(Float32.(testimage(\"simple_3d_psf\")))), (3,1,2))\n",
    "psf_c = CuArray(psf)\n",
    "\n",
    "img_b = conv_psf(img, psf, [1,2,3])\n",
    "img_n = poisson(img_b, 300);\n",
    "\n",
    "img_n_c = CuArray(img_n);"
   ]
  },
  {
   "cell_type": "code",
   "execution_count": 21,
   "metadata": {
    "scrolled": false
   },
   "outputs": [
    {
     "data": {
      "text/plain": [
       "#204 (generic function with 1 method)"
      ]
     },
     "execution_count": 21,
     "metadata": {},
     "output_type": "execute_result"
    }
   ],
   "source": [
    "reg = TV(mode=\"forward\", num_dims=3)"
   ]
  },
  {
   "cell_type": "code",
   "execution_count": 44,
   "metadata": {},
   "outputs": [
    {
     "name": "stdout",
     "output_type": "stream",
     "text": [
      "  0.692165 seconds (33.59 k allocations: 890.334 MiB, 6.21% gc time)\n"
     ]
    },
    {
     "data": {
      "text/plain": [
       "(Float32[3.2408907f-6 2.0085336f-6 … 2.0203818f-6 3.2851742f-6; 5.224197f-6 9.540149f-7 … 9.588871f-7 5.316316f-6; … ; 5.2567166f-6 9.406942f-7 … 9.573657f-7 5.3140966f-6; 3.3482077f-6 2.034365f-6 … 2.0732125f-6 3.401027f-6]\n",
       "\n",
       "Float32[2.0070142f-6 6.2631216f-7 … 6.254797f-7 1.9755155f-6; 9.540139f-7 5.7288855f-7 … 5.707364f-7 9.301303f-7; … ; 9.396439f-7 5.7137777f-7 … 5.7080064f-7 9.362411f-7; 2.0327902f-6 6.265733f-7 … 6.245572f-7 2.1140945f-6]\n",
       "\n",
       "Float32[9.155538f-8 1.0729938f-7 … 1.0642428f-7 9.478924f-8; 3.18229f-7 1.9013605f-8 … 1.8646661f-8 3.2338255f-7; … ; 3.2129904f-7 1.8581412f-8 … 1.8804828f-8 3.2121238f-7; 8.914809f-8 1.0618037f-7 … 1.0637823f-7 8.1639996f-8]\n",
       "\n",
       "...\n",
       "\n",
       "Float32[8.966346f-8 1.073848f-7 … 1.1217327f-7 8.312013f-8; 3.1135835f-7 1.9599716f-8 … 2.103531f-8 3.0533934f-7; … ; 3.0240327f-7 2.1101219f-8 … 2.1691935f-8 3.0996753f-7; 7.62539f-8 1.1250602f-7 … 1.12601874f-7 7.989056f-8]\n",
       "\n",
       "Float32[2.0283185f-6 6.252173f-7 … 6.259533f-7 2.0137065f-6; 9.666668f-7 5.717516f-7 … 5.7463905f-7 9.683721f-7; … ; 9.820187f-7 5.7342714f-7 … 5.723582f-7 9.720603f-7; 2.1070034f-6 6.236206f-7 … 6.227841f-7 2.1616008f-6]\n",
       "\n",
       "Float32[3.2790422f-6 1.9833426f-6 … 2.0117564f-6 3.339003f-6; 5.3091408f-6 9.366357f-7 … 9.5283855f-7 5.4454017f-6; … ; 5.306919f-6 9.4389065f-7 … 9.718951f-7 5.40616f-6; 3.3945557f-6 2.1224198f-6 … 2.1599883f-6 3.471929f-6],  * Status: failure (reached maximum number of iterations)\n",
       "\n",
       " * Candidate solution\n",
       "    Final objective value:     2.384253e+04\n",
       "\n",
       " * Found with\n",
       "    Algorithm:     L-BFGS\n",
       "\n",
       " * Convergence measures\n",
       "    |x - x'|               = 2.40e-02 ≰ 0.0e+00\n",
       "    |x - x'|/|x'|          = 1.65e-02 ≰ 0.0e+00\n",
       "    |f(x) - f(x')|         = 2.38e-01 ≰ 0.0e+00\n",
       "    |f(x) - f(x')|/|f(x')| = 9.99e-06 ≰ 0.0e+00\n",
       "    |g(x)|                 = 5.03e-02 ≰ 1.0e-08\n",
       "\n",
       " * Work counters\n",
       "    Seconds run:   1  (vs limit Inf)\n",
       "    Iterations:    20\n",
       "    f(x) calls:    24\n",
       "    ∇f(x) calls:   21\n",
       ")"
      ]
     },
     "execution_count": 44,
     "metadata": {},
     "output_type": "execute_result"
    }
   ],
   "source": [
    "@time resG, optim_res = deconvolution(img_n, psf, padding=0.01, loss=Poisson(), regularizer=reg, λ=0.005, iterations=20)"
   ]
  },
  {
   "cell_type": "code",
   "execution_count": 23,
   "metadata": {},
   "outputs": [
    {
     "data": {
      "text/plain": [
       "#15 (generic function with 1 method)"
      ]
     },
     "execution_count": 23,
     "metadata": {},
     "output_type": "execute_result"
    }
   ],
   "source": [
    "reg_c = TV_cuda(num_dims=3)"
   ]
  },
  {
   "cell_type": "code",
   "execution_count": 43,
   "metadata": {
    "scrolled": true
   },
   "outputs": [
    {
     "name": "stdout",
     "output_type": "stream",
     "text": [
      "  0.096906 seconds (275.95 k CPU allocations: 8.722 MiB, 6.91% gc time) (2.62 k GPU allocations: 1.902 GiB, 29.23% gc time of which 55.14% spent allocating)\n"
     ]
    },
    {
     "data": {
      "text/plain": [
       "(Float32[3.045015f-6 2.0078994f-6 … 2.0196912f-6 3.0849617f-6; 5.002893f-6 9.660442f-7 … 9.709617f-7 5.089657f-6; … ; 5.03501f-6 9.52816f-7 … 9.694548f-7 5.087226f-6; 3.1433794f-6 2.0331704f-6 … 2.0718971f-6 3.189721f-6]\n",
       "\n",
       "Float32[2.0064044f-6 5.9198874f-7 … 5.9122414f-7 1.9751637f-6; 9.660439f-7 5.4189445f-7 … 5.3986514f-7 9.421727f-7; … ; 9.5176756f-7 5.404669f-7 … 5.3992744f-7 9.482745f-7; 2.0316158f-6 5.9239756f-7 … 5.903637f-7 2.1116457f-6]\n",
       "\n",
       "Float32[8.038131f-8 9.907793f-8 … 9.825235f-8 8.339545f-8; 2.947896f-7 1.6601708f-8 … 1.6266824f-8 2.9972222f-7; … ; 2.9772346f-7 1.6207226f-8 … 1.641149f-8 2.97639f-7; 7.817928f-8 9.8015235f-8 … 9.820827f-8 7.124253f-8]\n",
       "\n",
       "...\n",
       "\n",
       "Float32[7.862824f-8 9.915883f-8 … 1.0369184f-7 7.255277f-8; 2.8823203f-7 1.7138635f-8 … 1.8455797f-8 2.8247138f-7; … ; 2.7967562f-7 1.8515177f-8 … 1.906087f-8 2.868737f-7; 6.6217716f-8 1.0400511f-7 … 1.0410428f-7 6.959089f-8]\n",
       "\n",
       "Float32[2.0275204f-6 5.9096436f-7 … 5.9168883f-7 2.0132343f-6; 9.786974f-7 5.408386f-7 … 5.435966f-7 9.804604f-7; … ; 9.939556f-7 5.424454f-7 … 5.414094f-7 9.841511f-7; 2.105186f-6 5.894409f-7 … 5.8858484f-7 2.1590376f-6]\n",
       "\n",
       "Float32[3.0788733f-6 1.9828763f-6 … 2.0112896f-6 3.1314387f-6; 5.0824183f-6 9.486447f-7 … 9.650207f-7 5.2093146f-6; … ; 5.080025f-6 9.558836f-7 … 9.83982f-7 5.1699985f-6; 3.183321f-6 2.1198512f-6 … 2.1574485f-6 3.252573f-6],  * Status: failure (reached maximum number of iterations)\n",
       "\n",
       " * Candidate solution\n",
       "    Final objective value:     2.384253e+04\n",
       "\n",
       " * Found with\n",
       "    Algorithm:     L-BFGS\n",
       "\n",
       " * Convergence measures\n",
       "    |x - x'|               = 2.40e-02 ≰ 0.0e+00\n",
       "    |x - x'|/|x'|          = 1.66e-02 ≰ 0.0e+00\n",
       "    |f(x) - f(x')|         = 2.36e-01 ≰ 0.0e+00\n",
       "    |f(x) - f(x')|/|f(x')| = 9.91e-06 ≰ 0.0e+00\n",
       "    |g(x)|                 = 5.07e-02 ≰ 1.0e-08\n",
       "\n",
       " * Work counters\n",
       "    Seconds run:   0  (vs limit Inf)\n",
       "    Iterations:    20\n",
       "    f(x) calls:    24\n",
       "    ∇f(x) calls:   21\n",
       ")"
      ]
     },
     "execution_count": 43,
     "metadata": {},
     "output_type": "execute_result"
    }
   ],
   "source": [
    "CUDA.@time resG_c, optim_res_c = deconvolution(img_n_c, psf_c, padding = 0.01, loss=Poisson(), regularizer=reg_c, λ=0.005, iterations=20)"
   ]
  },
  {
   "cell_type": "code",
   "execution_count": 25,
   "metadata": {
    "scrolled": true
   },
   "outputs": [
    {
     "data": {
      "image/png": "[encoded data removed]",
      "text/plain": [
       "64×192 Array{Gray{Float32},2} with eltype Gray{Float32}:\n",
       " Gray{Float32}(0.0)  Gray{Float32}(0.0)  …  Gray{Float32}(1.48207f-9)\n",
       " Gray{Float32}(0.0)  Gray{Float32}(0.0)     Gray{Float32}(2.55676f-9)\n",
       " Gray{Float32}(0.0)  Gray{Float32}(0.0)     Gray{Float32}(1.6866f-12)\n",
       " Gray{Float32}(0.0)  Gray{Float32}(0.0)     Gray{Float32}(1.23113f-11)\n",
       " Gray{Float32}(0.0)  Gray{Float32}(0.0)     Gray{Float32}(1.87009f-12)\n",
       " Gray{Float32}(0.0)  Gray{Float32}(0.0)  …  Gray{Float32}(2.50986f-11)\n",
       " Gray{Float32}(0.0)  Gray{Float32}(0.0)     Gray{Float32}(5.98318f-11)\n",
       " Gray{Float32}(0.0)  Gray{Float32}(0.0)     Gray{Float32}(9.32627f-11)\n",
       " Gray{Float32}(0.0)  Gray{Float32}(0.0)     Gray{Float32}(1.14987f-10)\n",
       " Gray{Float32}(0.0)  Gray{Float32}(0.0)     Gray{Float32}(1.25825f-10)\n",
       " Gray{Float32}(0.0)  Gray{Float32}(0.0)  …  Gray{Float32}(1.25776f-10)\n",
       " Gray{Float32}(0.0)  Gray{Float32}(0.0)     Gray{Float32}(1.25772f-10)\n",
       " Gray{Float32}(0.0)  Gray{Float32}(0.0)     Gray{Float32}(1.25775f-10)\n",
       " ⋮                                       ⋱  \n",
       " Gray{Float32}(0.0)  Gray{Float32}(0.0)     Gray{Float32}(1.25771f-10)\n",
       " Gray{Float32}(0.0)  Gray{Float32}(0.0)     Gray{Float32}(1.25782f-10)\n",
       " Gray{Float32}(0.0)  Gray{Float32}(0.0)     Gray{Float32}(1.25829f-10)\n",
       " Gray{Float32}(0.0)  Gray{Float32}(0.0)  …  Gray{Float32}(9.87704f-11)\n",
       " Gray{Float32}(0.0)  Gray{Float32}(0.0)     Gray{Float32}(7.92596f-11)\n",
       " Gray{Float32}(0.0)  Gray{Float32}(0.0)     Gray{Float32}(4.95519f-11)\n",
       " Gray{Float32}(0.0)  Gray{Float32}(0.0)     Gray{Float32}(1.95132f-11)\n",
       " Gray{Float32}(0.0)  Gray{Float32}(0.0)     Gray{Float32}(8.88736f-13)\n",
       " Gray{Float32}(0.0)  Gray{Float32}(0.0)  …  Gray{Float32}(1.20943f-11)\n",
       " Gray{Float32}(0.0)  Gray{Float32}(0.0)     Gray{Float32}(1.27294f-13)\n",
       " Gray{Float32}(0.0)  Gray{Float32}(0.0)     Gray{Float32}(2.42265f-9)\n",
       " Gray{Float32}(0.0)  Gray{Float32}(0.0)     Gray{Float32}(1.61012f-9)"
      ]
     },
     "execution_count": 25,
     "metadata": {},
     "output_type": "execute_result"
    }
   ],
   "source": [
    "h_view(img_n[32, :, :], resG[32, :, :], Array(resG_c)[32, :, :])"
   ]
  },
  {
   "cell_type": "code",
   "execution_count": 35,
   "metadata": {},
   "outputs": [
    {
     "data": {
      "text/plain": [
       "true"
      ]
     },
     "execution_count": 35,
     "metadata": {},
     "output_type": "execute_result"
    }
   ],
   "source": [
    ".≈(resG .+ 1, Array(1 .+ resG_c), rtol=1e-2) |> all"
   ]
  }
 ],
 "metadata": {
  "kernelspec": {
   "display_name": "Julia 1.6.1",
   "language": "julia",
   "name": "julia-1.6"
  },
  "language_info": {
   "file_extension": ".jl",
   "mimetype": "application/julia",
   "name": "julia",
   "version": "1.6.1"
  }
 },
 "nbformat": 4,
 "nbformat_minor": 4
}
