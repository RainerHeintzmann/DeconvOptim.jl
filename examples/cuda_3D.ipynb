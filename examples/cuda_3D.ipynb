{
 "cells": [
  {
   "cell_type": "markdown",
   "metadata": {},
   "source": [
    "# Import Modules\n",
    "You may need to install some of them.\n",
    "But if you activate the environment inside this `examples` folder, all dependencies should be included."
   ]
  },
  {
   "cell_type": "code",
   "execution_count": 1,
   "metadata": {},
   "outputs": [],
   "source": [
    "using Pkg\n",
    "Pkg.instantiate()"
   ]
  },
  {
   "cell_type": "markdown",
   "metadata": {},
   "source": [
    "## 3D Example"
   ]
  },
  {
   "cell_type": "code",
   "execution_count": 2,
   "metadata": {},
   "outputs": [
    {
     "name": "stderr",
     "output_type": "stream",
     "text": [
      "┌ Info: DeconvOptim.jl: CUDA.jl is loaded, so include GPU functionality\n",
      "└ @ DeconvOptim /home/fxw/.julia/packages/DeconvOptim/mveIX/src/requires.jl:6\n",
      "┌ Warning: Replacing module `ImageCore`\n",
      "└ @ Base loading.jl:1036\n"
     ]
    },
    {
     "data": {
      "text/plain": [
       "h_view (generic function with 1 method)"
      ]
     },
     "execution_count": 2,
     "metadata": {},
     "output_type": "execute_result"
    }
   ],
   "source": [
    "using Revise, DeconvOptim, TestImages, Noise, CUDA, ImageShow, Colors, FFTW, OffsetArrays\n",
    "\n",
    "FFTW.set_num_threads(4)\n",
    "CUDA.allowscalar(false);\n",
    "\n",
    "h_view(args...) = begin\n",
    "    img = cat(args..., dims=2)\n",
    "    img ./= maximum(img)\n",
    "    Gray.(img)\n",
    "end"
   ]
  },
  {
   "cell_type": "code",
   "execution_count": 3,
   "metadata": {},
   "outputs": [
    {
     "name": "stderr",
     "output_type": "stream",
     "text": [
      "┌ Warning: Replacing module `ImageCore`\n",
      "└ @ Base loading.jl:1036\n"
     ]
    }
   ],
   "source": [
    "# load test images\n",
    "img = Float32.(testimage(\"simple_3d_ball\"))\n",
    "\n",
    "psf = permutedims(ifftshift(OffsetArrays.no_offset_view(Float32.(testimage(\"simple_3d_psf\")))), (3,1,2))\n",
    "psf_c = CuArray(psf)\n",
    "\n",
    "img_b = conv(img, psf, [1,2,3])\n",
    "img_n = poisson(img_b, 300);\n",
    "\n",
    "img_n_c = CuArray(img_n);"
   ]
  },
  {
   "cell_type": "code",
   "execution_count": 4,
   "metadata": {
    "scrolled": false
   },
   "outputs": [
    {
     "data": {
      "text/plain": [
       "#160 (generic function with 1 method)"
      ]
     },
     "execution_count": 4,
     "metadata": {},
     "output_type": "execute_result"
    }
   ],
   "source": [
    "reg = TV(mode=\"forward\", num_dims=3)"
   ]
  },
  {
   "cell_type": "code",
   "execution_count": 12,
   "metadata": {},
   "outputs": [
    {
     "name": "stdout",
     "output_type": "stream",
     "text": [
      "  0.537033 seconds (37.41 k allocations: 383.904 MiB, 1.80% gc time)\n"
     ]
    },
    {
     "data": {
      "text/plain": [
       "([0.00012671082 0.00029431473 … 0.00030053046 0.00013208551; 4.0987587f-5 0.00033449443 … 0.00033617337 4.737917f-5; … ; 4.0480983f-5 0.00033495665 … 0.0003334541 4.7522488f-5; 0.0001237056 0.000295984 … 0.00030174016 0.00013284705;;; 0.00029436898 8.339931f-5 … 8.407723f-5 0.00029890492; 0.00033448447 3.8971408f-5 … 3.8947423f-5 0.00034336536; … ; 0.00033495764 3.833878f-5 … 3.9274753f-5 0.0003433388; 0.00029603738 8.282181f-5 … 8.357156f-5 0.00029926785;;; 0.00027195984 2.0081428f-7 … 1.237464f-7 0.0002703428; 0.00020410237 1.4251748f-6 … 1.5024924f-6 0.00020802644; … ; 0.00020345999 1.5339524f-6 … 1.4701264f-6 0.00020857196; 0.0002718016 1.7281434f-7 … 1.2927956f-7 0.00027132328;;; … ;;; 0.0002751577 1.6564415f-7 … 1.6660144f-7 0.00027384565; 0.00021121383 1.4080651f-6 … 1.2386619f-6 0.00020966574; … ; 0.00022075421 1.0819895f-6 … 1.2759429f-6 0.00021491422; 0.00028425307 4.4040567f-7 … 2.581326f-7 0.00027663025;;; 0.00030017318 8.446014f-5 … 8.287391f-5 0.00030152337; 0.00033585174 3.9228875f-5 … 3.812017f-5 0.00033247552; … ; 0.00032684323 4.460977f-5 … 4.1559688f-5 0.00033084635; 0.0002873643 9.2270406f-5 … 8.30314f-5 0.00029791688;;; 0.0001324019 0.000298526 … 0.00030156577 0.00014253812; 4.7676334f-5 0.00034321216 … 0.00033247168 4.4289725f-5; … ; 6.2069805f-5 0.00033753552 … 0.00033089082 4.416554f-5; 0.0001334425 0.00029809456 … 0.000297798 0.00014269691],  * Status: failure (reached maximum number of iterations)\n",
       "\n",
       " * Candidate solution\n",
       "    Final objective value:     -2.544760e+05\n",
       "\n",
       " * Found with\n",
       "    Algorithm:     L-BFGS\n",
       "\n",
       " * Convergence measures\n",
       "    |x - x'|               = 1.54e-01 ≰ 0.0e+00\n",
       "    |x - x'|/|x'|          = 2.14e-02 ≰ 0.0e+00\n",
       "    |f(x) - f(x')|         = 5.55e+00 ≰ 0.0e+00\n",
       "    |f(x) - f(x')|/|f(x')| = 2.18e-05 ≰ 0.0e+00\n",
       "    |g(x)|                 = 2.53e-01 ≰ 1.0e-08\n",
       "\n",
       " * Work counters\n",
       "    Seconds run:   1  (vs limit Inf)\n",
       "    Iterations:    20\n",
       "    f(x) calls:    23\n",
       "    ∇f(x) calls:   21\n",
       ")"
      ]
     },
     "execution_count": 12,
     "metadata": {},
     "output_type": "execute_result"
    }
   ],
   "source": [
    "@time resG, optim_res = deconvolution(img_n, psf, padding=0.01, loss=Poisson(), regularizer=reg, λ=0.005, iterations=20)"
   ]
  },
  {
   "cell_type": "code",
   "execution_count": 6,
   "metadata": {},
   "outputs": [
    {
     "data": {
      "text/plain": [
       "#25 (generic function with 1 method)"
      ]
     },
     "execution_count": 6,
     "metadata": {},
     "output_type": "execute_result"
    }
   ],
   "source": [
    "reg_c = TV_cuda(num_dims=3)"
   ]
  },
  {
   "cell_type": "code",
   "execution_count": 13,
   "metadata": {
    "scrolled": true
   },
   "outputs": [
    {
     "name": "stdout",
     "output_type": "stream",
     "text": [
      "  0.098249 seconds (115.31 k CPU allocations: 9.139 MiB, 9.17% gc time) (1.76 k GPU allocations: 1.138 GiB, 14.41% memmgmt time)\n"
     ]
    },
    {
     "data": {
      "text/plain": [
       "([0.00012672764 0.0002937549 … 0.00029996983 0.00013214552; 4.1086325f-5 0.0003339746 … 0.00033565535 4.7484187f-5; … ; 4.0575567f-5 0.0003344322 … 0.00033294514 4.7628826f-5; 0.00012374655 0.00029542283 … 0.0003011745 0.00013290724;;; 0.0002938089 8.340971f-5 … 8.408828f-5 0.00029834578; 0.00033396386 3.9000108f-5 … 3.897874f-5 0.00034285247; … ; 0.0003344333 3.8367805f-5 … 3.9305192f-5 0.00034282837; 0.00029547574 8.283344f-5 … 8.35834f-5 0.00029870836;;; 0.00027176904 2.0346806f-7 … 1.2591622f-7 0.00027014973; 0.0002040167 1.4188773f-6 … 1.4961162f-6 0.00020793073; … ; 0.00020337499 1.5274318f-6 … 1.4638534f-6 0.0002084754; 0.00027161257 1.7525777f-7 … 1.3150628f-7 0.00027112776;;; … ;;; 0.00027495567 1.6813824f-7 … 1.690906f-7 0.00027365182; 0.00021111334 1.4016274f-6 … 1.2328011f-6 0.00020957585; … ; 0.00022065018 1.0758595f-6 … 1.2698249f-6 0.00021481571; 0.0002840395 4.4477216f-7 … 2.612373f-7 0.00027642897;;; 0.00029961177 8.4471365f-5 … 8.288273f-5 0.00030095584; 0.00033533355 3.925998f-5 … 3.814886f-5 0.0003319503; … ; 0.0003263181 4.464466f-5 … 4.1589825f-5 0.0003303231; 0.0002867945 9.228454f-5 … 8.304124f-5 0.00029734647;;; 0.00013246163 0.00029796598 … 0.00030099566 0.0001425666; 4.7781195f-5 0.000342699 … 0.00033194508 4.439357f-5; … ; 6.219278f-5 0.00033700946 … 0.0003303652 4.426944f-5; 0.00013350244 0.0002975356 … 0.00029722654 0.00014273406],  * Status: failure (reached maximum number of iterations)\n",
       "\n",
       " * Candidate solution\n",
       "    Final objective value:     -2.544758e+05\n",
       "\n",
       " * Found with\n",
       "    Algorithm:     L-BFGS\n",
       "\n",
       " * Convergence measures\n",
       "    |x - x'|               = 1.54e-01 ≰ 0.0e+00\n",
       "    |x - x'|/|x'|          = 2.14e-02 ≰ 0.0e+00\n",
       "    |f(x) - f(x')|         = 5.53e+00 ≰ 0.0e+00\n",
       "    |f(x) - f(x')|/|f(x')| = 2.17e-05 ≰ 0.0e+00\n",
       "    |g(x)|                 = 2.53e-01 ≰ 1.0e-08\n",
       "\n",
       " * Work counters\n",
       "    Seconds run:   0  (vs limit Inf)\n",
       "    Iterations:    20\n",
       "    f(x) calls:    23\n",
       "    ∇f(x) calls:   21\n",
       ")"
      ]
     },
     "execution_count": 13,
     "metadata": {},
     "output_type": "execute_result"
    }
   ],
   "source": [
    "CUDA.@time resG_c, optim_res_c = deconvolution(img_n_c, psf_c, padding = 0.01, loss=Poisson(), regularizer=reg_c, λ=0.005, iterations=20)"
   ]
  },
  {
   "cell_type": "code",
   "execution_count": 14,
   "metadata": {
    "scrolled": true
   },
   "outputs": [
    {
     "data": {
      "image/png": "[encoded data removed]",
      "text/html": [
       "<img style='display:inline' src=\"data:image/png;base64,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\">"
      ],
      "text/plain": [
       "64×192 Array{Gray{Float32},2} with eltype Gray{Float32}:\n",
       " Gray{Float32}(0.0)  Gray{Float32}(0.0)  …  Gray{Float32}(2.11887f-6)\n",
       " Gray{Float32}(0.0)  Gray{Float32}(0.0)     Gray{Float32}(1.10464f-7)\n",
       " Gray{Float32}(0.0)  Gray{Float32}(0.0)     Gray{Float32}(2.9949f-8)\n",
       " Gray{Float32}(0.0)  Gray{Float32}(0.0)     Gray{Float32}(4.89404f-8)\n",
       " Gray{Float32}(0.0)  Gray{Float32}(0.0)     Gray{Float32}(4.40989f-8)\n",
       " Gray{Float32}(0.0)  Gray{Float32}(0.0)  …  Gray{Float32}(4.15412f-8)\n",
       " Gray{Float32}(0.0)  Gray{Float32}(0.0)     Gray{Float32}(3.94938f-8)\n",
       " Gray{Float32}(0.0)  Gray{Float32}(0.0)     Gray{Float32}(3.77232f-8)\n",
       " Gray{Float32}(0.0)  Gray{Float32}(0.0)     Gray{Float32}(3.46771f-8)\n",
       " Gray{Float32}(0.0)  Gray{Float32}(0.0)     Gray{Float32}(3.41708f-8)\n",
       " Gray{Float32}(0.0)  Gray{Float32}(0.0)  …  Gray{Float32}(3.60068f-8)\n",
       " Gray{Float32}(0.0)  Gray{Float32}(0.0)     Gray{Float32}(3.60334f-8)\n",
       " Gray{Float32}(0.0)  Gray{Float32}(0.0)     Gray{Float32}(3.60557f-8)\n",
       " ⋮                                       ⋱  \n",
       " Gray{Float32}(0.0)  Gray{Float32}(0.0)     Gray{Float32}(3.54121f-8)\n",
       " Gray{Float32}(0.0)  Gray{Float32}(0.0)     Gray{Float32}(3.72947f-8)\n",
       " Gray{Float32}(0.0)  Gray{Float32}(0.0)     Gray{Float32}(3.61795f-8)\n",
       " Gray{Float32}(0.0)  Gray{Float32}(0.0)  …  Gray{Float32}(3.66353f-8)\n",
       " Gray{Float32}(0.0)  Gray{Float32}(0.0)     Gray{Float32}(3.76488f-8)\n",
       " Gray{Float32}(0.0)  Gray{Float32}(0.0)     Gray{Float32}(3.93911f-8)\n",
       " Gray{Float32}(0.0)  Gray{Float32}(0.0)     Gray{Float32}(4.15963f-8)\n",
       " Gray{Float32}(0.0)  Gray{Float32}(0.0)     Gray{Float32}(4.42898f-8)\n",
       " Gray{Float32}(0.0)  Gray{Float32}(0.0)  …  Gray{Float32}(4.79846f-8)\n",
       " Gray{Float32}(0.0)  Gray{Float32}(0.0)     Gray{Float32}(3.00796f-8)\n",
       " Gray{Float32}(0.0)  Gray{Float32}(0.0)     Gray{Float32}(8.92444f-8)\n",
       " Gray{Float32}(0.0)  Gray{Float32}(0.0)     Gray{Float32}(2.08327f-6)"
      ]
     },
     "execution_count": 14,
     "metadata": {},
     "output_type": "execute_result"
    }
   ],
   "source": [
    "h_view(img_n[32, :, :], resG[32, :, :], Array(resG_c)[32, :, :])"
   ]
  },
  {
   "cell_type": "code",
   "execution_count": 15,
   "metadata": {},
   "outputs": [
    {
     "data": {
      "text/plain": [
       "true"
      ]
     },
     "execution_count": 15,
     "metadata": {},
     "output_type": "execute_result"
    }
   ],
   "source": [
    ".≈(resG .+ 1, Array(1 .+ resG_c), rtol=1e-2) |> all"
   ]
  },
  {
   "cell_type": "code",
   "execution_count": null,
   "metadata": {},
   "outputs": [],
   "source": []
  }
 ],
 "metadata": {
  "kernelspec": {
   "display_name": "Julia 1.7.2",
   "language": "julia",
   "name": "julia-1.7"
  },
  "language_info": {
   "file_extension": ".jl",
   "mimetype": "application/julia",
   "name": "julia",
   "version": "1.7.2"
  }
 },
 "nbformat": 4,
 "nbformat_minor": 4
}
