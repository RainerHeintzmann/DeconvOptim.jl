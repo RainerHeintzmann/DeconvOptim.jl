{
 "cells": [
  {
   "cell_type": "markdown",
   "metadata": {},
   "source": [
    "## 3D Example"
   ]
  },
  {
   "cell_type": "code",
   "execution_count": 24,
   "metadata": {},
   "outputs": [
    {
     "data": {
      "text/plain": [
       "h_view (generic function with 1 method)"
      ]
     },
     "execution_count": 24,
     "metadata": {},
     "output_type": "execute_result"
    }
   ],
   "source": [
    "using Revise, DeconvOptim, TestImages, Noise, CUDA, ImageShow, Colors, FFTW, OffsetArrays\n",
    "FFTW.set_num_threads(4)\n",
    "CUDA.allowscalar(false);\n",
    "\n",
    "h_view(args...) = begin\n",
    "    img = cat(args..., dims=2)\n",
    "    img ./= maximum(img)\n",
    "    Gray.(img)\n",
    "end"
   ]
  },
  {
   "cell_type": "code",
   "execution_count": 8,
   "metadata": {},
   "outputs": [],
   "source": [
    "# load test images\n",
    "img = Float32.(testimage(\"simple_3d_ball\"))\n",
    "\n",
    "psf = permutedims(ifftshift(OffsetArrays.no_offset_view(Float32.(testimage(\"simple_3d_psf\")))), (3,1,2))\n",
    "psf_c = CuArray(psf)\n",
    "\n",
    "img_b = conv_psf(img, psf, [1,2,3])\n",
    "img_n = poisson(img_b, 300);\n",
    "\n",
    "img_n_c = CuArray(img_n);"
   ]
  },
  {
   "cell_type": "code",
   "execution_count": 3,
   "metadata": {
    "scrolled": false
   },
   "outputs": [
    {
     "data": {
      "text/plain": [
       "#88 (generic function with 1 method)"
      ]
     },
     "execution_count": 3,
     "metadata": {},
     "output_type": "execute_result"
    }
   ],
   "source": [
    "reg = TV(mode=\"forward\", num_dims=3)"
   ]
  },
  {
   "cell_type": "code",
   "execution_count": 21,
   "metadata": {},
   "outputs": [
    {
     "name": "stdout",
     "output_type": "stream",
     "text": [
      "  1.471627 seconds (37.99 k allocations: 1.429 GiB, 17.39% gc time)\n"
     ]
    },
    {
     "data": {
      "text/plain": [
       "(Float32[0.00041543168 0.00019105685 … 0.00019018567 0.0004165984; 0.00052802154 7.8586796f-5 … 7.779983f-5 0.00052907586; … ; 0.0005297326 7.721158f-5 … 7.750555f-5 0.0005290768; 0.00041756945 0.00018917074 … 0.00018975111 0.0004165986]\n",
       "\n",
       "Float32[0.00019091163 0.00017055433 … 0.00017074833 0.00018975054; 7.858684f-5 0.0001792825 … 0.00017917526 7.750536f-5; … ; 7.711407f-5 0.00017912535 … 0.00017917548 7.77996f-5; 0.00018902589 0.00017091646 … 0.00017074816 0.00019018538]\n",
       "\n",
       "Float32[2.390524f-5 6.388624f-5 … 6.352821f-5 2.428523f-5; 7.842095f-5 1.8770714f-5 … 1.8518636f-5 7.910969f-5; … ; 7.922431f-5 1.8472982f-5 … 1.8633016f-5 7.870807f-5; 2.4412771f-5 6.3369305f-5 … 6.3687374f-5 2.4031786f-5]\n",
       "\n",
       "...\n",
       "\n",
       "Float32[2.3821029f-5 6.44249f-5 … 6.458412f-5 2.2683182f-5; 7.836351f-5 1.90697f-5 … 2.0176325f-5 7.517197f-5; … ; 7.573066f-5 1.9815936f-5 … 2.2095439f-5 6.626829f-5; 2.2138596f-5 6.546177f-5 … 6.924656f-5 1.641233f-5]\n",
       "\n",
       "Float32[0.0001909122 0.00017055421 … 0.00017091633 0.0001891712; 7.848858f-5 0.00017927287 … 0.00017899982 7.902127f-5; … ; 7.809458f-5 0.00017920589 … 0.00017782472 7.858684f-5; 0.0001904764 0.0001705542 … 0.00016759643 0.00019105664]\n",
       "\n",
       "Float32[0.00041621152 0.00019047646 … 0.0001890253 0.00041757032; 0.0005286822 7.8094505f-5 … 7.711355f-5 0.0005297323; … ; 0.00052868243 7.8488505f-5 … 7.858664f-5 0.0005280214; 0.0004162105 0.00019091145 … 0.0001909108 0.0004154322],  * Status: failure (reached maximum number of iterations)\n",
       "\n",
       " * Candidate solution\n",
       "    Final objective value:     2.347090e+04\n",
       "\n",
       " * Found with\n",
       "    Algorithm:     L-BFGS\n",
       "\n",
       " * Convergence measures\n",
       "    |x - x'|               = 7.48e-02 ≰ 0.0e+00\n",
       "    |x - x'|/|x'|          = 3.97e-02 ≰ 0.0e+00\n",
       "    |f(x) - f(x')|         = 3.03e-01 ≰ 0.0e+00\n",
       "    |f(x) - f(x')|/|f(x')| = 1.29e-05 ≰ 0.0e+00\n",
       "    |g(x)|                 = 1.90e-02 ≰ 1.0e-08\n",
       "\n",
       " * Work counters\n",
       "    Seconds run:   1  (vs limit Inf)\n",
       "    Iterations:    20\n",
       "    f(x) calls:    61\n",
       "    ∇f(x) calls:   61\n",
       ")"
      ]
     },
     "execution_count": 21,
     "metadata": {},
     "output_type": "execute_result"
    }
   ],
   "source": [
    "@time resG, optim_res = deconvolution(img_n, psf, padding=0.01, loss=Poisson(), regularizer=nothing, λ=0.005, iterations=20)"
   ]
  },
  {
   "cell_type": "code",
   "execution_count": 13,
   "metadata": {},
   "outputs": [
    {
     "data": {
      "text/plain": [
       "#56 (generic function with 1 method)"
      ]
     },
     "execution_count": 13,
     "metadata": {},
     "output_type": "execute_result"
    }
   ],
   "source": [
    "reg_c = TV_cuda(num_dims=3)"
   ]
  },
  {
   "cell_type": "code",
   "execution_count": 17,
   "metadata": {
    "scrolled": true
   },
   "outputs": [
    {
     "name": "stdout",
     "output_type": "stream",
     "text": [
      "  0.129492 seconds (127.80 k allocations: 5.748 MiB)\n"
     ]
    },
    {
     "data": {
      "text/plain": [
       "(Float32[0.00041444186 0.00019670745 … 0.00019583215 0.00041561452; 0.000527871 8.303348f-5 … 8.223077f-5 0.0005289389; … ; 0.00052960153 8.163162f-5 … 8.1931285f-5 0.00052893796; 0.0004165898 0.00019481202 … 0.00019539468 0.000415614]\n",
       "\n",
       "Float32[0.00019656081 0.0001605651 … 0.00016075409 0.00019539402; 8.303263f-5 0.00016938505 … 0.00016928554 8.193063f-5; … ; 8.153181f-5 0.00016923947 … 0.00016928553 8.223005f-5; 0.00019466614 0.00016091819 … 0.0001607542 0.00019583138]\n",
       "\n",
       "Float32[2.0596914f-5 5.9626404f-5 … 5.928636f-5 2.0947746f-5; 7.1920156f-5 1.7004671f-5 … 1.676873f-5 7.2576026f-5; … ; 7.2685594f-5 1.6725988f-5 … 1.6875727f-5 7.219367f-5; 2.106479f-5 5.913526f-5 … 5.9437418f-5 2.0713926f-5]\n",
       "\n",
       "...\n",
       "\n",
       "Float32[2.0519448f-5 6.013763f-5 … 6.028883f-5 1.9472784f-5; 7.1866154f-5 1.7283939f-5 … 1.8319184f-5 6.8832866f-5; … ; 6.936289f-5 1.798193f-5 … 2.0113579f-5 6.0385777f-5; 1.8971941f-5 6.1122206f-5 … 6.4713175f-5 1.37411635f-5]\n",
       "\n",
       "Float32[0.00019656091 0.00016056483 … 0.00016091812 0.00019481126; 8.2932595f-5 0.00016937577 … 0.0001691106 8.347455f-5; … ; 8.253099f-5 0.00016930774 … 0.00016794757 8.303272f-5; 0.0001961225 0.00016056484 … 0.00015770871 0.00019670645]\n",
       "\n",
       "Float32[0.00041522385 0.0001961225 … 0.00019466635 0.00041659048; 0.000528539 8.253141f-5 … 8.1531136f-5 0.0005296019; … ; 0.0005285393 8.29316f-5 … 8.3032486f-5 0.00052787055; 0.00041522464 0.00019656133 … 0.00019656133 0.00041444218],  * Status: failure (reached maximum number of iterations)\n",
       "\n",
       " * Candidate solution\n",
       "    Final objective value:     2.347090e+04\n",
       "\n",
       " * Found with\n",
       "    Algorithm:     L-BFGS\n",
       "\n",
       " * Convergence measures\n",
       "    |x - x'|               = 7.44e-02 ≰ 0.0e+00\n",
       "    |x - x'|/|x'|          = 3.95e-02 ≰ 0.0e+00\n",
       "    |f(x) - f(x')|         = 3.03e-01 ≰ 0.0e+00\n",
       "    |f(x) - f(x')|/|f(x')| = 1.29e-05 ≰ 0.0e+00\n",
       "    |g(x)|                 = 1.91e-02 ≰ 1.0e-08\n",
       "\n",
       " * Work counters\n",
       "    Seconds run:   0  (vs limit Inf)\n",
       "    Iterations:    20\n",
       "    f(x) calls:    81\n",
       "    ∇f(x) calls:   81\n",
       ")"
      ]
     },
     "execution_count": 17,
     "metadata": {},
     "output_type": "execute_result"
    }
   ],
   "source": [
    "@time resG_c, optim_res_c = deconvolution(img_n_c, psf_c, padding = 0.01, loss=Poisson(), regularizer=nothing, λ=0.005, iterations=20)"
   ]
  },
  {
   "cell_type": "code",
   "execution_count": 18,
   "metadata": {
    "scrolled": true
   },
   "outputs": [
    {
     "data": {
      "image/png": "[encoded data removed]",
      "text/plain": [
       "64×192 Array{Gray{Float32},2} with eltype Gray{Float32}:\n",
       " Gray{Float32}(0.0)  Gray{Float32}(0.0)  …  Gray{Float32}(8.77939f-8)\n",
       " Gray{Float32}(0.0)  Gray{Float32}(0.0)     Gray{Float32}(5.37692f-7)\n",
       " Gray{Float32}(0.0)  Gray{Float32}(0.0)     Gray{Float32}(3.07313f-9)\n",
       " Gray{Float32}(0.0)  Gray{Float32}(0.0)     Gray{Float32}(6.03316f-8)\n",
       " Gray{Float32}(0.0)  Gray{Float32}(0.0)     Gray{Float32}(1.04655f-7)\n",
       " Gray{Float32}(0.0)  Gray{Float32}(0.0)  …  Gray{Float32}(1.2075f-7)\n",
       " Gray{Float32}(0.0)  Gray{Float32}(0.0)     Gray{Float32}(1.28337f-7)\n",
       " Gray{Float32}(0.0)  Gray{Float32}(0.0)     Gray{Float32}(1.32029f-7)\n",
       " Gray{Float32}(0.0)  Gray{Float32}(0.0)     Gray{Float32}(1.33584f-7)\n",
       " Gray{Float32}(0.0)  Gray{Float32}(0.0)     Gray{Float32}(1.34196f-7)\n",
       " Gray{Float32}(0.0)  Gray{Float32}(0.0)  …  Gray{Float32}(1.34196f-7)\n",
       " Gray{Float32}(0.0)  Gray{Float32}(0.0)     Gray{Float32}(1.34196f-7)\n",
       " Gray{Float32}(0.0)  Gray{Float32}(0.0)     Gray{Float32}(1.34196f-7)\n",
       " ⋮                                       ⋱  \n",
       " Gray{Float32}(0.0)  Gray{Float32}(0.0)     Gray{Float32}(1.34196f-7)\n",
       " Gray{Float32}(0.0)  Gray{Float32}(0.0)     Gray{Float32}(1.34196f-7)\n",
       " Gray{Float32}(0.0)  Gray{Float32}(0.0)     Gray{Float32}(1.34196f-7)\n",
       " Gray{Float32}(0.0)  Gray{Float32}(0.0)  …  Gray{Float32}(1.34635f-7)\n",
       " Gray{Float32}(0.0)  Gray{Float32}(0.0)     Gray{Float32}(1.33098f-7)\n",
       " Gray{Float32}(0.0)  Gray{Float32}(0.0)     Gray{Float32}(1.28421f-7)\n",
       " Gray{Float32}(0.0)  Gray{Float32}(0.0)     Gray{Float32}(1.19386f-7)\n",
       " Gray{Float32}(0.0)  Gray{Float32}(0.0)     Gray{Float32}(1.01253f-7)\n",
       " Gray{Float32}(0.0)  Gray{Float32}(0.0)  …  Gray{Float32}(5.65716f-8)\n",
       " Gray{Float32}(0.0)  Gray{Float32}(0.0)     Gray{Float32}(3.84483f-9)\n",
       " Gray{Float32}(0.0)  Gray{Float32}(0.0)     Gray{Float32}(5.3701f-7)\n",
       " Gray{Float32}(0.0)  Gray{Float32}(0.0)     Gray{Float32}(8.74038f-8)"
      ]
     },
     "execution_count": 18,
     "metadata": {},
     "output_type": "execute_result"
    }
   ],
   "source": [
    "h_view(img_n[32, :, :], resG[32, :, :], Array(resG_c)[32, :, :])"
   ]
  },
  {
   "cell_type": "code",
   "execution_count": 23,
   "metadata": {},
   "outputs": [
    {
     "data": {
      "text/plain": [
       "true"
      ]
     },
     "execution_count": 23,
     "metadata": {},
     "output_type": "execute_result"
    }
   ],
   "source": [
    "resG ≈ Array(resG_c)"
   ]
  }
 ],
 "metadata": {
  "kernelspec": {
   "display_name": "Julia 1.6.0-beta1",
   "language": "julia",
   "name": "julia-1.6"
  },
  "language_info": {
   "file_extension": ".jl",
   "mimetype": "application/julia",
   "name": "julia",
   "version": "1.6.0"
  }
 },
 "nbformat": 4,
 "nbformat_minor": 4
}
